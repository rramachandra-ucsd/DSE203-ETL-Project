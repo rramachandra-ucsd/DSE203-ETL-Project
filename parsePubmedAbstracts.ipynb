{
 "cells": [
  {
   "cell_type": "markdown",
   "id": "ccb445e3",
   "metadata": {},
   "source": [
    "parsePubmedAbstracts\n",
    "\n",
    "Mary Kate Montgomery\n",
    "\n",
    "11/17/21\n",
    "\n",
    "\n",
    "Script to parse search results exported from PubMed in \"PubMed\" text format. Pulls PMID values and Abstracts (if the entry has one) then saves them to a csv."
   ]
  },
  {
   "cell_type": "code",
   "execution_count": 90,
   "id": "16a424d7",
   "metadata": {},
   "outputs": [],
   "source": [
    "# Import libraries\n",
    "import pandas as pd\n",
    "import numpy as np"
   ]
  },
  {
   "cell_type": "code",
   "execution_count": 91,
   "id": "970fb7e1",
   "metadata": {},
   "outputs": [],
   "source": [
    "# Read text file\n",
    "topic = 'Pacemaker'\n",
    "with open(topic+'/PubMed-'+topic+'.txt') as f:\n",
    "    lines = f.readlines()"
   ]
  },
  {
   "cell_type": "code",
   "execution_count": 92,
   "id": "b1aac447",
   "metadata": {},
   "outputs": [],
   "source": [
    "ct = -1\n",
    "keys = []; vals = []\n",
    "for l in lines:\n",
    "    if '- ' in l:\n",
    "        key = l.split('- ')[0]\n",
    "        keys.append(key)\n",
    "        vals.append(l.replace(key+'- ','').replace('\\n',''))\n",
    "        ct += 1\n",
    "    else:\n",
    "        vals[ct] = vals[ct] + l.replace('\\n','').strip() + ' '\n",
    "pb = pd.DataFrame({'key':keys,'val':vals})"
   ]
  },
  {
   "cell_type": "code",
   "execution_count": 93,
   "id": "5dc82131",
   "metadata": {},
   "outputs": [],
   "source": [
    "# Get just PMIDs and Abstracts\n",
    "pmids = []; abss = []; id_locs = []\n",
    "# Get locs of PMIDs\n",
    "for l in range(len(pb)):\n",
    "    if pb.loc[l,'key'] == 'PMID':\n",
    "        id_locs.append(l)\n",
    "# Get PMIDs and ABs\n",
    "for i in range(len(id_locs)-1):\n",
    "    pmids.append(pb.loc[id_locs[i],'val'])\n",
    "    found = False\n",
    "    for j in range(id_locs[i],id_locs[i+1]):\n",
    "        if pb.loc[j,'key'] == 'AB  ':\n",
    "            abss.append(pb.loc[j,'val'])\n",
    "            found = True\n",
    "    # Handle items w/ no abstract\n",
    "    if found == False:\n",
    "        abss.append('')"
   ]
  },
  {
   "cell_type": "code",
   "execution_count": 94,
   "id": "0260a55d",
   "metadata": {},
   "outputs": [
    {
     "data": {
      "text/html": [
       "<div>\n",
       "<style scoped>\n",
       "    .dataframe tbody tr th:only-of-type {\n",
       "        vertical-align: middle;\n",
       "    }\n",
       "\n",
       "    .dataframe tbody tr th {\n",
       "        vertical-align: top;\n",
       "    }\n",
       "\n",
       "    .dataframe thead th {\n",
       "        text-align: right;\n",
       "    }\n",
       "</style>\n",
       "<table border=\"1\" class=\"dataframe\">\n",
       "  <thead>\n",
       "    <tr style=\"text-align: right;\">\n",
       "      <th></th>\n",
       "      <th>PMID</th>\n",
       "      <th>Abstract</th>\n",
       "    </tr>\n",
       "  </thead>\n",
       "  <tbody>\n",
       "    <tr>\n",
       "      <th>0</th>\n",
       "      <td>31070324</td>\n",
       "      <td>The Micra® leadless pacemaker has demonstrated...</td>\n",
       "    </tr>\n",
       "    <tr>\n",
       "      <th>1</th>\n",
       "      <td>31373521</td>\n",
       "      <td>Aims: Novel leadless pacemakers (LPMs) may red...</td>\n",
       "    </tr>\n",
       "    <tr>\n",
       "      <th>2</th>\n",
       "      <td>30893006</td>\n",
       "      <td></td>\n",
       "    </tr>\n",
       "    <tr>\n",
       "      <th>3</th>\n",
       "      <td>30936325</td>\n",
       "      <td>Runaway pacemaker is phenomenon in which pacem...</td>\n",
       "    </tr>\n",
       "    <tr>\n",
       "      <th>4</th>\n",
       "      <td>28956076</td>\n",
       "      <td>BACKGROUND: Most outpatient follow-ups after p...</td>\n",
       "    </tr>\n",
       "    <tr>\n",
       "      <th>...</th>\n",
       "      <td>...</td>\n",
       "      <td>...</td>\n",
       "    </tr>\n",
       "    <tr>\n",
       "      <th>9348</th>\n",
       "      <td>28304219</td>\n",
       "      <td>BACKGROUND: Although transcatheter aortic-valv...</td>\n",
       "    </tr>\n",
       "    <tr>\n",
       "      <th>9349</th>\n",
       "      <td>30883053</td>\n",
       "      <td>BACKGROUND: Transcatheter aortic-valve replace...</td>\n",
       "    </tr>\n",
       "    <tr>\n",
       "      <th>9350</th>\n",
       "      <td>32913013</td>\n",
       "      <td>OBJECTIVE: To define the risks and consequence...</td>\n",
       "    </tr>\n",
       "    <tr>\n",
       "      <th>9351</th>\n",
       "      <td>28613276</td>\n",
       "      <td>Reduced cardiac vagal control reflected in low...</td>\n",
       "    </tr>\n",
       "    <tr>\n",
       "      <th>9352</th>\n",
       "      <td>25915904</td>\n",
       "      <td>BACKGROUND: Few data are available regarding t...</td>\n",
       "    </tr>\n",
       "  </tbody>\n",
       "</table>\n",
       "<p>9353 rows × 2 columns</p>\n",
       "</div>"
      ],
      "text/plain": [
       "          PMID                                           Abstract\n",
       "0     31070324  The Micra® leadless pacemaker has demonstrated...\n",
       "1     31373521  Aims: Novel leadless pacemakers (LPMs) may red...\n",
       "2     30893006                                                   \n",
       "3     30936325  Runaway pacemaker is phenomenon in which pacem...\n",
       "4     28956076  BACKGROUND: Most outpatient follow-ups after p...\n",
       "...        ...                                                ...\n",
       "9348  28304219  BACKGROUND: Although transcatheter aortic-valv...\n",
       "9349  30883053  BACKGROUND: Transcatheter aortic-valve replace...\n",
       "9350  32913013  OBJECTIVE: To define the risks and consequence...\n",
       "9351  28613276  Reduced cardiac vagal control reflected in low...\n",
       "9352  25915904  BACKGROUND: Few data are available regarding t...\n",
       "\n",
       "[9353 rows x 2 columns]"
      ]
     },
     "execution_count": 94,
     "metadata": {},
     "output_type": "execute_result"
    }
   ],
   "source": [
    "# Put in dataframe\n",
    "df_abs = pd.DataFrame({'PMID':pmids,'Abstract':abss})\n",
    "df_abs"
   ]
  },
  {
   "cell_type": "code",
   "execution_count": null,
   "id": "7427aad8",
   "metadata": {},
   "outputs": [],
   "source": [
    "# Read rest of data\n",
    "df_pub = pd.read_csv(topic+'/PubMed-'+topic+'.csv')\n",
    "df_pub = df_pub.set_index('PMID')\n",
    "df_pub.head()"
   ]
  },
  {
   "cell_type": "code",
   "execution_count": null,
   "id": "dd09fa68",
   "metadata": {},
   "outputs": [],
   "source": [
    "# Join together\n",
    "df_full = df_pub.join(df_abs)\n",
    "df_full.head()"
   ]
  },
  {
   "cell_type": "code",
   "execution_count": null,
   "id": "3ed95f03",
   "metadata": {},
   "outputs": [],
   "source": [
    "# Write to file\n",
    "df_full.to_csv(topic+'/PubMed_wAbstracts-'+topic+'.csv')"
   ]
  }
 ],
 "metadata": {
  "kernelspec": {
   "display_name": "Python 3 (ipykernel)",
   "language": "python",
   "name": "python3"
  },
  "language_info": {
   "codemirror_mode": {
    "name": "ipython",
    "version": 3
   },
   "file_extension": ".py",
   "mimetype": "text/x-python",
   "name": "python",
   "nbconvert_exporter": "python",
   "pygments_lexer": "ipython3",
   "version": "3.8.11"
  }
 },
 "nbformat": 4,
 "nbformat_minor": 5
}
