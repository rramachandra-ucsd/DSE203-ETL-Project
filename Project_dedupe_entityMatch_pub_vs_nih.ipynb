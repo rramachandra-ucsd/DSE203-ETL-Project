{
 "cells": [
  {
   "cell_type": "code",
   "execution_count": 1,
   "metadata": {},
   "outputs": [
    {
     "name": "stderr",
     "output_type": "stream",
     "text": [
      "C:\\Users\\shitiza\\Anaconda3\\lib\\site-packages\\numpy\\_distributor_init.py:30: UserWarning: loaded more than 1 DLL from .libs:\n",
      "C:\\Users\\shitiza\\Anaconda3\\lib\\site-packages\\numpy\\.libs\\libopenblas.WCDJNK7YVMPZQ2ME2ZZHJJRJ3JIKNDB7.gfortran-win_amd64.dll\n",
      "C:\\Users\\shitiza\\Anaconda3\\lib\\site-packages\\numpy\\.libs\\libopenblas.XWYDX2IKJW2NMTWSFYNGFUWKQU3LYTCZ.gfortran-win_amd64.dll\n",
      "  warnings.warn(\"loaded more than 1 DLL from .libs:\"\n"
     ]
    }
   ],
   "source": [
    "import sys\n",
    "assert sys.version_info >= (3, 5)\n",
    "\n",
    "import re,os,csv\n",
    "import numpy as np\n",
    "import pandas as pd\n",
    "from unidecode import unidecode\n",
    "import dedupe"
   ]
  },
  {
   "cell_type": "markdown",
   "metadata": {},
   "source": [
    "#### Pre-Prcoess & Clean-up Data Sets before entity Matching"
   ]
  },
  {
   "cell_type": "code",
   "execution_count": 70,
   "metadata": {},
   "outputs": [],
   "source": [
    "def clean_objCols(dfx):\n",
    "    for column in dfx.columns.to_list() :\n",
    "        if np.dtype('O') == dfx[column].dtype:\n",
    "            #print(f'INFO: clean-up col : {column}')\n",
    "            dfx[column] = (dfx[column]\n",
    "                .str.replace(r'\\[|\\]-|,|;|;|\"|\\'','', regex=True,flags=re.IGNORECASE)\n",
    "                .str.replace(r'\\s+|/',' ', regex=True,flags=re.IGNORECASE)\n",
    "                .str.strip()\n",
    "                .str.strip('\"')\n",
    "                .str.strip(\"'\")\n",
    "                .str.strip('\\[')\n",
    "                .str.strip('\\]')\n",
    "                .str.lower()\n",
    "                .str.strip()\n",
    "                )\n",
    "    return dfx\n",
    "\n",
    "def cleanup_cols(dfx,outF,maxL=1000):\n",
    "    return (\n",
    "    clean_objCols(dfx)\n",
    "    #.assign(id = lambda df : df.id.astype(int))\n",
    "    .assign(id = lambda df : df.index)\n",
    "    .assign(fileName  = lambda df : [f + '__' + str(i) for f,i in zip(df.fileName,df.index)])\n",
    "    .loc[:maxL,['fileName','id','Title','Keywords']]\n",
    "    .set_index('fileName')\n",
    "    .fillna('')\n",
    "    .to_csv(outF)\n",
    "    )"
   ]
  },
  {
   "cell_type": "markdown",
   "metadata": {},
   "source": [
    "#### Read left & right datasets"
   ]
  },
  {
   "cell_type": "code",
   "execution_count": 125,
   "metadata": {},
   "outputs": [],
   "source": [
    "DATA_DIR = 'CONSOLIDATED_FOR_ENTITY_MATCHING'\n",
    "   \n",
    "OUT_DIR = 'ENTITY_MATCH_OUTPUT/pubMED_vs_nih'\n",
    "if not os.path.exists(OUT_DIR):\n",
    "    os.makedirs(OUT_DIR)\n",
    "\n",
    "\n",
    "o_left_file = DATA_DIR + '/all_pubmed_keyWords_FINAL.csv'\n",
    "o_right_file = DATA_DIR + '/all_nih_keyWords_FINAL.csv'\n",
    "\n",
    "left_file = OUT_DIR + '/pubMedF.csv'\n",
    "right_file = OUT_DIR + '/nihF.csv'\n",
    "cleanup_cols(pd.read_csv(o_left_file).assign(fileName = 'pubMedF').astype(str),left_file)\n",
    "cleanup_cols(pd.read_csv(o_right_file).assign(fileName = 'nihF').astype(str).rename(columns={'PROJECT_TITLE': 'Title'}),right_file)"
   ]
  },
  {
   "cell_type": "code",
   "execution_count": 126,
   "metadata": {},
   "outputs": [
    {
     "data": {
      "text/html": [
       "<div>\n",
       "<style scoped>\n",
       "    .dataframe tbody tr th:only-of-type {\n",
       "        vertical-align: middle;\n",
       "    }\n",
       "\n",
       "    .dataframe tbody tr th {\n",
       "        vertical-align: top;\n",
       "    }\n",
       "\n",
       "    .dataframe thead th {\n",
       "        text-align: right;\n",
       "    }\n",
       "</style>\n",
       "<table border=\"1\" class=\"dataframe\">\n",
       "  <thead>\n",
       "    <tr style=\"text-align: right;\">\n",
       "      <th></th>\n",
       "      <th>id</th>\n",
       "      <th>Title</th>\n",
       "      <th>Keywords</th>\n",
       "    </tr>\n",
       "    <tr>\n",
       "      <th>fileName</th>\n",
       "      <th></th>\n",
       "      <th></th>\n",
       "      <th></th>\n",
       "    </tr>\n",
       "  </thead>\n",
       "  <tbody>\n",
       "    <tr>\n",
       "      <th>pubmedf__0</th>\n",
       "      <td>0</td>\n",
       "      <td>micra® leadless pacemaker</td>\n",
       "      <td>leadless presenting approach pacemaker datum ®...</td>\n",
       "    </tr>\n",
       "    <tr>\n",
       "      <th>pubmedf__1</th>\n",
       "      <td>1</td>\n",
       "      <td>pacemaker complications and costs: a nationwid...</td>\n",
       "      <td>leadless study novel may system datum pmsi sys...</td>\n",
       "    </tr>\n",
       "    <tr>\n",
       "      <th>pubmedf__2</th>\n",
       "      <td>2</td>\n",
       "      <td>runaway pacemaker</td>\n",
       "      <td>examination datum implantation revealed excell...</td>\n",
       "    </tr>\n",
       "    <tr>\n",
       "      <th>pubmedf__3</th>\n",
       "      <td>3</td>\n",
       "      <td>pacemaker reprogramming rarely needed after de...</td>\n",
       "      <td>action depending needed involved subsequent 17...</td>\n",
       "    </tr>\n",
       "  </tbody>\n",
       "</table>\n",
       "</div>"
      ],
      "text/plain": [
       "            id                                              Title  \\\n",
       "fileName                                                            \n",
       "pubmedf__0   0                          micra® leadless pacemaker   \n",
       "pubmedf__1   1  pacemaker complications and costs: a nationwid...   \n",
       "pubmedf__2   2                                  runaway pacemaker   \n",
       "pubmedf__3   3  pacemaker reprogramming rarely needed after de...   \n",
       "\n",
       "                                                     Keywords  \n",
       "fileName                                                       \n",
       "pubmedf__0  leadless presenting approach pacemaker datum ®...  \n",
       "pubmedf__1  leadless study novel may system datum pmsi sys...  \n",
       "pubmedf__2  examination datum implantation revealed excell...  \n",
       "pubmedf__3  action depending needed involved subsequent 17...  "
      ]
     },
     "execution_count": 126,
     "metadata": {},
     "output_type": "execute_result"
    }
   ],
   "source": [
    "pubMed_df = pd.read_csv(left_file).set_index('fileName') \n",
    "pubMed_df.head(4)"
   ]
  },
  {
   "cell_type": "code",
   "execution_count": 127,
   "metadata": {},
   "outputs": [
    {
     "data": {
      "text/html": [
       "<div>\n",
       "<style scoped>\n",
       "    .dataframe tbody tr th:only-of-type {\n",
       "        vertical-align: middle;\n",
       "    }\n",
       "\n",
       "    .dataframe tbody tr th {\n",
       "        vertical-align: top;\n",
       "    }\n",
       "\n",
       "    .dataframe thead th {\n",
       "        text-align: right;\n",
       "    }\n",
       "</style>\n",
       "<table border=\"1\" class=\"dataframe\">\n",
       "  <thead>\n",
       "    <tr style=\"text-align: right;\">\n",
       "      <th></th>\n",
       "      <th>id</th>\n",
       "      <th>Title</th>\n",
       "      <th>Keywords</th>\n",
       "    </tr>\n",
       "    <tr>\n",
       "      <th>fileName</th>\n",
       "      <th></th>\n",
       "      <th></th>\n",
       "      <th></th>\n",
       "    </tr>\n",
       "  </thead>\n",
       "  <tbody>\n",
       "    <tr>\n",
       "      <th>nihf__0</th>\n",
       "      <td>0</td>\n",
       "      <td>innovating organ shipment by studying environm...</td>\n",
       "      <td>vascular cell adhesion molecule intercellular ...</td>\n",
       "    </tr>\n",
       "    <tr>\n",
       "      <th>nihf__1</th>\n",
       "      <td>1</td>\n",
       "      <td>role of the soluble (pro)renin receptor in blo...</td>\n",
       "      <td>blood pressure reduction salt sensitive hypert...</td>\n",
       "    </tr>\n",
       "    <tr>\n",
       "      <th>nihf__2</th>\n",
       "      <td>2</td>\n",
       "      <td>hypertension augmented covid-19 through renin-...</td>\n",
       "      <td>severe acute respiratory syndrome mass spectru...</td>\n",
       "    </tr>\n",
       "    <tr>\n",
       "      <th>nihf__3</th>\n",
       "      <td>3</td>\n",
       "      <td>developing a new drug for treating myocardial ...</td>\n",
       "      <td>small business innovation research grant opera...</td>\n",
       "    </tr>\n",
       "  </tbody>\n",
       "</table>\n",
       "</div>"
      ],
      "text/plain": [
       "          id                                              Title  \\\n",
       "fileName                                                          \n",
       "nihf__0    0  innovating organ shipment by studying environm...   \n",
       "nihf__1    1  role of the soluble (pro)renin receptor in blo...   \n",
       "nihf__2    2  hypertension augmented covid-19 through renin-...   \n",
       "nihf__3    3  developing a new drug for treating myocardial ...   \n",
       "\n",
       "                                                   Keywords  \n",
       "fileName                                                     \n",
       "nihf__0   vascular cell adhesion molecule intercellular ...  \n",
       "nihf__1   blood pressure reduction salt sensitive hypert...  \n",
       "nihf__2   severe acute respiratory syndrome mass spectru...  \n",
       "nihf__3   small business innovation research grant opera...  "
      ]
     },
     "execution_count": 127,
     "metadata": {},
     "output_type": "execute_result"
    }
   ],
   "source": [
    "clinic_df = pd.read_csv(right_file).set_index('fileName')\n",
    "clinic_df.head(4)"
   ]
  },
  {
   "cell_type": "code",
   "execution_count": 128,
   "metadata": {},
   "outputs": [],
   "source": [
    "data_1 = pubMed_df.to_dict('index')\n",
    "data_2 = clinic_df.to_dict('index')"
   ]
  },
  {
   "cell_type": "code",
   "execution_count": 129,
   "metadata": {},
   "outputs": [
    {
     "data": {
      "text/plain": [
       "{'id': 0,\n",
       " 'Title': 'micra® leadless pacemaker',\n",
       " 'Keywords': 'leadless presenting approach pacemaker datum ® atrial similar traditional pacemakercardiac method therapy technology without miniature expectancy risk providesmicra invasive less high conclusion conventional transvenous crt versus year fibrillation therefore micra patients venous pacemakers device life'}"
      ]
     },
     "execution_count": 129,
     "metadata": {},
     "output_type": "execute_result"
    }
   ],
   "source": [
    "data_1['pubmedf__0']\n"
   ]
  },
  {
   "cell_type": "code",
   "execution_count": 131,
   "metadata": {},
   "outputs": [
    {
     "data": {
      "text/plain": [
       "{'id': 0,\n",
       " 'Title': 'innovating organ shipment by studying environmental factors which affect organs during cold preservation',\n",
       " 'Keywords': 'vascular cell adhesion molecule intercellular adhesion molecule 1 cell adhesion molecules environmental risk factor cell adhesion cell death environmental impact vertebral column transplant model survival ratestudying environmental factors innovating organ shipment cold preservation affect organs'}"
      ]
     },
     "execution_count": 131,
     "metadata": {},
     "output_type": "execute_result"
    }
   ],
   "source": [
    "data_2['nihf__0']"
   ]
  },
  {
   "cell_type": "code",
   "execution_count": 132,
   "metadata": {},
   "outputs": [],
   "source": [
    "output_file = OUT_DIR + '/data_matching_output.csv'\n",
    "settings_file = OUT_DIR + '/data_matching_learned_settings'\n",
    "training_file = OUT_DIR + '/data_matching_training_f.json'\n",
    "def descriptions():\n",
    "        for dataset in (data_1, data_2):\n",
    "            for record in dataset.values():\n",
    "                yield record['Title']   \n",
    "def brands():\n",
    "        for dataset in (data_1, data_2):\n",
    "            for record in dataset.values():\n",
    "                yield record['Keywords']   "
   ]
  },
  {
   "cell_type": "code",
   "execution_count": 133,
   "metadata": {},
   "outputs": [
    {
     "name": "stderr",
     "output_type": "stream",
     "text": [
      "INFO:dedupe.training:Final predicate set:\n",
      "INFO:dedupe.training:SimplePredicate: (sortedAcronym, Title)\n"
     ]
    },
    {
     "name": "stdout",
     "output_type": "stream",
     "text": [
      "starting active labeling...\n"
     ]
    },
    {
     "name": "stderr",
     "output_type": "stream",
     "text": [
      "Title : project my heart your heart: an idea whose time has come\n",
      "Keywords : pacemaker cardiac effective ablation patients low pilot block including making methods recyclingidea every ventricular pacemaker throughout facilities years fibrillation ago 1 time studies optimal die define among charitable fully nearly several inception countries project year comeatrial idea year whose recycling servicing strategies heart practice small income patients 4 million case\n",
      "\n",
      "Title : project 2\n",
      "Keywords : coronary heart disease heart diseases disease rate tobacco use pharmaceutical preparations malignant neoplasms human disease cancer patient alcohol consumption data setproject 2\n",
      "\n",
      "0/10 positive, 0/10 negative\n",
      "Do these records refer to the same thing?\n",
      "(y)es / (n)o / (u)nsure / (f)inished\n"
     ]
    },
    {
     "name": "stdin",
     "output_type": "stream",
     "text": [
      " n\n"
     ]
    },
    {
     "name": "stderr",
     "output_type": "stream",
     "text": [
      "Title : sinus bradycardia junctional rhythm and low-rate atrial fibrillation in short qt syndrome during 20 years of follow-up: three faces of the same genetic problem\n",
      "Keywords : evolution genetic aortic dysfunction recurred implantation atrial three outcome kcnq1 mutation group geneshort followvalve risk junctional fibrillation 20 qt low high node v141m rate years sinus bradycardia infancy problem short requiring single fibrillation year faces tavr mortality progressive syndrome rhythm interval\n",
      "\n",
      "Title : icecan\n",
      "Keywords : united states national institutes midbrain central gray substance autonomic nervous system disorders autonomic nervous system congenital neurologic anomalies longitudinal prospective study heart rate variability public health relevance nervous system physiology chronic pelvic painicecan\n",
      "\n",
      "0/10 positive, 1/10 negative\n",
      "Do these records refer to the same thing?\n",
      "(y)es / (n)o / (u)nsure / (f)inished / (p)revious\n"
     ]
    },
    {
     "name": "stdin",
     "output_type": "stream",
     "text": [
      " n\n"
     ]
    },
    {
     "name": "stderr",
     "output_type": "stream",
     "text": [
      "Title : mri scanning in patients with new and existing capsurefix novus 5076 pacemaker leads: randomized trial results\n",
      "Keywords : v novus thresholds pacemaker cardiac scanning ablation leads patients 5 systems restrictions results block systemsexisting threshold pacing connected ventricular pacemaker without changes randomized fibrillation acceptable capsurefix performed lead medtronic capture leads amplitude positioning )- trial sensing year conditional newatrial 5076 mr mri study heart 266 safely case\n",
      "\n",
      "Title : icecan\n",
      "Keywords : united states national institutes midbrain central gray substance autonomic nervous system disorders autonomic nervous system congenital neurologic anomalies longitudinal prospective study heart rate variability public health relevance nervous system physiology chronic pelvic painicecan\n",
      "\n",
      "0/10 positive, 2/10 negative\n",
      "Do these records refer to the same thing?\n",
      "(y)es / (n)o / (u)nsure / (f)inished / (p)revious\n"
     ]
    },
    {
     "name": "stdin",
     "output_type": "stream",
     "text": [
      " n\n"
     ]
    },
    {
     "name": "stderr",
     "output_type": "stream",
     "text": [
      "Title : connectivity of pacemaker neurons in the neonatal rat superficial dorsal horn\n",
      "Keywords : horn circuits lamina pacemaker activity cardiac ablation ramified block multiple patch ventricular pacemaker whereas indicated ipsilateral pathways periaqueductal intact fibrillation virus superficial neurons combines gray within contact rat large cord motor present neuronsneonatal year axons spinal prv neonatal study contacted pseudorabies neurons connectivityatrial possessed heart dorsal small synaptic case\n",
      "\n",
      "Title : regulation of pacemaker neurons\n",
      "Keywords : nucleic acid regulatory sequences spinocerebellar ataxia type 4 sleep wake cycle guanosine triphosphate phosphohydrolases spinocerebellar ataxias transcription factor tiam1 gene synaptic plasticity signal transduction physiological processespacemaker neurons regulation\n",
      "\n",
      "0/10 positive, 3/10 negative\n",
      "Do these records refer to the same thing?\n",
      "(y)es / (n)o / (u)nsure / (f)inished / (p)revious\n"
     ]
    },
    {
     "name": "stdin",
     "output_type": "stream",
     "text": [
      " y\n"
     ]
    },
    {
     "name": "stderr",
     "output_type": "stream",
     "text": [
      "Title : long-term pacemaker dependency and impact of pacing on mortality following transcatheter aortic valve replacement with the lotus valve\n",
      "Keywords : 83 system aortic long implantation pacing outcome dependency remain replacement complications valve aortic pacemaker group dependency lotus 8 stenosismortality risk post days (™) transcatheter high percentage ventricular term 152 remaining dependent mean decreased year tavr common severe impactvalve ± mortality assessed patients following 4 pacing aged valve\n",
      "\n",
      "Title : icecan\n",
      "Keywords : united states national institutes midbrain central gray substance autonomic nervous system disorders autonomic nervous system congenital neurologic anomalies longitudinal prospective study heart rate variability public health relevance nervous system physiology chronic pelvic painicecan\n",
      "\n",
      "1/10 positive, 3/10 negative\n",
      "Do these records refer to the same thing?\n",
      "(y)es / (n)o / (u)nsure / (f)inished / (p)revious\n"
     ]
    },
    {
     "name": "stdin",
     "output_type": "stream",
     "text": [
      " n\n"
     ]
    },
    {
     "name": "stderr",
     "output_type": "stream",
     "text": [
      "INFO:dedupe.training:Final predicate set:\n",
      "INFO:dedupe.training:TfidfTextSearchPredicate: (0.4, Title)\n",
      "Title : the influence of native aortic valve calcium and transcatheter valve oversize on the need for pacemaker implantation after transcatheter aortic valve insertion\n",
      "Keywords : intervention underwent pacemaker 331 native insertionnative cardiac percutaneous ablation insertion left block bundle implantation calcium right coronary ventricular aortic pacemaker ) fibrillation preoperative need calcium score transcatheter branch 6 previous 005 year oversize heart valve case influenceatrial\n",
      "\n",
      "Title : molecular mechanisms of aortic valve formation\n",
      "Keywords : new therapeutic target pulmonary valve structure neural crest cell public health relevance congenital heart defects heart valve diseases aortic valve disorder congenital heart disorder mutant strains mice bicuspid aortic valveaortic valve formation molecular mechanisms\n",
      "\n",
      "1/10 positive, 4/10 negative\n",
      "Do these records refer to the same thing?\n",
      "(y)es / (n)o / (u)nsure / (f)inished / (p)revious\n"
     ]
    },
    {
     "name": "stdin",
     "output_type": "stream",
     "text": [
      " y\n"
     ]
    },
    {
     "name": "stderr",
     "output_type": "stream",
     "text": [
      "Title : quality of life and psychological co-morbidities in children and adolescents with cardiac pacemakers and implanted defibrillators: a cohort study in eastern germany\n",
      "Keywords : study may 6 showed develop cardiac active devices datum mental defibrillator evaluate rhythm method therapy quality problems risk children eastern health germany adolescentscardiac lower morbidities high conclusion significant crt co compared implanted reduce cohort year therapeutic defibrillators childhood appropriate defibrillators life potential pacemakers aged offerspsychological device\n",
      "\n",
      "Title : proteomic profiles and cardiac dysfunction in children and adolescents with hiv\n",
      "Keywords : united states national institutes magnetic resonance imaging health care availability national heart imaging biomarker heart imaging treatment program prospective studies phenotypic biomarker pathway interactionsproteomic profiles cardiac dysfunction hiv children adolescents\n",
      "\n",
      "2/10 positive, 4/10 negative\n",
      "Do these records refer to the same thing?\n",
      "(y)es / (n)o / (u)nsure / (f)inished / (p)revious\n"
     ]
    },
    {
     "name": "stdin",
     "output_type": "stream",
     "text": [
      " y\n"
     ]
    },
    {
     "name": "stderr",
     "output_type": "stream",
     "text": [
      "Title : a rare indication of permanent pacemaker implantation in children: congenital long qt syndrome\n",
      "Keywords : may torsades prolonged pacemaker cardiac dangerous ablation implantation block sudden childrenatrial congenital long bradycardia ventricular pacemaker deathcongenital fibrillation cause resistant qt even rare disorder de year pointes permanent avoid heart syndrome arrhythmic interval case death indication\n",
      "\n",
      "Title : mechanisms of long qt syndrome 1 in heart\n",
      "Keywords : fluorescence resonance energy transfer public health relevance long qt syndrome genetic regulatory protein sudden cardiac death kinase anchoring protein protein kinase ward syndrome protein expression adenylate kinaselong qt syndrome 1 mechanisms heart\n",
      "\n",
      "3/10 positive, 4/10 negative\n",
      "Do these records refer to the same thing?\n",
      "(y)es / (n)o / (u)nsure / (f)inished / (p)revious\n"
     ]
    },
    {
     "name": "stdin",
     "output_type": "stream",
     "text": [
      " n\n"
     ]
    },
    {
     "name": "stderr",
     "output_type": "stream",
     "text": [
      "Title : predictors of death in chronic chagas cardiomyopathy patients with pacemaker\n",
      "Keywords : study independent 150ms pacemaker fraction class annual mortality 32chronic patients datum left atrial final qrs enlargement method therapy variables deathcardiac ) 43 003 risk multivariate logistic included advanced model ejection high conclusion ventricular prospective chagas ≥ rate crt 034 disease five renal device cohort high year ≤ despite cardiomyopathy hf center rate predictors functional regression\n",
      "\n",
      "Title : predictors of cardiomyopathy progression in a chagas disease cohort in bolivia\n",
      "Keywords : connective tissue growth factor transforming growth factors science ) epidemiology brain natriuretic peptide congestive heart failure matrix metalloproteinase inhibitor public health relevance heart disease risk heart diseases matrix metalloproteinaseschagas disease cohort cardiomyopathy progression predictors bolivia\n",
      "\n",
      "3/10 positive, 5/10 negative\n",
      "Do these records refer to the same thing?\n",
      "(y)es / (n)o / (u)nsure / (f)inished / (p)revious\n"
     ]
    },
    {
     "name": "stdin",
     "output_type": "stream",
     "text": [
      " y\n"
     ]
    },
    {
     "name": "stderr",
     "output_type": "stream",
     "text": [
      "Title : prior pacemaker implantation and clinical outcomes in patients with heart failure and preserved ejection fraction\n",
      "Keywords : estimated may filtration cardiac dysfunction . glomerular datum driven implantation left sudden electrical pacing right causes method pacemaker therapy 026 mechanical mainly ) risk function rates may patientscardiac systolic lower conventional ventricular ejection dyssynchrony high conclusion preserved 6 patientprior crt indexes failure device mass body year induced dyssynchrony heart e clinical outcomes per fraction 100 worsen death\n",
      "\n",
      "Title : quantitative mri for characterizing heart failure with preserved ejection fraction\n",
      "Keywords : psychology ) coronary fibrosis magnetic resonance imaging research clinical testing serial imaging imaging approach treatment response public health prognostic marker physiologic pulse myocardial tissuepreserved ejection fraction characterizing heart failure quantitative mri\n",
      "\n",
      "4/10 positive, 5/10 negative\n",
      "Do these records refer to the same thing?\n",
      "(y)es / (n)o / (u)nsure / (f)inished / (p)revious\n"
     ]
    },
    {
     "name": "stdin",
     "output_type": "stream",
     "text": [
      " y\n"
     ]
    },
    {
     "name": "stderr",
     "output_type": "stream",
     "text": [
      "INFO:dedupe.training:Final predicate set:\n",
      "INFO:dedupe.training:TfidfTextSearchPredicate: (0.4, Title)\n",
      "INFO:dedupe.training:SimplePredicate: (firstTwoTokensPredicate, Title)\n",
      "Title : leadless pacemaker implantation in a patient with previous aortic mitral and tricuspid valve interventions\n",
      "Keywords : leadless septal system aortic datum tv implantation block pacing mitral right replacement sheath symptomatic valve presentedtricuspid method aortic pacemaker therapy mitralcardiac position risk fr atrioventricular transcatheter complete high conclusion conventional ventricular patient guided crt previous outer crossing interventions diameter femoral year 27 tricuspid micra venous biological replacement repair valve device\n",
      "\n",
      "Title : novel therapeutic approaches to mitral valve repair in ischemic heart disease\n",
      "Keywords : randomized controlled trials operative surgical procedures magnetic resonance imaging novel therapeutic intervention cardiac surgery procedures mitral valve insufficiency mitral valve surgical sutures heart imaging valve replacementnovel therapeutic approaches mitral valve repair ischemic heart disease\n",
      "\n",
      "5/10 positive, 5/10 negative\n",
      "Do these records refer to the same thing?\n",
      "(y)es / (n)o / (u)nsure / (f)inished / (p)revious\n"
     ]
    },
    {
     "name": "stdin",
     "output_type": "stream",
     "text": [
      " n\n"
     ]
    },
    {
     "name": "stderr",
     "output_type": "stream",
     "text": [
      "Title : german roentgen society statement on mr imaging of patients with cardiac pacemakers\n",
      "Keywords : whole pacemaker sar provide pulsoximetry patient cardiac cardiac ablation devices case block guidelines close society dedicated obtain ventricular exclusion fibrillation sargerman patientsatrial pm value maximum zones consent statement continuous requires year conditional mr body requires full clinical using comprehensive heart imaging practice imaging patients pacemakers informed roentgen cooperation\n",
      "\n",
      "Title : cardiac mr imaging of hemorrhagic reperfusion injury after myocardial infarction\n",
      "Keywords : left ventricular function magnetic resonance imaging left ventricular remodeling percutaneous coronary intervention high risk population acute myocardial infarction ventricular remodeling high prevalence invasive imaging imaging modalityhemorrhagic reperfusion injury cardiac mr imaging myocardial infarction\n",
      "\n",
      "5/10 positive, 6/10 negative\n",
      "Do these records refer to the same thing?\n",
      "(y)es / (n)o / (u)nsure / (f)inished / (p)revious\n"
     ]
    },
    {
     "name": "stdin",
     "output_type": "stream",
     "text": [
      " y\n"
     ]
    },
    {
     "name": "stderr",
     "output_type": "stream",
     "text": [
      "Title : implantable cardioverter defibrillators and permanent pacemakers: prevalence and patient outcomes after trauma\n",
      "Keywords : aortic cardiac dysfunction patient 60 patients implantation regional outcome including propensity center group surrogate risk analysis score median trauma variables high among cardioverter patientsimplantable ≥ implantable associated presence years disease underlying severity trauma prevalencevalve score permanent year tavr injury substantial heart outcomes defibrillators mortality pacemakers aged device identified rather\n",
      "\n",
      "Title : multiscale analysis of trauma\n",
      "Keywords : united states national institutes intercellular cell adhesion molecule operative surgical procedures public health relevance deep vein thrombosis biological neural networks blood coagulation disorders acute lung injury cell physiology cell modelmultiscale analysis trauma\n",
      "\n",
      "6/10 positive, 6/10 negative\n",
      "Do these records refer to the same thing?\n",
      "(y)es / (n)o / (u)nsure / (f)inished / (p)revious\n"
     ]
    },
    {
     "name": "stdin",
     "output_type": "stream",
     "text": [
      " y\n"
     ]
    },
    {
     "name": "stderr",
     "output_type": "stream",
     "text": [
      "INFO:dedupe.training:Final predicate set:\n",
      "INFO:dedupe.training:SimplePredicate: (commonThreeTokens, Title)\n",
      "INFO:dedupe.training:TfidfTextSearchPredicate: (0.6, Title)\n",
      "INFO:dedupe.training:SimplePredicate: (firstTwoTokensPredicate, Title)\n",
      "Title : tricuspid valve annuloplasty and mitral valve replacement are associated with bradyarrhythmia after mitral valve surgery\n",
      "Keywords : associatedcardiac datum 797 implantation explain factors anatomic mitral annuloplasty replacement %) method pacemaker therapy surgery risk relationships operative high conclusion bradyarrhythmia significant crt surgerytricuspid risk requiring year 2 requires help patients pacing valve device identified\n",
      "\n",
      "Title : novel therapeutic approaches to mitral valve repair in ischemic heart disease\n",
      "Keywords : randomized controlled trials operative surgical procedures magnetic resonance imaging novel therapeutic intervention cardiac surgery procedures mitral valve insufficiency mitral valve surgical sutures heart imaging valve replacementnovel therapeutic approaches mitral valve repair ischemic heart disease\n",
      "\n",
      "7/10 positive, 6/10 negative\n",
      "Do these records refer to the same thing?\n",
      "(y)es / (n)o / (u)nsure / (f)inished / (p)revious\n"
     ]
    },
    {
     "name": "stdin",
     "output_type": "stream",
     "text": [
      " n\n"
     ]
    },
    {
     "name": "stderr",
     "output_type": "stream",
     "text": [
      "INFO:dedupe.training:Final predicate set:\n",
      "INFO:dedupe.training:TfidfTextSearchPredicate: (0.2, Title)\n",
      "Title : troubleshooting a pacemaker output failure: a case report\n",
      "Keywords : expanding advised even oversensing offer intrinsic quality automatic datum modern replacement method therapy though output rapidly lead risk need pm report stretched high r ventricular case conclusion resulting pms wave crt functionpacemaker receiving resources failure device troubleshootingcardiac year good hospital care pms patients already occurred medical sensitivity\n",
      "\n",
      "Title : regulation of cardiac power output in health and disease\n",
      "Keywords : induced pluripotent stem cell stem cells cell type cell motility heart cell tissue engineering sudden death single molecule positioning attribute pharmaceutical preparationscardiac power output regulation health disease\n",
      "\n",
      "7/10 positive, 7/10 negative\n",
      "Do these records refer to the same thing?\n",
      "(y)es / (n)o / (u)nsure / (f)inished / (p)revious\n"
     ]
    },
    {
     "name": "stdin",
     "output_type": "stream",
     "text": [
      " n\n"
     ]
    },
    {
     "name": "stderr",
     "output_type": "stream",
     "text": [
      "Title : pacemaker reprogramming rarely needed after device replacement\n",
      "Keywords : action depending needed involved subsequent 173 407 reprogramming outpatient datum replacement method pacemaker therapy without scheduled risk changes 234 visits declines undergone high conclusion involve unscheduled crt involving visitspacemaker programming year whether action visits replacementcardiac rarely reprogramming follow device\n",
      "\n",
      "Title : molecular mechanisms of direct cardiac reprogramming\n",
      "Keywords : nucleic acid regulatory sequences ring finger domain public health relevance acute myocardial infarction small hairpin rna rna polymerase ii chromatin remodeling factor rna splicing transcription factor tbx5 proteindirect cardiac reprogramming molecular mechanisms\n",
      "\n",
      "7/10 positive, 8/10 negative\n",
      "Do these records refer to the same thing?\n",
      "(y)es / (n)o / (u)nsure / (f)inished / (p)revious\n"
     ]
    },
    {
     "name": "stdin",
     "output_type": "stream",
     "text": [
      " y\n"
     ]
    },
    {
     "name": "stderr",
     "output_type": "stream",
     "text": [
      "Title : effect of peer support on health outcomes in patients with cardiac pacemaker implantation: a randomized controlled trial\n",
      "Keywords : program randomized cardiac based patients datum implantation received trial method pacemaker group therapy telephone support risk self health routine controlled high conclusion conventional effectcardiac nurse provided among support crt care measures groupcardiac year care improves education outcomes peer usual device group\n",
      "\n",
      "Title : randomized controlled trial of group prevention coaching\n",
      "Keywords : health care facility randomized controlled trials cardiovascular risk factor cardiovascular disorder risk cardiovascular disorder prevention primary health care heart disease risk cardiovascular system cardiovascular diseases risk reductionrandomized controlled trial group prevention coaching\n",
      "\n",
      "8/10 positive, 8/10 negative\n",
      "Do these records refer to the same thing?\n",
      "(y)es / (n)o / (u)nsure / (f)inished / (p)revious\n"
     ]
    },
    {
     "name": "stdin",
     "output_type": "stream",
     "text": [
      " y\n"
     ]
    },
    {
     "name": "stderr",
     "output_type": "stream",
     "text": [
      "INFO:dedupe.training:Final predicate set:\n",
      "INFO:dedupe.training:SimplePredicate: (commonSixGram, Title)\n",
      "Title : wireless power transfer for a pacemaker application\n",
      "Keywords : contracting transfer system impulses datum charging electrical uses rechargeable increased method pacemaker electrodes therapy non risk pacemakers years power artificial high conclusion muscles regular batteries device crt device efficient year heart small pacemakerwireless medical many applicationcardiac\n",
      "\n",
      "Title : wireless physiologic monitoring in postpartum women\n",
      "Keywords : oriented research career development award united states national institutes vaginal delivery procedure world health organization intensive care units health care facility heart rate monitor clinical trials design heart rate dialysis procedurewireless physiologic monitoring postpartum women\n",
      "\n",
      "9/10 positive, 8/10 negative\n",
      "Do these records refer to the same thing?\n",
      "(y)es / (n)o / (u)nsure / (f)inished / (p)revious\n"
     ]
    },
    {
     "name": "stdin",
     "output_type": "stream",
     "text": [
      " f\n"
     ]
    },
    {
     "name": "stderr",
     "output_type": "stream",
     "text": [
      "Finished labeling\n",
      "INFO:rlr.crossvalidation:using cross validation to find optimum alpha...\n",
      "C:\\Users\\shitiza\\Anaconda3\\lib\\site-packages\\rlr\\crossvalidation.py:117: RuntimeWarning: invalid value encountered in double_scalars\n",
      "  matthews_cc = ((true_dupes * true_distinct\n",
      "INFO:rlr.crossvalidation:optimum alpha: 0.010000, score 0.1432094871570064\n",
      "INFO:dedupe.training:Final predicate set:\n",
      "INFO:dedupe.training:(SimplePredicate: (commonSixGram, Title), SimplePredicate: (tokenFieldPredicate, Title))\n"
     ]
    }
   ],
   "source": [
    "    if os.path.exists(settings_file):\n",
    "        print('reading from', settings_file)\n",
    "        with open(settings_file, 'rb') as sf:\n",
    "            linker = dedupe.StaticRecordLink(sf)\n",
    "\n",
    "    else:\n",
    "        # Define the fields the linker will pay attention to\n",
    "        #\n",
    "        # Notice how we are telling the linker to use a custom field comparator\n",
    "        # for the 'price' field.\n",
    "        fields = [\n",
    "            {'field': 'Title', 'type': 'String'},\n",
    "            {'field': 'Title', 'type': 'Text', 'corpus': descriptions()},\n",
    "            {'field': 'Keywords', 'type': 'Text',\n",
    "             'has missing': True, 'corpus': brands()}\n",
    "            ]\n",
    "\n",
    "        # Create a new linker object and pass our data model to it.\n",
    "        linker = dedupe.RecordLink(fields)\n",
    "\n",
    "        # If we have training data saved from a previous run of linker,\n",
    "        # look for it an load it in.\n",
    "        # __Note:__ if you want to train from scratch, delete the training_file\n",
    "        if os.path.exists(training_file):\n",
    "            print('reading labeled examples from ', training_file)\n",
    "            with open(training_file) as tf:\n",
    "                linker.prepare_training(data_1,\n",
    "                                        data_2,\n",
    "                                        training_file=tf,\n",
    "                                        sample_size=15000)\n",
    "        else:\n",
    "            linker.prepare_training(data_1, data_2, sample_size=15000)\n",
    "\n",
    "        # ## Active learning\n",
    "        # Dedupe will find the next pair of records\n",
    "        # it is least certain about and ask you to label them as matches\n",
    "        # or not.\n",
    "        # use 'y', 'n' and 'u' keys to flag duplicates\n",
    "        # press 'f' when you are finished\n",
    "        print('starting active labeling...')\n",
    "\n",
    "        dedupe.console_label(linker)\n",
    "\n",
    "        linker.train()\n",
    "\n",
    "        # When finished, save our training away to disk\n",
    "        with open(training_file, 'w') as tf:\n",
    "            linker.write_training(tf)\n",
    "\n",
    "        # Save our weights and predicates to disk.  If the settings file\n",
    "        # exists, we will skip all the training and learning next time we run\n",
    "        # this file.\n",
    "        with open(settings_file, 'wb') as sf:\n",
    "            linker.write_settings(sf)\n"
   ]
  },
  {
   "cell_type": "code",
   "execution_count": 134,
   "metadata": {},
   "outputs": [
    {
     "name": "stdout",
     "output_type": "stream",
     "text": [
      "clustering...\n",
      "# duplicate sets 906\n"
     ]
    }
   ],
   "source": [
    "    # ## Blocking\n",
    "\n",
    "    # ## Clustering\n",
    "\n",
    "    # Find the threshold that will maximize a weighted average of our\n",
    "    # precision and recall.  When we set the recall weight to 2, we are\n",
    "    # saying we care twice as much about recall as we do precision.\n",
    "    #\n",
    "    # If we had more data, we would not pass in all the blocked data into\n",
    "    # this function but a representative sample.\n",
    "\n",
    "    print('clustering...')\n",
    "    linked_records = linker.join(data_1, data_2, 0.0,'one-to-one')\n",
    "\n",
    "    print('# duplicate sets', len(linked_records))\n",
    "    # ## Writing Results\n",
    "\n",
    "    # Write our original data back out to a CSV with a new column called\n",
    "    # 'Cluster ID' which indicates which records refer to each other.\n",
    "\n",
    "    cluster_membership = {}\n",
    "    for cluster_id, (cluster, score) in enumerate(linked_records):\n",
    "        for record_id in cluster:\n",
    "            cluster_membership[record_id] = {'Cluster ID': cluster_id,\n",
    "                                             'Link Score': score}\n",
    "\n",
    "    with open(output_file, 'w', encoding='utf8') as f:\n",
    "\n",
    "        header_unwritten = True\n",
    "\n",
    "        for fileno, filename in enumerate((left_file, right_file)):\n",
    "            with open(filename, 'r', encoding=\"utf8\") as f_input:\n",
    "                reader = csv.DictReader(f_input)\n",
    "\n",
    "                if header_unwritten:\n",
    "\n",
    "                    fieldnames = (['Cluster ID', 'Link Score', 'source file'] +\n",
    "                                  reader.fieldnames)\n",
    "\n",
    "                    writer = csv.DictWriter(f, fieldnames=fieldnames)\n",
    "                    writer.writeheader()\n",
    "\n",
    "                    header_unwritten = False\n",
    "\n",
    "                for row_id, row in enumerate(reader):\n",
    "\n",
    "                    record_id = str(re.sub(OUT_DIR,'',re.sub('\\.\\/|F\\.csv','',os.path.basename(filename).lower()))).replace('.csv','') + '__' + str(row_id)\n",
    "                    #print(record_id)\n",
    "                              \n",
    "                    cluster_details = cluster_membership.get(record_id, {})\n",
    "                    row['source file'] = fileno\n",
    "                    row.update(cluster_details)\n",
    "                   \n",
    "\n",
    "                    writer.writerow(row)"
   ]
  },
  {
   "cell_type": "markdown",
   "metadata": {},
   "source": [
    "#### Sanity check to ensure Cluster-IN & Score in final matched output csv"
   ]
  },
  {
   "cell_type": "code",
   "execution_count": 135,
   "metadata": {},
   "outputs": [
    {
     "data": {
      "text/html": [
       "<div>\n",
       "<style scoped>\n",
       "    .dataframe tbody tr th:only-of-type {\n",
       "        vertical-align: middle;\n",
       "    }\n",
       "\n",
       "    .dataframe tbody tr th {\n",
       "        vertical-align: top;\n",
       "    }\n",
       "\n",
       "    .dataframe thead th {\n",
       "        text-align: right;\n",
       "    }\n",
       "</style>\n",
       "<table border=\"1\" class=\"dataframe\">\n",
       "  <thead>\n",
       "    <tr style=\"text-align: right;\">\n",
       "      <th></th>\n",
       "      <th>Cluster ID</th>\n",
       "      <th>Link Score</th>\n",
       "      <th>source file</th>\n",
       "      <th>id</th>\n",
       "    </tr>\n",
       "  </thead>\n",
       "  <tbody>\n",
       "    <tr>\n",
       "      <th>count</th>\n",
       "      <td>1812.000000</td>\n",
       "      <td>1812.000000</td>\n",
       "      <td>2002.000000</td>\n",
       "      <td>2002.000000</td>\n",
       "    </tr>\n",
       "    <tr>\n",
       "      <th>mean</th>\n",
       "      <td>452.500000</td>\n",
       "      <td>0.465639</td>\n",
       "      <td>0.500000</td>\n",
       "      <td>500.000000</td>\n",
       "    </tr>\n",
       "    <tr>\n",
       "      <th>std</th>\n",
       "      <td>261.611711</td>\n",
       "      <td>0.102928</td>\n",
       "      <td>0.500125</td>\n",
       "      <td>289.035861</td>\n",
       "    </tr>\n",
       "    <tr>\n",
       "      <th>min</th>\n",
       "      <td>0.000000</td>\n",
       "      <td>0.238105</td>\n",
       "      <td>0.000000</td>\n",
       "      <td>0.000000</td>\n",
       "    </tr>\n",
       "    <tr>\n",
       "      <th>25%</th>\n",
       "      <td>226.000000</td>\n",
       "      <td>0.388744</td>\n",
       "      <td>0.000000</td>\n",
       "      <td>250.000000</td>\n",
       "    </tr>\n",
       "    <tr>\n",
       "      <th>50%</th>\n",
       "      <td>452.500000</td>\n",
       "      <td>0.464148</td>\n",
       "      <td>0.500000</td>\n",
       "      <td>500.000000</td>\n",
       "    </tr>\n",
       "    <tr>\n",
       "      <th>75%</th>\n",
       "      <td>679.000000</td>\n",
       "      <td>0.531623</td>\n",
       "      <td>1.000000</td>\n",
       "      <td>750.000000</td>\n",
       "    </tr>\n",
       "    <tr>\n",
       "      <th>max</th>\n",
       "      <td>905.000000</td>\n",
       "      <td>0.870118</td>\n",
       "      <td>1.000000</td>\n",
       "      <td>1000.000000</td>\n",
       "    </tr>\n",
       "  </tbody>\n",
       "</table>\n",
       "</div>"
      ],
      "text/plain": [
       "        Cluster ID   Link Score  source file           id\n",
       "count  1812.000000  1812.000000  2002.000000  2002.000000\n",
       "mean    452.500000     0.465639     0.500000   500.000000\n",
       "std     261.611711     0.102928     0.500125   289.035861\n",
       "min       0.000000     0.238105     0.000000     0.000000\n",
       "25%     226.000000     0.388744     0.000000   250.000000\n",
       "50%     452.500000     0.464148     0.500000   500.000000\n",
       "75%     679.000000     0.531623     1.000000   750.000000\n",
       "max     905.000000     0.870118     1.000000  1000.000000"
      ]
     },
     "execution_count": 135,
     "metadata": {},
     "output_type": "execute_result"
    }
   ],
   "source": [
    "chk_df = pd.read_csv(output_file)\n",
    "len(chk_df['Cluster ID'].unique())\n",
    "g_m = chk_df['Cluster ID'] != np.nan\n",
    "chk_df[g_m].describe()"
   ]
  },
  {
   "cell_type": "markdown",
   "metadata": {},
   "source": [
    "#### Use 'Link Score' to filter out matches"
   ]
  },
  {
   "cell_type": "code",
   "execution_count": 153,
   "metadata": {},
   "outputs": [
    {
     "name": "stdout",
     "output_type": "stream",
     "text": [
      "Total matches with score > 0.55 : 364\n"
     ]
    }
   ],
   "source": [
    "match_mask = chk_df['Link Score'] >= 0.55\n",
    "chk_df_filtered = chk_df[match_mask]\n",
    "chk_df_filtered.to_csv(OUT_DIR + '/data_matching_output_FILTERED_FINAL.csv',index=False)\n",
    "print(f'Total matches with score > 0.55 : {chk_df_filtered.shape[0]}')"
   ]
  },
  {
   "cell_type": "code",
   "execution_count": 154,
   "metadata": {},
   "outputs": [
    {
     "data": {
      "text/html": [
       "<div>\n",
       "<style scoped>\n",
       "    .dataframe tbody tr th:only-of-type {\n",
       "        vertical-align: middle;\n",
       "    }\n",
       "\n",
       "    .dataframe tbody tr th {\n",
       "        vertical-align: top;\n",
       "    }\n",
       "\n",
       "    .dataframe thead th {\n",
       "        text-align: right;\n",
       "    }\n",
       "</style>\n",
       "<table border=\"1\" class=\"dataframe\">\n",
       "  <thead>\n",
       "    <tr style=\"text-align: right;\">\n",
       "      <th></th>\n",
       "      <th>Cluster ID</th>\n",
       "      <th>Link Score</th>\n",
       "      <th>source file</th>\n",
       "      <th>fileName</th>\n",
       "      <th>id</th>\n",
       "      <th>Title</th>\n",
       "      <th>Keywords</th>\n",
       "    </tr>\n",
       "  </thead>\n",
       "  <tbody>\n",
       "    <tr>\n",
       "      <th>816</th>\n",
       "      <td>0.0</td>\n",
       "      <td>0.870118</td>\n",
       "      <td>0</td>\n",
       "      <td>pubmedf__816</td>\n",
       "      <td>816</td>\n",
       "      <td>prior pacemaker implantation and clinical outc...</td>\n",
       "      <td>estimated may filtration cardiac dysfunction ....</td>\n",
       "    </tr>\n",
       "    <tr>\n",
       "      <th>1965</th>\n",
       "      <td>0.0</td>\n",
       "      <td>0.870118</td>\n",
       "      <td>1</td>\n",
       "      <td>nihf__964</td>\n",
       "      <td>964</td>\n",
       "      <td>quantitative mri for characterizing heart fail...</td>\n",
       "      <td>psychology ) coronary fibrosis magnetic resona...</td>\n",
       "    </tr>\n",
       "    <tr>\n",
       "      <th>706</th>\n",
       "      <td>1.0</td>\n",
       "      <td>0.811758</td>\n",
       "      <td>0</td>\n",
       "      <td>pubmedf__706</td>\n",
       "      <td>706</td>\n",
       "      <td>sex differences and long-term outcome in patie...</td>\n",
       "      <td>valvular underwent pacemaker cardiac ablation ...</td>\n",
       "    </tr>\n",
       "    <tr>\n",
       "      <th>1320</th>\n",
       "      <td>1.0</td>\n",
       "      <td>0.811758</td>\n",
       "      <td>1</td>\n",
       "      <td>nihf__319</td>\n",
       "      <td>319</td>\n",
       "      <td>androgen receptors and sex differences in the ...</td>\n",
       "      <td>enterobacteria phage p1 cre recombinase design...</td>\n",
       "    </tr>\n",
       "    <tr>\n",
       "      <th>493</th>\n",
       "      <td>2.0</td>\n",
       "      <td>0.797195</td>\n",
       "      <td>0</td>\n",
       "      <td>pubmedf__493</td>\n",
       "      <td>493</td>\n",
       "      <td>predictors of death in chronic chagas cardiomy...</td>\n",
       "      <td>study independent 150ms pacemaker fraction cla...</td>\n",
       "    </tr>\n",
       "    <tr>\n",
       "      <th>1427</th>\n",
       "      <td>2.0</td>\n",
       "      <td>0.797195</td>\n",
       "      <td>1</td>\n",
       "      <td>nihf__426</td>\n",
       "      <td>426</td>\n",
       "      <td>predictors of cardiomyopathy progression in a ...</td>\n",
       "      <td>connective tissue growth factor transforming g...</td>\n",
       "    </tr>\n",
       "  </tbody>\n",
       "</table>\n",
       "</div>"
      ],
      "text/plain": [
       "      Cluster ID  Link Score  source file      fileName   id  \\\n",
       "816          0.0    0.870118            0  pubmedf__816  816   \n",
       "1965         0.0    0.870118            1     nihf__964  964   \n",
       "706          1.0    0.811758            0  pubmedf__706  706   \n",
       "1320         1.0    0.811758            1     nihf__319  319   \n",
       "493          2.0    0.797195            0  pubmedf__493  493   \n",
       "1427         2.0    0.797195            1     nihf__426  426   \n",
       "\n",
       "                                                  Title  \\\n",
       "816   prior pacemaker implantation and clinical outc...   \n",
       "1965  quantitative mri for characterizing heart fail...   \n",
       "706   sex differences and long-term outcome in patie...   \n",
       "1320  androgen receptors and sex differences in the ...   \n",
       "493   predictors of death in chronic chagas cardiomy...   \n",
       "1427  predictors of cardiomyopathy progression in a ...   \n",
       "\n",
       "                                               Keywords  \n",
       "816   estimated may filtration cardiac dysfunction ....  \n",
       "1965  psychology ) coronary fibrosis magnetic resona...  \n",
       "706   valvular underwent pacemaker cardiac ablation ...  \n",
       "1320  enterobacteria phage p1 cre recombinase design...  \n",
       "493   study independent 150ms pacemaker fraction cla...  \n",
       "1427  connective tissue growth factor transforming g...  "
      ]
     },
     "execution_count": 154,
     "metadata": {},
     "output_type": "execute_result"
    }
   ],
   "source": [
    "chk_df_filtered.loc[~chk_df_filtered['Cluster ID'].isna()].sort_values(by=['Cluster ID']).head(6)"
   ]
  },
  {
   "cell_type": "code",
   "execution_count": 155,
   "metadata": {},
   "outputs": [],
   "source": [
    "def agg_count(s):\n",
    "    return len([v for v in s.unique()])\n",
    "def agg_list(s):\n",
    "    return [v for v in s.unique()]"
   ]
  },
  {
   "cell_type": "markdown",
   "metadata": {},
   "source": [
    "#### Final Matched output with mapped ids Only"
   ]
  },
  {
   "cell_type": "code",
   "execution_count": 156,
   "metadata": {},
   "outputs": [],
   "source": [
    "dump_df = chk_df_filtered.groupby(by = ['Cluster ID'])['id'].agg([agg_list]).reset_index()\n",
    "dump_df['pubMed'] = np.array(dump_df.agg_list.to_list())[:,0]\n",
    "dump_df['clinicTrial'] = np.array(dump_df.agg_list.to_list())[:,1]\n",
    "dump_df.loc[:,['pubMed','clinicTrial']].to_csv(OUT_DIR + '/data_matching_Project_2_columnsOnly.csv',index=False)\n"
   ]
  },
  {
   "cell_type": "code",
   "execution_count": 157,
   "metadata": {},
   "outputs": [
    {
     "name": "stdout",
     "output_type": "stream",
     "text": [
      " No common keywords found for 0 \n"
     ]
    },
    {
     "data": {
      "text/html": [
       "<div>\n",
       "<style scoped>\n",
       "    .dataframe tbody tr th:only-of-type {\n",
       "        vertical-align: middle;\n",
       "    }\n",
       "\n",
       "    .dataframe tbody tr th {\n",
       "        vertical-align: top;\n",
       "    }\n",
       "\n",
       "    .dataframe thead th {\n",
       "        text-align: right;\n",
       "    }\n",
       "</style>\n",
       "<table border=\"1\" class=\"dataframe\">\n",
       "  <thead>\n",
       "    <tr style=\"text-align: right;\">\n",
       "      <th></th>\n",
       "      <th>pubMed</th>\n",
       "      <th>clinicTrial</th>\n",
       "      <th>pubMed_Title</th>\n",
       "      <th>pubMed_keywords</th>\n",
       "      <th>clinicTrial_Title</th>\n",
       "      <th>clinicTrial_keywords</th>\n",
       "      <th>keywords_common</th>\n",
       "    </tr>\n",
       "  </thead>\n",
       "  <tbody>\n",
       "    <tr>\n",
       "      <th>0</th>\n",
       "      <td>816</td>\n",
       "      <td>964</td>\n",
       "      <td>prior pacemaker implantation and clinical outc...</td>\n",
       "      <td>estimated may filtration cardiac dysfunction ....</td>\n",
       "      <td>quantitative mri for characterizing heart fail...</td>\n",
       "      <td>psychology ) coronary fibrosis magnetic resona...</td>\n",
       "      <td>ejection failure heart fraction clinical )</td>\n",
       "    </tr>\n",
       "    <tr>\n",
       "      <th>1</th>\n",
       "      <td>706</td>\n",
       "      <td>319</td>\n",
       "      <td>sex differences and long-term outcome in patie...</td>\n",
       "      <td>valvular underwent pacemaker cardiac ablation ...</td>\n",
       "      <td>androgen receptors and sex differences in the ...</td>\n",
       "      <td>enterobacteria phage p1 cre recombinase design...</td>\n",
       "      <td>) differences</td>\n",
       "    </tr>\n",
       "    <tr>\n",
       "      <th>2</th>\n",
       "      <td>493</td>\n",
       "      <td>426</td>\n",
       "      <td>predictors of death in chronic chagas cardiomy...</td>\n",
       "      <td>study independent 150ms pacemaker fraction cla...</td>\n",
       "      <td>predictors of cardiomyopathy progression in a ...</td>\n",
       "      <td>connective tissue growth factor transforming g...</td>\n",
       "      <td>disease cohort risk ) predictors cardiomyopathy</td>\n",
       "    </tr>\n",
       "    <tr>\n",
       "      <th>3</th>\n",
       "      <td>18</td>\n",
       "      <td>326</td>\n",
       "      <td>risk factor for cardiac permanent pacemaker in...</td>\n",
       "      <td>study square pacemaker regression cardiac pulm...</td>\n",
       "      <td>regulation and function of the circadian facto...</td>\n",
       "      <td>simian virus 40 public health relevance high f...</td>\n",
       "      <td></td>\n",
       "    </tr>\n",
       "    <tr>\n",
       "      <th>4</th>\n",
       "      <td>334</td>\n",
       "      <td>519</td>\n",
       "      <td>lead-sparing tricuspid valve repair damaged by...</td>\n",
       "      <td>may muscle pacemaker cardiac ablation block in...</td>\n",
       "      <td>removal of damaged mitochondria by alternative...</td>\n",
       "      <td>reactive oxygen species ripk1 gene release fac...</td>\n",
       "      <td></td>\n",
       "    </tr>\n",
       "  </tbody>\n",
       "</table>\n",
       "</div>"
      ],
      "text/plain": [
       "   pubMed  clinicTrial                                       pubMed_Title  \\\n",
       "0     816          964  prior pacemaker implantation and clinical outc...   \n",
       "1     706          319  sex differences and long-term outcome in patie...   \n",
       "2     493          426  predictors of death in chronic chagas cardiomy...   \n",
       "3      18          326  risk factor for cardiac permanent pacemaker in...   \n",
       "4     334          519  lead-sparing tricuspid valve repair damaged by...   \n",
       "\n",
       "                                     pubMed_keywords  \\\n",
       "0  estimated may filtration cardiac dysfunction ....   \n",
       "1  valvular underwent pacemaker cardiac ablation ...   \n",
       "2  study independent 150ms pacemaker fraction cla...   \n",
       "3  study square pacemaker regression cardiac pulm...   \n",
       "4  may muscle pacemaker cardiac ablation block in...   \n",
       "\n",
       "                                   clinicTrial_Title  \\\n",
       "0  quantitative mri for characterizing heart fail...   \n",
       "1  androgen receptors and sex differences in the ...   \n",
       "2  predictors of cardiomyopathy progression in a ...   \n",
       "3  regulation and function of the circadian facto...   \n",
       "4  removal of damaged mitochondria by alternative...   \n",
       "\n",
       "                                clinicTrial_keywords  \\\n",
       "0  psychology ) coronary fibrosis magnetic resona...   \n",
       "1  enterobacteria phage p1 cre recombinase design...   \n",
       "2  connective tissue growth factor transforming g...   \n",
       "3  simian virus 40 public health relevance high f...   \n",
       "4  reactive oxygen species ripk1 gene release fac...   \n",
       "\n",
       "                                   keywords_common  \n",
       "0       ejection failure heart fraction clinical )  \n",
       "1                                    ) differences  \n",
       "2  disease cohort risk ) predictors cardiomyopathy  \n",
       "3                                                   \n",
       "4                                                   "
      ]
     },
     "execution_count": 157,
     "metadata": {},
     "output_type": "execute_result"
    }
   ],
   "source": [
    "def join_keywords(k1,k2):\n",
    "    s1 = set(k1.split(' '))\n",
    "    s2 = set(k2.split(' '))\n",
    "    return ' '.join(list(s1.intersection(s2)))\n",
    "\n",
    "merge_CnP_df = dump_df.loc[:,['pubMed','clinicTrial']]\n",
    "out_merge_CnP_df = (merge_CnP_df\n",
    " .merge(pubMed_df,left_on=['pubMed'],right_on=['id']).rename(columns={'id':'pubMed_id','Title':'pubMed_Title','Keywords':'pubMed_keywords'})\n",
    " .merge(clinic_df,left_on=['clinicTrial'],right_on=['id']).rename(columns={'id':'clinicTrial_id','Title':'clinicTrial_Title','Keywords':'clinicTrial_keywords'})\n",
    " .assign(keywords_common = lambda df : df.apply(lambda x: join_keywords(x.pubMed_keywords, x.clinicTrial_keywords), axis=1) )\n",
    " .drop(['pubMed_id','clinicTrial_id'],axis=1)\n",
    ")\n",
    "\n",
    "print(f' No common keywords found for {out_merge_CnP_df.keywords_common.isna().sum()} ')\n",
    "out_merge_CnP_df.to_csv(OUT_DIR + '/data_matching_Project_IMP_columnsOnly.csv')\n",
    "out_merge_CnP_df.head(5)"
   ]
  },
  {
   "cell_type": "markdown",
   "metadata": {},
   "source": [
    "#### Sample output to check matched entitties"
   ]
  },
  {
   "cell_type": "code",
   "execution_count": 158,
   "metadata": {},
   "outputs": [
    {
     "data": {
      "text/plain": [
       "array([['prior pacemaker implantation and clinical outcomes in patients with heart failure and preserved ejection fraction',\n",
       "        'quantitative mri for characterizing heart failure with preserved ejection fraction'],\n",
       "       ['sex differences and long-term outcome in patients with pacemakers',\n",
       "        'androgen receptors and sex differences in the biological clock']],\n",
       "      dtype='<U224')"
      ]
     },
     "execution_count": 158,
     "metadata": {},
     "output_type": "execute_result"
    }
   ],
   "source": [
    "dump_dfT=chk_df.groupby(by = ['Cluster ID'])['Title'].agg([agg_list]).reset_index()\n",
    "np.array(dump_dfT.agg_list.to_list())[:2]"
   ]
  },
  {
   "cell_type": "markdown",
   "metadata": {},
   "source": [
    "#### We need to create a ground-truth table with few enteries to verify that dedupe is matching as expected\n",
    "#### Read ground-Truth Table to check prec/recall only. "
   ]
  },
  {
   "cell_type": "code",
   "execution_count": 159,
   "metadata": {},
   "outputs": [],
   "source": [
    "gnd_truth_df = pd.read_csv(OUT_DIR + '/gndTable_ProjectF.csv')"
   ]
  },
  {
   "cell_type": "code",
   "execution_count": 160,
   "metadata": {},
   "outputs": [],
   "source": [
    "out_df = pd.read_csv(OUT_DIR + '/data_matching_Project_2_columnsOnly.csv')"
   ]
  },
  {
   "cell_type": "code",
   "execution_count": 161,
   "metadata": {},
   "outputs": [],
   "source": [
    "def agg_count(s):\n",
    "    return len([v for v in s.unique()])\n",
    "def agg_list(s):\n",
    "    return [v for v in s.unique()]\n",
    "\n",
    "def evaluateDuplicates(found_dupes, true_dupes):\n",
    "    true_positives = found_dupes.intersection(true_dupes)\n",
    "    false_positives = found_dupes.difference(true_dupes)\n",
    "    uncovered_dupes = true_dupes.difference(found_dupes)\n",
    "\n",
    "    print('found duplicate')\n",
    "    print(len(found_dupes))\n",
    "    \n",
    "    print(f'true_positives : {len(true_positives)}, false_positives : {len(false_positives)}, true_dupes : {len(true_dupes)}')\n",
    "\n",
    "    prec = len(true_positives) / float(len(found_dupes))\n",
    "    print(f'precision : {prec}')    \n",
    "\n",
    "    rec = len(true_positives) / float(len(true_dupes))\n",
    "    print(f'recall : {rec}')\n",
    "        \n",
    "    F1 = 2 * (prec * rec) / (prec + rec)\n",
    "    print(f'F1 score : {F1}')\n"
   ]
  },
  {
   "cell_type": "code",
   "execution_count": 162,
   "metadata": {},
   "outputs": [],
   "source": [
    "true_dupes = set(map(tuple, np.array(gnd_truth_df).tolist()))\n",
    "found_dupes = set(map(tuple, np.array(out_df).tolist()))"
   ]
  },
  {
   "cell_type": "code",
   "execution_count": 163,
   "metadata": {},
   "outputs": [
    {
     "name": "stdout",
     "output_type": "stream",
     "text": [
      "found duplicate\n",
      "182\n",
      "true_positives : 20, false_positives : 162, true_dupes : 20\n",
      "precision : 0.10989010989010989\n",
      "recall : 1.0\n",
      "F1 score : 0.198019801980198\n"
     ]
    }
   ],
   "source": [
    "evaluateDuplicates(found_dupes,true_dupes)"
   ]
  },
  {
   "cell_type": "markdown",
   "metadata": {},
   "source": [
    "#### Trick to create ground-truth Table"
   ]
  },
  {
   "cell_type": "code",
   "execution_count": 144,
   "metadata": {},
   "outputs": [],
   "source": [
    "gnd_mask = chk_df_filtered['Link Score'] >= 0.7\n",
    "dump_df = chk_df_filtered[gnd_mask].groupby(by = ['Cluster ID'])['id'].agg([agg_list]).reset_index()\n",
    "dump_df['pubMed'] = np.array(dump_df.agg_list.to_list())[:,0]\n",
    "dump_df['clinicTrial'] = np.array(dump_df.agg_list.to_list())[:,1]\n",
    "dump_df.loc[:,['pubMed','clinicTrial']].to_csv(OUT_DIR + '/gndTable_ProjectF.csv',index=False)"
   ]
  }
 ],
 "metadata": {
  "kernelspec": {
   "display_name": "Python 3",
   "language": "python",
   "name": "python3"
  },
  "language_info": {
   "codemirror_mode": {
    "name": "ipython",
    "version": 3
   },
   "file_extension": ".py",
   "mimetype": "text/x-python",
   "name": "python",
   "nbconvert_exporter": "python",
   "pygments_lexer": "ipython3",
   "version": "3.8.8"
  }
 },
 "nbformat": 4,
 "nbformat_minor": 4
}
