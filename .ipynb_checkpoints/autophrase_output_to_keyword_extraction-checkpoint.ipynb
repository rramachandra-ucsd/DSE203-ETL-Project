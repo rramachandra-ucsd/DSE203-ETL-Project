{
 "cells": [
  {
   "cell_type": "markdown",
   "id": "a297f327-8c21-4cd3-8815-ec62a812a297",
   "metadata": {},
   "source": [
    "# Output from Autophrase (keywords) is inserted back to the Input dataset."
   ]
  },
  {
   "cell_type": "code",
   "execution_count": 1,
   "id": "cc6dbf9c-83a3-4aa9-83c0-c02695c87399",
   "metadata": {},
   "outputs": [],
   "source": [
    "import pandas as pd\n",
    "import numpy as np"
   ]
  },
  {
   "cell_type": "markdown",
   "id": "fa23b3f4-fafb-4962-a39d-6f258fa656e0",
   "metadata": {},
   "source": [
    "## Key function"
   ]
  },
  {
   "cell_type": "code",
   "execution_count": 2,
   "id": "2d4c882e-1395-4150-bed9-b47898d6e7cc",
   "metadata": {
    "tags": []
   },
   "outputs": [],
   "source": [
    "def keyword_list_percentage_calculator(df_data, df_column, autophrase_kwlist): \n",
    "    mask_len = df_data.shape[0]\n",
    "    mask_sel = np.full((mask_len), False, dtype=bool)\n",
    "    for key_iter in autophrase_kwlist:\n",
    "        mask_temp = df_data[df_column].str.contains(key_iter)\n",
    "        mask_sel = np.logical_or(mask_sel,mask_temp)\n",
    "    \n",
    "    mask_coverage = mask_sel.value_counts()\n",
    "    percent_coverage = float(mask_coverage[1]/[mask_coverage[0] + mask_coverage[1]])*100\n",
    "    return percent_coverage"
   ]
  },
  {
   "cell_type": "code",
   "execution_count": 3,
   "id": "0fad7129-6ecf-49f8-884e-1986ff5482ef",
   "metadata": {},
   "outputs": [],
   "source": [
    "def keywordList_column_creator( df_data, df_column,autophrase_kwlist):\n",
    "    dfcolumn_list = df_data[df_column].to_list()\n",
    "    #pubmed_abstract_list = pubmed_abstract_list[:10]\n",
    "    final_list = []\n",
    "    for column_iter  in dfcolumn_list:\n",
    "        cell_final_value = []\n",
    "        for key_iter in autophrase_kwlist:\n",
    "            if (key_iter in str(column_iter)):\n",
    "                cell_final_value.append(key_iter)\n",
    "        final_list.append(cell_final_value)\n",
    "    return final_list"
   ]
  },
  {
   "cell_type": "markdown",
   "id": "d69e1cdb-0b20-4af6-9dfd-07b459c19f1d",
   "metadata": {},
   "source": [
    "### Load Autophrase"
   ]
  },
  {
   "cell_type": "code",
   "execution_count": 4,
   "id": "77ecf710-860a-41f0-8656-aca2a4dc4eed",
   "metadata": {},
   "outputs": [],
   "source": [
    "pubmed_autophrase = pd.read_csv('Auto_phrase/AutoPhrase_output_PubMed.txt',delimiter=\"\t\",names=['temp','keywords'])\n",
    "NIH_autophrase = pd.read_csv('Auto_phrase/AutoPhrase_output_NIH.txt',delimiter=\"\t\",names=['temp','keywords'])\n",
    "clinical_autophrase = pd.read_csv('Auto_phrase/AutoPhrase_output_clinical.txt',delimiter=\"\t\",names=['temp','keywords'])"
   ]
  },
  {
   "cell_type": "markdown",
   "id": "b8ac4a51-d199-450e-92ec-c18a88b4c0fc",
   "metadata": {},
   "source": [
    "### Find all common_phrases belong to all 3 dataset"
   ]
  },
  {
   "cell_type": "code",
   "execution_count": 5,
   "id": "52e9665b-1dd0-4d47-a69b-8b0ef84fb3d0",
   "metadata": {},
   "outputs": [],
   "source": [
    "pubmed_autophrase_kwlist_fullist = set(pubmed_autophrase['keywords'].to_list())\n",
    "NIH_autophrase_kwlist_fullist = set(NIH_autophrase['keywords'].to_list())\n",
    "clinical_autophrase_kwlist_fullist = set(clinical_autophrase['keywords'].to_list())"
   ]
  },
  {
   "cell_type": "code",
   "execution_count": 6,
   "id": "01e61221-e85e-4881-9360-4e7e1d54339d",
   "metadata": {},
   "outputs": [],
   "source": [
    "temp_common = pubmed_autophrase_kwlist_fullist.intersection(NIH_autophrase_kwlist_fullist)\n",
    "common_keyword = clinical_autophrase_kwlist_fullist.intersection(temp_common)"
   ]
  },
  {
   "cell_type": "code",
   "execution_count": 7,
   "id": "344424a5-1047-4c9c-ba23-e7af22bb5785",
   "metadata": {},
   "outputs": [
    {
     "data": {
      "text/plain": [
       "187"
      ]
     },
     "execution_count": 7,
     "metadata": {},
     "output_type": "execute_result"
    }
   ],
   "source": [
    "len(common_keyword)"
   ]
  },
  {
   "cell_type": "markdown",
   "id": "634143c5-492b-4251-9247-de08d1a4c464",
   "metadata": {},
   "source": [
    "# PUB_MED Data"
   ]
  },
  {
   "cell_type": "code",
   "execution_count": 8,
   "id": "965943af-489f-459b-863a-cadab0bdf13a",
   "metadata": {},
   "outputs": [],
   "source": [
    "df_pubmed = pd.read_csv('Raw_data/PubMed_wAbstracts-Pacemaker.csv')"
   ]
  },
  {
   "cell_type": "markdown",
   "id": "0b17eb50-18b5-497c-8e14-ab27d9367f5c",
   "metadata": {},
   "source": [
    "### Selecting first 500 keywords:"
   ]
  },
  {
   "cell_type": "code",
   "execution_count": 9,
   "id": "a0d203c5-6889-4c0a-82bb-dca04eae8e86",
   "metadata": {},
   "outputs": [],
   "source": [
    "pubmed_autophrase = pubmed_autophrase[:500]\n",
    "pubmed_autophrase_kwlist_500 = set(pubmed_autophrase['keywords'].to_list())\n",
    "pubmed_autophrase_kwlist = list (pubmed_autophrase_kwlist_500.union(common_keyword))"
   ]
  },
  {
   "cell_type": "code",
   "execution_count": 10,
   "id": "7561c488-c2bc-4c95-9d05-c1cc0a3e3deb",
   "metadata": {},
   "outputs": [
    {
     "data": {
      "text/plain": [
       "663"
      ]
     },
     "execution_count": 10,
     "metadata": {},
     "output_type": "execute_result"
    }
   ],
   "source": [
    "len(pubmed_autophrase_kwlist)"
   ]
  },
  {
   "cell_type": "code",
   "execution_count": 11,
   "id": "9dbc9e1a-6b0f-4e4a-a737-74124e0709bc",
   "metadata": {},
   "outputs": [],
   "source": [
    "textfile = open(\"Auto_phrase/autophrase_kwlist_pubmed1.txt\",  \"w\",  encoding=\"utf-8\")\n",
    "for element in pubmed_autophrase_kwlist:\n",
    "    textfile.write(str(element) + \"\\n\")\n",
    "textfile.close()"
   ]
  },
  {
   "cell_type": "markdown",
   "id": "c58b0d3d-32a8-4d71-8580-1db75349d56b",
   "metadata": {},
   "source": [
    "### Calculate Autophrase keyword coverage in Pubmed abstract"
   ]
  },
  {
   "cell_type": "code",
   "execution_count": 12,
   "id": "63a793b7-ea89-479b-b57f-f667e241d70e",
   "metadata": {},
   "outputs": [
    {
     "data": {
      "text/plain": [
       "97.733499377335"
      ]
     },
     "execution_count": 12,
     "metadata": {},
     "output_type": "execute_result"
    }
   ],
   "source": [
    "keyword_list_percentage_calculator (df_pubmed, 'Abstract', pubmed_autophrase_kwlist)"
   ]
  },
  {
   "cell_type": "markdown",
   "id": "d84aa3a8-ef68-4d1c-b0e3-c5f89ef073b9",
   "metadata": {},
   "source": [
    "### Iternate Autophrase keyword coverage in Pubmed abstract to get list of keywords"
   ]
  },
  {
   "cell_type": "code",
   "execution_count": 13,
   "id": "df732939-0623-40d1-b2d0-9f9c654112bf",
   "metadata": {},
   "outputs": [],
   "source": [
    "df_pubmed['key_words'] = keywordList_column_creator(df_pubmed,'Abstract',pubmed_autophrase_kwlist)"
   ]
  },
  {
   "cell_type": "code",
   "execution_count": 14,
   "id": "3569a483-5bf6-4ede-b79c-097b64d0733d",
   "metadata": {},
   "outputs": [
    {
     "data": {
      "text/html": [
       "<div>\n",
       "<style scoped>\n",
       "    .dataframe tbody tr th:only-of-type {\n",
       "        vertical-align: middle;\n",
       "    }\n",
       "\n",
       "    .dataframe tbody tr th {\n",
       "        vertical-align: top;\n",
       "    }\n",
       "\n",
       "    .dataframe thead th {\n",
       "        text-align: right;\n",
       "    }\n",
       "</style>\n",
       "<table border=\"1\" class=\"dataframe\">\n",
       "  <thead>\n",
       "    <tr style=\"text-align: right;\">\n",
       "      <th></th>\n",
       "      <th>PMID</th>\n",
       "      <th>Title</th>\n",
       "      <th>Authors</th>\n",
       "      <th>Citation</th>\n",
       "      <th>First Author</th>\n",
       "      <th>Journal/Book</th>\n",
       "      <th>Publication Year</th>\n",
       "      <th>Create Date</th>\n",
       "      <th>PMCID</th>\n",
       "      <th>NIHMS ID</th>\n",
       "      <th>DOI</th>\n",
       "      <th>Abstract</th>\n",
       "      <th>key_words</th>\n",
       "    </tr>\n",
       "  </thead>\n",
       "  <tbody>\n",
       "    <tr>\n",
       "      <th>0</th>\n",
       "      <td>31070324</td>\n",
       "      <td>[Micra® leadless pacemaker]</td>\n",
       "      <td>Lancellotti P, Gach O, Marechal P, Robinet S.</td>\n",
       "      <td>Rev Med Liege. 2019 Sup;74(S1):S104-S108.</td>\n",
       "      <td>Lancellotti P</td>\n",
       "      <td>Rev Med Liege</td>\n",
       "      <td>2019</td>\n",
       "      <td>2019/05/10</td>\n",
       "      <td>NaN</td>\n",
       "      <td>NaN</td>\n",
       "      <td>NaN</td>\n",
       "      <td>The Micra® leadless pacemaker has demonstrated...</td>\n",
       "      <td>[a new, for patients with, patients with, atri...</td>\n",
       "    </tr>\n",
       "    <tr>\n",
       "      <th>1</th>\n",
       "      <td>31373521</td>\n",
       "      <td>Pacemaker complications and costs: a nationwid...</td>\n",
       "      <td>Clémenty N, Fernandes J, Carion PL, de Léotoin...</td>\n",
       "      <td>J Med Econ. 2019 Nov;22(11):1171-1178. doi: 10...</td>\n",
       "      <td>Clémenty N</td>\n",
       "      <td>J Med Econ</td>\n",
       "      <td>2019</td>\n",
       "      <td>2019/08/03</td>\n",
       "      <td>NaN</td>\n",
       "      <td>NaN</td>\n",
       "      <td>10.1080/13696998.2019.1652186</td>\n",
       "      <td>Aims: Novel leadless pacemakers (LPMs) may red...</td>\n",
       "      <td>[leadless pacemakers, inclusion criteria]</td>\n",
       "    </tr>\n",
       "    <tr>\n",
       "      <th>2</th>\n",
       "      <td>30893006</td>\n",
       "      <td>Pacemaker exteriorization</td>\n",
       "      <td>Dupont J, Koch A, Vonck A, Sarens T.</td>\n",
       "      <td>Acta Cardiol. 2020 Aug;75(4):375-376. doi: 10....</td>\n",
       "      <td>Dupont J</td>\n",
       "      <td>Acta Cardiol</td>\n",
       "      <td>2020</td>\n",
       "      <td>2019/03/21</td>\n",
       "      <td>NaN</td>\n",
       "      <td>NaN</td>\n",
       "      <td>10.1080/00015385.2019.1587139</td>\n",
       "      <td>NaN</td>\n",
       "      <td>[]</td>\n",
       "    </tr>\n",
       "    <tr>\n",
       "      <th>3</th>\n",
       "      <td>30936325</td>\n",
       "      <td>Runaway pacemaker</td>\n",
       "      <td>Gul A, Sheikh MA, Rao A.</td>\n",
       "      <td>BMJ Case Rep. 2019 Mar 31;12(3):e225411. doi: ...</td>\n",
       "      <td>Gul A</td>\n",
       "      <td>BMJ Case Rep</td>\n",
       "      <td>2019</td>\n",
       "      <td>2019/04/03</td>\n",
       "      <td>PMC6453287</td>\n",
       "      <td>NaN</td>\n",
       "      <td>10.1136/bcr-2018-225411</td>\n",
       "      <td>Runaway pacemaker is phenomenon in which pacem...</td>\n",
       "      <td>[heart rate, history of, ventricular tachycard...</td>\n",
       "    </tr>\n",
       "    <tr>\n",
       "      <th>4</th>\n",
       "      <td>28956076</td>\n",
       "      <td>Pacemaker reprogramming rarely needed after de...</td>\n",
       "      <td>Curila K, Smida J, Herman D, Osmancik P, Stros...</td>\n",
       "      <td>Herz. 2019 Feb;44(1):56-59. doi: 10.1007/s0005...</td>\n",
       "      <td>Curila K</td>\n",
       "      <td>Herz</td>\n",
       "      <td>2019</td>\n",
       "      <td>2017/09/29</td>\n",
       "      <td>NaN</td>\n",
       "      <td>NaN</td>\n",
       "      <td>10.1007/s00059-017-4627-5</td>\n",
       "      <td>BACKGROUND: Most outpatient follow-ups after p...</td>\n",
       "      <td>[to determine, changes in, battery depletion]</td>\n",
       "    </tr>\n",
       "  </tbody>\n",
       "</table>\n",
       "</div>"
      ],
      "text/plain": [
       "       PMID                                              Title  \\\n",
       "0  31070324                        [Micra® leadless pacemaker]   \n",
       "1  31373521  Pacemaker complications and costs: a nationwid...   \n",
       "2  30893006                          Pacemaker exteriorization   \n",
       "3  30936325                                  Runaway pacemaker   \n",
       "4  28956076  Pacemaker reprogramming rarely needed after de...   \n",
       "\n",
       "                                             Authors  \\\n",
       "0      Lancellotti P, Gach O, Marechal P, Robinet S.   \n",
       "1  Clémenty N, Fernandes J, Carion PL, de Léotoin...   \n",
       "2               Dupont J, Koch A, Vonck A, Sarens T.   \n",
       "3                           Gul A, Sheikh MA, Rao A.   \n",
       "4  Curila K, Smida J, Herman D, Osmancik P, Stros...   \n",
       "\n",
       "                                            Citation   First Author  \\\n",
       "0          Rev Med Liege. 2019 Sup;74(S1):S104-S108.  Lancellotti P   \n",
       "1  J Med Econ. 2019 Nov;22(11):1171-1178. doi: 10...     Clémenty N   \n",
       "2  Acta Cardiol. 2020 Aug;75(4):375-376. doi: 10....       Dupont J   \n",
       "3  BMJ Case Rep. 2019 Mar 31;12(3):e225411. doi: ...          Gul A   \n",
       "4  Herz. 2019 Feb;44(1):56-59. doi: 10.1007/s0005...       Curila K   \n",
       "\n",
       "    Journal/Book  Publication Year Create Date       PMCID NIHMS ID  \\\n",
       "0  Rev Med Liege              2019  2019/05/10         NaN      NaN   \n",
       "1     J Med Econ              2019  2019/08/03         NaN      NaN   \n",
       "2   Acta Cardiol              2020  2019/03/21         NaN      NaN   \n",
       "3   BMJ Case Rep              2019  2019/04/03  PMC6453287      NaN   \n",
       "4           Herz              2019  2017/09/29         NaN      NaN   \n",
       "\n",
       "                             DOI  \\\n",
       "0                            NaN   \n",
       "1  10.1080/13696998.2019.1652186   \n",
       "2  10.1080/00015385.2019.1587139   \n",
       "3        10.1136/bcr-2018-225411   \n",
       "4      10.1007/s00059-017-4627-5   \n",
       "\n",
       "                                            Abstract  \\\n",
       "0  The Micra® leadless pacemaker has demonstrated...   \n",
       "1  Aims: Novel leadless pacemakers (LPMs) may red...   \n",
       "2                                                NaN   \n",
       "3  Runaway pacemaker is phenomenon in which pacem...   \n",
       "4  BACKGROUND: Most outpatient follow-ups after p...   \n",
       "\n",
       "                                           key_words  \n",
       "0  [a new, for patients with, patients with, atri...  \n",
       "1          [leadless pacemakers, inclusion criteria]  \n",
       "2                                                 []  \n",
       "3  [heart rate, history of, ventricular tachycard...  \n",
       "4      [to determine, changes in, battery depletion]  "
      ]
     },
     "execution_count": 14,
     "metadata": {},
     "output_type": "execute_result"
    }
   ],
   "source": [
    "df_pubmed[['PMID','key_words']].head()\n",
    "df_pubmed.head()"
   ]
  },
  {
   "cell_type": "code",
   "execution_count": 15,
   "id": "b4f3c9cb-f1c6-4b2d-beef-16bc5ce26d10",
   "metadata": {},
   "outputs": [],
   "source": [
    "df_pubmed.to_csv('Auto_phrase/pubmed_data_output_withkeyword.csv')"
   ]
  },
  {
   "cell_type": "markdown",
   "id": "6302fe58-6c06-428f-a8c2-564142b3c886",
   "metadata": {},
   "source": [
    "# Clinical_ Data"
   ]
  },
  {
   "cell_type": "code",
   "execution_count": 16,
   "id": "a47f5ab0-bd5b-469d-8568-1cd0319fa531",
   "metadata": {},
   "outputs": [],
   "source": [
    "df_clinical = pd.read_csv('Raw_data/ClinicalTrialsGov-Pacemaker-wContent.csv')"
   ]
  },
  {
   "cell_type": "code",
   "execution_count": 17,
   "id": "fcbc7026-580b-4600-b0f0-d565f6d8bb56",
   "metadata": {},
   "outputs": [
    {
     "data": {
      "text/plain": [
       "Index(['Unnamed: 0', 'Rank', 'NCT Number', 'Title', 'Acronym', 'Status',\n",
       "       'Study Results', 'Conditions', 'Interventions', 'Outcome Measures',\n",
       "       'Sponsor/Collaborators', 'Gender', 'Age', 'Phases', 'Enrollment',\n",
       "       'Funded Bys', 'Study Type', 'Study Designs', 'Other IDs', 'Start Date',\n",
       "       'Primary Completion Date', 'Completion Date', 'First Posted',\n",
       "       'Results First Posted', 'Last Update Posted', 'Locations',\n",
       "       'Study Documents', 'URL', 'Detailed Description', 'Study Arms',\n",
       "       'Eligibility Criteria'],\n",
       "      dtype='object')"
      ]
     },
     "execution_count": 17,
     "metadata": {},
     "output_type": "execute_result"
    }
   ],
   "source": [
    "df_clinical.columns"
   ]
  },
  {
   "cell_type": "markdown",
   "id": "322d8536-37a3-4669-85d8-f8f65b8a751b",
   "metadata": {},
   "source": [
    "### Selecting first 500 keywords:"
   ]
  },
  {
   "cell_type": "code",
   "execution_count": 18,
   "id": "81d8a56a-0476-43ad-a3a1-3119167971a4",
   "metadata": {},
   "outputs": [],
   "source": [
    "clinical_autophrase = clinical_autophrase[:500]\n",
    "clinical_autophrase_kwlist_500 = set(clinical_autophrase['keywords'].to_list())\n",
    "clinical_autophrase_kwlist = list (clinical_autophrase_kwlist_500.union(common_keyword))"
   ]
  },
  {
   "cell_type": "code",
   "execution_count": 19,
   "id": "ef0ddfc8-4ad8-49c7-9ede-e8447f19950d",
   "metadata": {},
   "outputs": [
    {
     "data": {
      "text/plain": [
       "620"
      ]
     },
     "execution_count": 19,
     "metadata": {},
     "output_type": "execute_result"
    }
   ],
   "source": [
    "len(clinical_autophrase_kwlist)"
   ]
  },
  {
   "cell_type": "code",
   "execution_count": 20,
   "id": "e45210bc-cdb0-440d-89cf-3ac427abc485",
   "metadata": {},
   "outputs": [],
   "source": [
    "textfile = open(\"Auto_phrase/autophrase_kwlist_clinical.txt\",  \"w\",  encoding=\"utf-8\")\n",
    "for element in clinical_autophrase_kwlist:\n",
    "    textfile.write(str(element) + \"\\n\")\n",
    "textfile.close()"
   ]
  },
  {
   "cell_type": "markdown",
   "id": "81efe4d5-78ca-48bd-89f5-6ecea84d323a",
   "metadata": {},
   "source": [
    "### Calculate Autophrase keyword coverage in Clinical abstract"
   ]
  },
  {
   "cell_type": "code",
   "execution_count": 36,
   "id": "cd9aaca3-3896-44de-b6c4-dc4116330c8d",
   "metadata": {},
   "outputs": [
    {
     "data": {
      "text/plain": [
       "96.625"
      ]
     },
     "execution_count": 36,
     "metadata": {},
     "output_type": "execute_result"
    }
   ],
   "source": [
    "keyword_list_percentage_calculator (df_clinical, 'Detailed Description', clinical_autophrase_kwlist)"
   ]
  },
  {
   "cell_type": "markdown",
   "id": "fc1d848f-8182-46e0-a0a8-5237e0dbee8f",
   "metadata": {},
   "source": [
    "### Iternate Autophrase keyword coverage in Clinical abstract to get list of keywords"
   ]
  },
  {
   "cell_type": "code",
   "execution_count": 22,
   "id": "05c083e3-f8fa-43a2-bccc-841ab8b12451",
   "metadata": {},
   "outputs": [],
   "source": [
    "df_clinical['key_words'] = keywordList_column_creator(df_clinical,'Detailed Description',clinical_autophrase_kwlist)"
   ]
  },
  {
   "cell_type": "code",
   "execution_count": 23,
   "id": "35587793-7920-430f-b20d-ee711120d22e",
   "metadata": {},
   "outputs": [
    {
     "data": {
      "text/html": [
       "<div>\n",
       "<style scoped>\n",
       "    .dataframe tbody tr th:only-of-type {\n",
       "        vertical-align: middle;\n",
       "    }\n",
       "\n",
       "    .dataframe tbody tr th {\n",
       "        vertical-align: top;\n",
       "    }\n",
       "\n",
       "    .dataframe thead th {\n",
       "        text-align: right;\n",
       "    }\n",
       "</style>\n",
       "<table border=\"1\" class=\"dataframe\">\n",
       "  <thead>\n",
       "    <tr style=\"text-align: right;\">\n",
       "      <th></th>\n",
       "      <th>Unnamed: 0</th>\n",
       "      <th>Rank</th>\n",
       "      <th>NCT Number</th>\n",
       "      <th>Title</th>\n",
       "      <th>Acronym</th>\n",
       "      <th>Status</th>\n",
       "      <th>Study Results</th>\n",
       "      <th>Conditions</th>\n",
       "      <th>Interventions</th>\n",
       "      <th>Outcome Measures</th>\n",
       "      <th>...</th>\n",
       "      <th>First Posted</th>\n",
       "      <th>Results First Posted</th>\n",
       "      <th>Last Update Posted</th>\n",
       "      <th>Locations</th>\n",
       "      <th>Study Documents</th>\n",
       "      <th>URL</th>\n",
       "      <th>Detailed Description</th>\n",
       "      <th>Study Arms</th>\n",
       "      <th>Eligibility Criteria</th>\n",
       "      <th>key_words</th>\n",
       "    </tr>\n",
       "  </thead>\n",
       "  <tbody>\n",
       "    <tr>\n",
       "      <th>0</th>\n",
       "      <td>0</td>\n",
       "      <td>1</td>\n",
       "      <td>NCT04926792</td>\n",
       "      <td>Taiwan Registry for Leadless Pacemaker</td>\n",
       "      <td>NaN</td>\n",
       "      <td>Not yet recruiting</td>\n",
       "      <td>No Results Available</td>\n",
       "      <td>Performance of the Leadless Pacemaker in Taiwa...</td>\n",
       "      <td>Device: Leadless Pacemaker</td>\n",
       "      <td>Acute complication|Subacute complication|Leadl...</td>\n",
       "      <td>...</td>\n",
       "      <td>15-Jun-21</td>\n",
       "      <td>NaN</td>\n",
       "      <td>15-Jun-21</td>\n",
       "      <td>NaN</td>\n",
       "      <td>NaN</td>\n",
       "      <td>https://ClinicalTrials.gov/show/NCT04926792</td>\n",
       "      <td>The purpose of this registry is to investigate...</td>\n",
       "      <td>NaN</td>\n",
       "      <td>Inclusion Criteria:\\r\\n\\r\\n          1. The pa...</td>\n",
       "      <td>[to evaluate, follow up]</td>\n",
       "    </tr>\n",
       "    <tr>\n",
       "      <th>1</th>\n",
       "      <td>1</td>\n",
       "      <td>2</td>\n",
       "      <td>NCT02931760</td>\n",
       "      <td>Placement Of Cardiac PacemaKer Trial (POCKET)-RCT</td>\n",
       "      <td>POCKET-RCT</td>\n",
       "      <td>Unknown status</td>\n",
       "      <td>No Results Available</td>\n",
       "      <td>Pacemaker Ddd</td>\n",
       "      <td>Device: subcutaneous pacemaker|Device: intramu...</td>\n",
       "      <td>patient overall satisfaction|complications due...</td>\n",
       "      <td>...</td>\n",
       "      <td>13-Oct-16</td>\n",
       "      <td>NaN</td>\n",
       "      <td>13-Oct-16</td>\n",
       "      <td>Region Gavleborg, Gävle, Sweden</td>\n",
       "      <td>NaN</td>\n",
       "      <td>https://ClinicalTrials.gov/show/NCT02931760</td>\n",
       "      <td>Background: Implantation of a cardiac pacemake...</td>\n",
       "      <td>['subcutaneous pacemaker', 'intramuscular pace...</td>\n",
       "      <td>Inclusion Criteria:\\r\\n\\r\\n          -  Indica...</td>\n",
       "      <td>[et al, randomized controlled, cardiac pacemak...</td>\n",
       "    </tr>\n",
       "    <tr>\n",
       "      <th>2</th>\n",
       "      <td>2</td>\n",
       "      <td>3</td>\n",
       "      <td>NCT03876600</td>\n",
       "      <td>Cost-utility Analysis of Ambulatory Care Compa...</td>\n",
       "      <td>START</td>\n",
       "      <td>Not yet recruiting</td>\n",
       "      <td>No Results Available</td>\n",
       "      <td>Pacemaker Ddd</td>\n",
       "      <td>Procedure: Replacement of permanent pacemakers...</td>\n",
       "      <td>Cost-utility analysis,from the perspective of ...</td>\n",
       "      <td>...</td>\n",
       "      <td>15-Mar-19</td>\n",
       "      <td>NaN</td>\n",
       "      <td>15-Mar-19</td>\n",
       "      <td>Lyon University Hospital, Lyon, Bron, France|A...</td>\n",
       "      <td>NaN</td>\n",
       "      <td>https://ClinicalTrials.gov/show/NCT03876600</td>\n",
       "      <td>In France, nearly 49,000 permanent pacemakers ...</td>\n",
       "      <td>['conventional hospitalization management.', '...</td>\n",
       "      <td>Inclusion Criteria:\\r\\n\\r\\n          -  Man or...</td>\n",
       "      <td>[hospital discharge, benefits of, due to, perm...</td>\n",
       "    </tr>\n",
       "    <tr>\n",
       "      <th>3</th>\n",
       "      <td>3</td>\n",
       "      <td>4</td>\n",
       "      <td>NCT03388281</td>\n",
       "      <td>Morbidity, Mortality and Gender Differences in...</td>\n",
       "      <td>NaN</td>\n",
       "      <td>Completed</td>\n",
       "      <td>No Results Available</td>\n",
       "      <td>Pacemaker, Artificial|Cohort Studies|Arrhythmi...</td>\n",
       "      <td>Other: No intervention, retrospective analysis...</td>\n",
       "      <td>Survival after pacemaker implantation|Implanta...</td>\n",
       "      <td>...</td>\n",
       "      <td>2-Jan-18</td>\n",
       "      <td>NaN</td>\n",
       "      <td>2-Jan-18</td>\n",
       "      <td>NaN</td>\n",
       "      <td>NaN</td>\n",
       "      <td>https://ClinicalTrials.gov/show/NCT03388281</td>\n",
       "      <td>NaN</td>\n",
       "      <td>Patients with implanted pacemaker</td>\n",
       "      <td>Inclusion Criteria:\\r\\n\\r\\n          -  All pa...</td>\n",
       "      <td>[]</td>\n",
       "    </tr>\n",
       "    <tr>\n",
       "      <th>4</th>\n",
       "      <td>4</td>\n",
       "      <td>5</td>\n",
       "      <td>NCT04163770</td>\n",
       "      <td>Evaluation Of Pacemakers in Children</td>\n",
       "      <td>NaN</td>\n",
       "      <td>Unknown status</td>\n",
       "      <td>No Results Available</td>\n",
       "      <td>Disorder of Cardiac Pacemaker System</td>\n",
       "      <td>Device: caliberation of pacemaker</td>\n",
       "      <td>Performance of pacemakers in children</td>\n",
       "      <td>...</td>\n",
       "      <td>15-Nov-19</td>\n",
       "      <td>NaN</td>\n",
       "      <td>15-Nov-19</td>\n",
       "      <td>NaN</td>\n",
       "      <td>NaN</td>\n",
       "      <td>https://ClinicalTrials.gov/show/NCT04163770</td>\n",
       "      <td>Although advances in device and lead technolog...</td>\n",
       "      <td>['performance of pacemaker at time of implanta...</td>\n",
       "      <td>Inclusion Criteria:\\r\\n\\r\\n        • Pediatric...</td>\n",
       "      <td>[congenital heart disease, congenital heart, p...</td>\n",
       "    </tr>\n",
       "  </tbody>\n",
       "</table>\n",
       "<p>5 rows × 32 columns</p>\n",
       "</div>"
      ],
      "text/plain": [
       "   Unnamed: 0  Rank   NCT Number  \\\n",
       "0           0     1  NCT04926792   \n",
       "1           1     2  NCT02931760   \n",
       "2           2     3  NCT03876600   \n",
       "3           3     4  NCT03388281   \n",
       "4           4     5  NCT04163770   \n",
       "\n",
       "                                               Title     Acronym  \\\n",
       "0             Taiwan Registry for Leadless Pacemaker         NaN   \n",
       "1  Placement Of Cardiac PacemaKer Trial (POCKET)-RCT  POCKET-RCT   \n",
       "2  Cost-utility Analysis of Ambulatory Care Compa...       START   \n",
       "3  Morbidity, Mortality and Gender Differences in...         NaN   \n",
       "4               Evaluation Of Pacemakers in Children         NaN   \n",
       "\n",
       "               Status         Study Results  \\\n",
       "0  Not yet recruiting  No Results Available   \n",
       "1      Unknown status  No Results Available   \n",
       "2  Not yet recruiting  No Results Available   \n",
       "3           Completed  No Results Available   \n",
       "4      Unknown status  No Results Available   \n",
       "\n",
       "                                          Conditions  \\\n",
       "0  Performance of the Leadless Pacemaker in Taiwa...   \n",
       "1                                      Pacemaker Ddd   \n",
       "2                                      Pacemaker Ddd   \n",
       "3  Pacemaker, Artificial|Cohort Studies|Arrhythmi...   \n",
       "4               Disorder of Cardiac Pacemaker System   \n",
       "\n",
       "                                       Interventions  \\\n",
       "0                         Device: Leadless Pacemaker   \n",
       "1  Device: subcutaneous pacemaker|Device: intramu...   \n",
       "2  Procedure: Replacement of permanent pacemakers...   \n",
       "3  Other: No intervention, retrospective analysis...   \n",
       "4                  Device: caliberation of pacemaker   \n",
       "\n",
       "                                    Outcome Measures  ... First Posted  \\\n",
       "0  Acute complication|Subacute complication|Leadl...  ...    15-Jun-21   \n",
       "1  patient overall satisfaction|complications due...  ...    13-Oct-16   \n",
       "2  Cost-utility analysis,from the perspective of ...  ...    15-Mar-19   \n",
       "3  Survival after pacemaker implantation|Implanta...  ...     2-Jan-18   \n",
       "4              Performance of pacemakers in children  ...    15-Nov-19   \n",
       "\n",
       "  Results First Posted Last Update Posted  \\\n",
       "0                  NaN          15-Jun-21   \n",
       "1                  NaN          13-Oct-16   \n",
       "2                  NaN          15-Mar-19   \n",
       "3                  NaN           2-Jan-18   \n",
       "4                  NaN          15-Nov-19   \n",
       "\n",
       "                                           Locations  Study Documents  \\\n",
       "0                                                NaN              NaN   \n",
       "1                    Region Gavleborg, Gävle, Sweden              NaN   \n",
       "2  Lyon University Hospital, Lyon, Bron, France|A...              NaN   \n",
       "3                                                NaN              NaN   \n",
       "4                                                NaN              NaN   \n",
       "\n",
       "                                           URL  \\\n",
       "0  https://ClinicalTrials.gov/show/NCT04926792   \n",
       "1  https://ClinicalTrials.gov/show/NCT02931760   \n",
       "2  https://ClinicalTrials.gov/show/NCT03876600   \n",
       "3  https://ClinicalTrials.gov/show/NCT03388281   \n",
       "4  https://ClinicalTrials.gov/show/NCT04163770   \n",
       "\n",
       "                                Detailed Description  \\\n",
       "0  The purpose of this registry is to investigate...   \n",
       "1  Background: Implantation of a cardiac pacemake...   \n",
       "2  In France, nearly 49,000 permanent pacemakers ...   \n",
       "3                                                NaN   \n",
       "4  Although advances in device and lead technolog...   \n",
       "\n",
       "                                          Study Arms  \\\n",
       "0                                                NaN   \n",
       "1  ['subcutaneous pacemaker', 'intramuscular pace...   \n",
       "2  ['conventional hospitalization management.', '...   \n",
       "3                  Patients with implanted pacemaker   \n",
       "4  ['performance of pacemaker at time of implanta...   \n",
       "\n",
       "                                Eligibility Criteria  \\\n",
       "0  Inclusion Criteria:\\r\\n\\r\\n          1. The pa...   \n",
       "1  Inclusion Criteria:\\r\\n\\r\\n          -  Indica...   \n",
       "2  Inclusion Criteria:\\r\\n\\r\\n          -  Man or...   \n",
       "3  Inclusion Criteria:\\r\\n\\r\\n          -  All pa...   \n",
       "4  Inclusion Criteria:\\r\\n\\r\\n        • Pediatric...   \n",
       "\n",
       "                                           key_words  \n",
       "0                           [to evaluate, follow up]  \n",
       "1  [et al, randomized controlled, cardiac pacemak...  \n",
       "2  [hospital discharge, benefits of, due to, perm...  \n",
       "3                                                 []  \n",
       "4  [congenital heart disease, congenital heart, p...  \n",
       "\n",
       "[5 rows x 32 columns]"
      ]
     },
     "execution_count": 23,
     "metadata": {},
     "output_type": "execute_result"
    }
   ],
   "source": [
    "df_clinical.head()"
   ]
  },
  {
   "cell_type": "code",
   "execution_count": 24,
   "id": "e57b505c-7e3f-4e36-8f18-5ddf29261ea7",
   "metadata": {},
   "outputs": [],
   "source": [
    "df_clinical.to_csv('Auto_phrase/clinical_data_output_withkeyword.csv')"
   ]
  },
  {
   "cell_type": "markdown",
   "id": "1ab41dad-1b6b-4379-aae4-f2bd4d9e9cf5",
   "metadata": {},
   "source": [
    "# NIH_ Data"
   ]
  },
  {
   "cell_type": "code",
   "execution_count": 26,
   "id": "3aa7c51a-84bd-4862-a2d8-13084572a9f4",
   "metadata": {},
   "outputs": [],
   "source": [
    "df_NIH = pd.read_csv('Raw_data/NIH_pacemaker_data.csv')"
   ]
  },
  {
   "cell_type": "code",
   "execution_count": 27,
   "id": "41b01442-4db8-4df5-9c1a-e7fc71f2de49",
   "metadata": {},
   "outputs": [
    {
     "data": {
      "text/plain": [
       "Index(['Unnamed: 0', 'APPLICATION_ID', 'ACTIVITY', 'ADMINISTERING_IC',\n",
       "       'APPLICATION_TYPE', 'ARRA_FUNDED', 'AWARD_NOTICE_DATE', 'BUDGET_START',\n",
       "       'BUDGET_END', 'CFDA_CODE', 'CORE_PROJECT_NUM', 'ED_INST_TYPE',\n",
       "       'FOA_NUMBER', 'FULL_PROJECT_NUM', 'FUNDING_ICs', 'FUNDING_MECHANISM',\n",
       "       'FY', 'IC_NAME', 'NIH_SPENDING_CATS', 'ORG_CITY', 'ORG_COUNTRY',\n",
       "       'ORG_DEPT', 'ORG_DISTRICT', 'ORG_DUNS', 'ORG_FIPS', 'ORG_IPF_CODE',\n",
       "       'ORG_NAME', 'ORG_STATE', 'ORG_ZIPCODE', 'PHR', 'PI_IDS', 'PI_NAMEs',\n",
       "       'PROGRAM_OFFICER_NAME', 'PROJECT_START', 'PROJECT_END', 'PROJECT_TERMS',\n",
       "       'PROJECT_TITLE', 'SERIAL_NUMBER', 'STUDY_SECTION', 'STUDY_SECTION_NAME',\n",
       "       'SUBPROJECT_ID', 'SUFFIX', 'SUPPORT_YEAR', 'DIRECT_COST_AMT',\n",
       "       'INDIRECT_COST_AMT', 'TOTAL_COST', 'TOTAL_COST_SUB_PROJECT'],\n",
       "      dtype='object')"
      ]
     },
     "execution_count": 27,
     "metadata": {},
     "output_type": "execute_result"
    }
   ],
   "source": [
    "df_NIH.columns"
   ]
  },
  {
   "cell_type": "code",
   "execution_count": 28,
   "id": "9a968793-096f-4d6f-b4f0-596eaa73414a",
   "metadata": {},
   "outputs": [],
   "source": [
    "df_NIH['abstract'] = df_NIH['PROJECT_TITLE'] + df_NIH['PROJECT_TERMS']"
   ]
  },
  {
   "cell_type": "markdown",
   "id": "4cc86479-179a-4757-85bf-e8508f5f9eed",
   "metadata": {},
   "source": [
    "### Selecting first 500 keywords:"
   ]
  },
  {
   "cell_type": "code",
   "execution_count": 29,
   "id": "e7ba63bb-3b91-4b53-a9f6-94de0f58cf6a",
   "metadata": {},
   "outputs": [],
   "source": [
    "NIH_autophrase = NIH_autophrase[:500]\n",
    "NIH_autophrase_kwlist_500 = set(NIH_autophrase['keywords'].to_list())\n",
    "NIH_autophrase_kwlist = list (NIH_autophrase_kwlist_500.union(common_keyword))"
   ]
  },
  {
   "cell_type": "code",
   "execution_count": 30,
   "id": "18f033fc-c8a6-40e8-b396-e08d9a1c5a44",
   "metadata": {},
   "outputs": [
    {
     "data": {
      "text/plain": [
       "643"
      ]
     },
     "execution_count": 30,
     "metadata": {},
     "output_type": "execute_result"
    }
   ],
   "source": [
    "len(NIH_autophrase_kwlist)"
   ]
  },
  {
   "cell_type": "code",
   "execution_count": 37,
   "id": "e5b1fe27-856d-42a2-8880-47646af16e67",
   "metadata": {},
   "outputs": [],
   "source": [
    "textfile = open(\"Auto_phrase/autophrase_kwlist_NIH.txt\",  \"w\",  encoding=\"utf-8\")\n",
    "for element in clinical_autophrase_kwlist:\n",
    "    textfile.write(str(element) + \"\\n\")\n",
    "textfile.close()"
   ]
  },
  {
   "cell_type": "markdown",
   "id": "44f203d3-f6f2-4fc5-8070-9c387897b1fd",
   "metadata": {},
   "source": [
    "### Calculate Autophrase keyword coverage in NIH Title"
   ]
  },
  {
   "cell_type": "code",
   "execution_count": 38,
   "id": "322ee9df-a145-4618-8d21-18932dabb12e",
   "metadata": {},
   "outputs": [
    {
     "data": {
      "text/plain": [
       "92.01154956689123"
      ]
     },
     "execution_count": 38,
     "metadata": {},
     "output_type": "execute_result"
    }
   ],
   "source": [
    "keyword_list_percentage_calculator (df_NIH, 'abstract', NIH_autophrase_kwlist)"
   ]
  },
  {
   "cell_type": "markdown",
   "id": "815d3d5d-3011-416f-aee3-25cbe062fd51",
   "metadata": {},
   "source": [
    "### Iternate Autophrase keyword coverage in NIH Title to get list of keywords"
   ]
  },
  {
   "cell_type": "code",
   "execution_count": 39,
   "id": "0c1234e2-8345-4628-8ad8-a7b908652ced",
   "metadata": {},
   "outputs": [],
   "source": [
    "df_NIH['key_words'] = keywordList_column_creator(df_NIH,'abstract',NIH_autophrase_kwlist)"
   ]
  },
  {
   "cell_type": "code",
   "execution_count": 40,
   "id": "70e7dc10-2e81-49e0-ab1f-2465c0fe2c8a",
   "metadata": {},
   "outputs": [
    {
     "data": {
      "text/html": [
       "<div>\n",
       "<style scoped>\n",
       "    .dataframe tbody tr th:only-of-type {\n",
       "        vertical-align: middle;\n",
       "    }\n",
       "\n",
       "    .dataframe tbody tr th {\n",
       "        vertical-align: top;\n",
       "    }\n",
       "\n",
       "    .dataframe thead th {\n",
       "        text-align: right;\n",
       "    }\n",
       "</style>\n",
       "<table border=\"1\" class=\"dataframe\">\n",
       "  <thead>\n",
       "    <tr style=\"text-align: right;\">\n",
       "      <th></th>\n",
       "      <th>Unnamed: 0</th>\n",
       "      <th>APPLICATION_ID</th>\n",
       "      <th>ACTIVITY</th>\n",
       "      <th>ADMINISTERING_IC</th>\n",
       "      <th>APPLICATION_TYPE</th>\n",
       "      <th>ARRA_FUNDED</th>\n",
       "      <th>AWARD_NOTICE_DATE</th>\n",
       "      <th>BUDGET_START</th>\n",
       "      <th>BUDGET_END</th>\n",
       "      <th>CFDA_CODE</th>\n",
       "      <th>...</th>\n",
       "      <th>STUDY_SECTION_NAME</th>\n",
       "      <th>SUBPROJECT_ID</th>\n",
       "      <th>SUFFIX</th>\n",
       "      <th>SUPPORT_YEAR</th>\n",
       "      <th>DIRECT_COST_AMT</th>\n",
       "      <th>INDIRECT_COST_AMT</th>\n",
       "      <th>TOTAL_COST</th>\n",
       "      <th>TOTAL_COST_SUB_PROJECT</th>\n",
       "      <th>abstract</th>\n",
       "      <th>key_words</th>\n",
       "    </tr>\n",
       "  </thead>\n",
       "  <tbody>\n",
       "    <tr>\n",
       "      <th>0</th>\n",
       "      <td>0</td>\n",
       "      <td>\"10351373</td>\n",
       "      <td>R21</td>\n",
       "      <td>AI</td>\n",
       "      <td>1.0</td>\n",
       "      <td>N</td>\n",
       "      <td>9/22/2021</td>\n",
       "      <td>9/22/2021</td>\n",
       "      <td>8/31/2022</td>\n",
       "      <td>855.0</td>\n",
       "      <td>...</td>\n",
       "      <td>Surgery, Anesthesiology and Trauma Study Section</td>\n",
       "      <td>NaN</td>\n",
       "      <td>NaN</td>\n",
       "      <td>1.0</td>\n",
       "      <td>150000.0</td>\n",
       "      <td>81750.0</td>\n",
       "      <td>231750.0</td>\n",
       "      <td>\"</td>\n",
       "      <td>Innovating Organ Shipment by Studying Environm...</td>\n",
       "      <td>[]</td>\n",
       "    </tr>\n",
       "    <tr>\n",
       "      <th>1</th>\n",
       "      <td>1</td>\n",
       "      <td>\"10298453</td>\n",
       "      <td>R56</td>\n",
       "      <td>HL</td>\n",
       "      <td>1.0</td>\n",
       "      <td>N</td>\n",
       "      <td>9/21/2021</td>\n",
       "      <td>9/25/2021</td>\n",
       "      <td>8/31/2022</td>\n",
       "      <td>837.0</td>\n",
       "      <td>...</td>\n",
       "      <td>Integrative Vascular Physiology and Pathology ...</td>\n",
       "      <td>NaN</td>\n",
       "      <td>A1</td>\n",
       "      <td>1.0</td>\n",
       "      <td>267355.0</td>\n",
       "      <td>140361.0</td>\n",
       "      <td>407716.0</td>\n",
       "      <td>\"</td>\n",
       "      <td>Role of the soluble (pro)renin receptor in blo...</td>\n",
       "      <td>[salt sensitive hypertension, blood pressure]</td>\n",
       "    </tr>\n",
       "    <tr>\n",
       "      <th>2</th>\n",
       "      <td>2</td>\n",
       "      <td>\"10275251</td>\n",
       "      <td>R01</td>\n",
       "      <td>HL</td>\n",
       "      <td>1.0</td>\n",
       "      <td>N</td>\n",
       "      <td>9/17/2021</td>\n",
       "      <td>9/20/2021</td>\n",
       "      <td>8/31/2022</td>\n",
       "      <td>839.0</td>\n",
       "      <td>...</td>\n",
       "      <td>Basic Biology of Blood, Heart and Vasculature ...</td>\n",
       "      <td>NaN</td>\n",
       "      <td>NaN</td>\n",
       "      <td>1.0</td>\n",
       "      <td>355491.0</td>\n",
       "      <td>216850.0</td>\n",
       "      <td>572341.0</td>\n",
       "      <td>\"</td>\n",
       "      <td>Hypertension augmented COVID-19 through renin-...</td>\n",
       "      <td>[liver injury]</td>\n",
       "    </tr>\n",
       "    <tr>\n",
       "      <th>3</th>\n",
       "      <td>3</td>\n",
       "      <td>\"10325868</td>\n",
       "      <td>R44</td>\n",
       "      <td>HL</td>\n",
       "      <td>1.0</td>\n",
       "      <td>N</td>\n",
       "      <td>9/20/2021</td>\n",
       "      <td>9/20/2021</td>\n",
       "      <td>8/31/2022</td>\n",
       "      <td>837.0</td>\n",
       "      <td>...</td>\n",
       "      <td>Special Emphasis Panel</td>\n",
       "      <td>NaN</td>\n",
       "      <td>A1</td>\n",
       "      <td>1.0</td>\n",
       "      <td>NaN</td>\n",
       "      <td>NaN</td>\n",
       "      <td>856873.0</td>\n",
       "      <td>\"</td>\n",
       "      <td>Developing a new drug for treating myocardial ...</td>\n",
       "      <td>[a new, myocardial ischemia, myocardial infarc...</td>\n",
       "    </tr>\n",
       "    <tr>\n",
       "      <th>4</th>\n",
       "      <td>4</td>\n",
       "      <td>\"10479415</td>\n",
       "      <td>R56</td>\n",
       "      <td>HL</td>\n",
       "      <td>1.0</td>\n",
       "      <td>N</td>\n",
       "      <td>9/20/2021</td>\n",
       "      <td>9/21/2021</td>\n",
       "      <td>8/31/2022</td>\n",
       "      <td>837.0</td>\n",
       "      <td>...</td>\n",
       "      <td>HIV Comorbidities and Clinical Studies Study S...</td>\n",
       "      <td>NaN</td>\n",
       "      <td>A1</td>\n",
       "      <td>1.0</td>\n",
       "      <td>507689.0</td>\n",
       "      <td>98034.0</td>\n",
       "      <td>605723.0</td>\n",
       "      <td>\"</td>\n",
       "      <td>Cardiac Energetics, Diastolic Dysfunction and ...</td>\n",
       "      <td>[heart failure]</td>\n",
       "    </tr>\n",
       "  </tbody>\n",
       "</table>\n",
       "<p>5 rows × 49 columns</p>\n",
       "</div>"
      ],
      "text/plain": [
       "   Unnamed: 0 APPLICATION_ID ACTIVITY ADMINISTERING_IC  APPLICATION_TYPE  \\\n",
       "0           0      \"10351373      R21               AI               1.0   \n",
       "1           1      \"10298453      R56               HL               1.0   \n",
       "2           2      \"10275251      R01               HL               1.0   \n",
       "3           3      \"10325868      R44               HL               1.0   \n",
       "4           4      \"10479415      R56               HL               1.0   \n",
       "\n",
       "  ARRA_FUNDED AWARD_NOTICE_DATE BUDGET_START BUDGET_END  CFDA_CODE  ...  \\\n",
       "0           N         9/22/2021    9/22/2021  8/31/2022      855.0  ...   \n",
       "1           N         9/21/2021    9/25/2021  8/31/2022      837.0  ...   \n",
       "2           N         9/17/2021    9/20/2021  8/31/2022      839.0  ...   \n",
       "3           N         9/20/2021    9/20/2021  8/31/2022      837.0  ...   \n",
       "4           N         9/20/2021    9/21/2021  8/31/2022      837.0  ...   \n",
       "\n",
       "                                  STUDY_SECTION_NAME SUBPROJECT_ID SUFFIX  \\\n",
       "0  Surgery, Anesthesiology and Trauma Study Section            NaN    NaN   \n",
       "1  Integrative Vascular Physiology and Pathology ...           NaN     A1   \n",
       "2  Basic Biology of Blood, Heart and Vasculature ...           NaN    NaN   \n",
       "3                            Special Emphasis Panel            NaN     A1   \n",
       "4  HIV Comorbidities and Clinical Studies Study S...           NaN     A1   \n",
       "\n",
       "  SUPPORT_YEAR DIRECT_COST_AMT INDIRECT_COST_AMT  TOTAL_COST  \\\n",
       "0          1.0        150000.0           81750.0    231750.0   \n",
       "1          1.0        267355.0          140361.0    407716.0   \n",
       "2          1.0        355491.0          216850.0    572341.0   \n",
       "3          1.0             NaN               NaN    856873.0   \n",
       "4          1.0        507689.0           98034.0    605723.0   \n",
       "\n",
       "  TOTAL_COST_SUB_PROJECT                                           abstract  \\\n",
       "0                      \"  Innovating Organ Shipment by Studying Environm...   \n",
       "1                      \"  Role of the soluble (pro)renin receptor in blo...   \n",
       "2                      \"  Hypertension augmented COVID-19 through renin-...   \n",
       "3                      \"  Developing a new drug for treating myocardial ...   \n",
       "4                      \"  Cardiac Energetics, Diastolic Dysfunction and ...   \n",
       "\n",
       "                                           key_words  \n",
       "0                                                 []  \n",
       "1      [salt sensitive hypertension, blood pressure]  \n",
       "2                                     [liver injury]  \n",
       "3  [a new, myocardial ischemia, myocardial infarc...  \n",
       "4                                    [heart failure]  \n",
       "\n",
       "[5 rows x 49 columns]"
      ]
     },
     "execution_count": 40,
     "metadata": {},
     "output_type": "execute_result"
    }
   ],
   "source": [
    "df_NIH.head()"
   ]
  },
  {
   "cell_type": "code",
   "execution_count": 35,
   "id": "adbd3e09-b680-4b7d-8731-e27a5604b6d6",
   "metadata": {},
   "outputs": [],
   "source": [
    "df_NIH.to_csv('Auto_phrase/NIH_data_output_withkeyword.csv')"
   ]
  },
  {
   "cell_type": "code",
   "execution_count": null,
   "id": "a9977c9d-bd9c-45c6-b494-0f45df649681",
   "metadata": {},
   "outputs": [],
   "source": []
  }
 ],
 "metadata": {
  "kernelspec": {
   "display_name": "Python 3",
   "language": "python",
   "name": "python3"
  },
  "language_info": {
   "codemirror_mode": {
    "name": "ipython",
    "version": 3
   },
   "file_extension": ".py",
   "mimetype": "text/x-python",
   "name": "python",
   "nbconvert_exporter": "python",
   "pygments_lexer": "ipython3",
   "version": "3.8.8"
  }
 },
 "nbformat": 4,
 "nbformat_minor": 5
}
