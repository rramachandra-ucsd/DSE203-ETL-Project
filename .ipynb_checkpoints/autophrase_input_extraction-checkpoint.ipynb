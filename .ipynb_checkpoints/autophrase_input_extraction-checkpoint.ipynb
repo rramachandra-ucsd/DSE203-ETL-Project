{
 "cells": [
  {
   "cell_type": "markdown",
   "id": "b37a0c0f-b832-49b5-970b-2c7e7a3f5fc6",
   "metadata": {},
   "source": [
    "# Autophrase Input extraction.\n",
    "### Extract the abstract, title etc columns into the txt file which will be used as input to Autophrase tool to extract keywords. \n"
   ]
  },
  {
   "cell_type": "code",
   "execution_count": 2,
   "id": "f1470de2-16a2-472b-9832-68a682759798",
   "metadata": {
    "tags": []
   },
   "outputs": [],
   "source": [
    "import pandas as pd"
   ]
  },
  {
   "cell_type": "code",
   "execution_count": 3,
   "id": "d8f30218-c056-46e8-9914-9b3b85207290",
   "metadata": {},
   "outputs": [],
   "source": [
    "df_pubmed = pd.read_csv('Raw_data/PubMed_wAbstracts-Pacemaker.csv')"
   ]
  },
  {
   "cell_type": "code",
   "execution_count": 4,
   "id": "1feb83b9-e8ce-41fc-9357-8dd8ac1e3620",
   "metadata": {},
   "outputs": [
    {
     "data": {
      "text/plain": [
       "Index(['PMID', 'Title', 'Authors', 'Citation', 'First Author', 'Journal/Book',\n",
       "       'Publication Year', 'Create Date', 'PMCID', 'NIHMS ID', 'DOI',\n",
       "       'Abstract'],\n",
       "      dtype='object')"
      ]
     },
     "execution_count": 4,
     "metadata": {},
     "output_type": "execute_result"
    }
   ],
   "source": [
    "df_pubmed.columns"
   ]
  },
  {
   "cell_type": "code",
   "execution_count": 5,
   "id": "1b06dbbd-a8e4-4840-9048-a83685dc88eb",
   "metadata": {},
   "outputs": [],
   "source": [
    "def convert_list_to_text(list_data):\n",
    "    text_output = ''\n",
    "    for temp in list_data:\n",
    "        temp = str(temp)\n",
    "        temp = temp.replace('\\n', ' ')\n",
    "        temp = temp.replace('\\t', ' ')\n",
    "        temp = temp +'\\n'\n",
    "        #temp =  temp.replace('\\r','')\n",
    "        text_output =  text_output+temp\n",
    "    return text_output"
   ]
  },
  {
   "cell_type": "code",
   "execution_count": 6,
   "id": "7ce6854d-6450-458f-94f1-da948e340cad",
   "metadata": {},
   "outputs": [],
   "source": [
    "pubmed_abstract_list = df_pubmed.Abstract.to_list()\n",
    "pubmed_abstract = convert_list_to_text(pubmed_abstract_list)"
   ]
  },
  {
   "cell_type": "code",
   "execution_count": 7,
   "id": "1aa28b5c-f744-4a3f-b9fd-80507618795d",
   "metadata": {},
   "outputs": [],
   "source": [
    "pubmed_title_list = df_pubmed.Title.to_list()\n",
    "pubmed_title = convert_list_to_text(pubmed_title_list)"
   ]
  },
  {
   "cell_type": "code",
   "execution_count": 8,
   "id": "52989c37-fd8d-48a1-8fc2-c5bf3fcd9b73",
   "metadata": {},
   "outputs": [],
   "source": [
    "final = pubmed_abstract + pubmed_title"
   ]
  },
  {
   "cell_type": "code",
   "execution_count": 9,
   "id": "8498091c-7ddf-4f94-b9d2-93c13f033f2e",
   "metadata": {},
   "outputs": [],
   "source": [
    "filename = 'Auto_phrase/input_pubmed_abstract.txt'\n",
    "with open(filename, 'w', encoding=\"utf-8\") as ofile:\n",
    "    ofile.write(final)    "
   ]
  },
  {
   "cell_type": "markdown",
   "id": "4f4686da-8278-4859-a47e-7ee47f2baf8b",
   "metadata": {},
   "source": [
    "### Clinical data"
   ]
  },
  {
   "cell_type": "code",
   "execution_count": 10,
   "id": "242dfba7-2c86-4ec8-ab1c-9c3a89996668",
   "metadata": {},
   "outputs": [],
   "source": [
    "df_clinical = pd.read_csv('Raw_data/ClinicalTrialsGov-Pacemaker-wContent.csv')"
   ]
  },
  {
   "cell_type": "code",
   "execution_count": 11,
   "id": "ceaed434-6e72-40b9-91b7-89d5e5444cec",
   "metadata": {},
   "outputs": [
    {
     "data": {
      "text/plain": [
       "Index(['Unnamed: 0', 'Rank', 'NCT Number', 'Title', 'Acronym', 'Status',\n",
       "       'Study Results', 'Conditions', 'Interventions', 'Outcome Measures',\n",
       "       'Sponsor/Collaborators', 'Gender', 'Age', 'Phases', 'Enrollment',\n",
       "       'Funded Bys', 'Study Type', 'Study Designs', 'Other IDs', 'Start Date',\n",
       "       'Primary Completion Date', 'Completion Date', 'First Posted',\n",
       "       'Results First Posted', 'Last Update Posted', 'Locations',\n",
       "       'Study Documents', 'URL', 'Detailed Description', 'Study Arms',\n",
       "       'Eligibility Criteria'],\n",
       "      dtype='object')"
      ]
     },
     "execution_count": 11,
     "metadata": {},
     "output_type": "execute_result"
    }
   ],
   "source": [
    "df_clinical.columns"
   ]
  },
  {
   "cell_type": "code",
   "execution_count": 12,
   "id": "6b00e5f8-cf72-469d-b468-e400679b58ca",
   "metadata": {},
   "outputs": [],
   "source": [
    "clinical_eligibility_list = df_clinical['Eligibility Criteria'].to_list()\n",
    "clinical_eligibility = convert_list_to_text(clinical_eligibility_list)"
   ]
  },
  {
   "cell_type": "code",
   "execution_count": 13,
   "id": "3bb1130a-328c-492e-bc02-75e8e47eff5e",
   "metadata": {},
   "outputs": [],
   "source": [
    "filename = 'Auto_phrase/input_clinical_eligiblity.txt'\n",
    "with open(filename, 'w', encoding=\"utf-8\") as ofile:\n",
    "    ofile.write(clinical_eligibility)    "
   ]
  },
  {
   "cell_type": "code",
   "execution_count": 14,
   "id": "5652c851-986d-4153-98ed-dbf6b31c4733",
   "metadata": {},
   "outputs": [],
   "source": [
    "clinical_abstract_list = df_clinical['Detailed Description'].to_list()\n",
    "clinical_abstract = convert_list_to_text(clinical_abstract_list)"
   ]
  },
  {
   "cell_type": "code",
   "execution_count": 15,
   "id": "20a33717-ecfc-48c7-91f2-ca40a8b87b9f",
   "metadata": {},
   "outputs": [],
   "source": [
    "filename = 'Auto_phrase/input_clinical_abstract.txt'\n",
    "with open(filename, 'w', encoding=\"utf-8\") as ofile:\n",
    "    ofile.write(clinical_abstract)   "
   ]
  },
  {
   "cell_type": "markdown",
   "id": "0e8fc07d-0442-424e-910c-bcabc0240c59",
   "metadata": {},
   "source": [
    "### NIH Pacemaker Data"
   ]
  },
  {
   "cell_type": "code",
   "execution_count": 16,
   "id": "ebb83fa9-71d4-4e98-abee-8bab490dc32d",
   "metadata": {},
   "outputs": [],
   "source": [
    "NIH_Data_df = pd.read_csv('Raw_data/NIH_pacemaker_data.csv')"
   ]
  },
  {
   "cell_type": "code",
   "execution_count": 17,
   "id": "978dccf3-8d0f-46da-bc6a-d9e6946b6da3",
   "metadata": {},
   "outputs": [
    {
     "data": {
      "text/plain": [
       "Index(['Unnamed: 0', 'APPLICATION_ID', 'ACTIVITY', 'ADMINISTERING_IC',\n",
       "       'APPLICATION_TYPE', 'ARRA_FUNDED', 'AWARD_NOTICE_DATE', 'BUDGET_START',\n",
       "       'BUDGET_END', 'CFDA_CODE', 'CORE_PROJECT_NUM', 'ED_INST_TYPE',\n",
       "       'FOA_NUMBER', 'FULL_PROJECT_NUM', 'FUNDING_ICs', 'FUNDING_MECHANISM',\n",
       "       'FY', 'IC_NAME', 'NIH_SPENDING_CATS', 'ORG_CITY', 'ORG_COUNTRY',\n",
       "       'ORG_DEPT', 'ORG_DISTRICT', 'ORG_DUNS', 'ORG_FIPS', 'ORG_IPF_CODE',\n",
       "       'ORG_NAME', 'ORG_STATE', 'ORG_ZIPCODE', 'PHR', 'PI_IDS', 'PI_NAMEs',\n",
       "       'PROGRAM_OFFICER_NAME', 'PROJECT_START', 'PROJECT_END', 'PROJECT_TERMS',\n",
       "       'PROJECT_TITLE', 'SERIAL_NUMBER', 'STUDY_SECTION', 'STUDY_SECTION_NAME',\n",
       "       'SUBPROJECT_ID', 'SUFFIX', 'SUPPORT_YEAR', 'DIRECT_COST_AMT',\n",
       "       'INDIRECT_COST_AMT', 'TOTAL_COST', 'TOTAL_COST_SUB_PROJECT'],\n",
       "      dtype='object')"
      ]
     },
     "execution_count": 17,
     "metadata": {},
     "output_type": "execute_result"
    }
   ],
   "source": [
    "NIH_Data_df.columns"
   ]
  },
  {
   "cell_type": "code",
   "execution_count": 18,
   "id": "56483d0b-3761-4118-ab50-70ef4963e7c2",
   "metadata": {},
   "outputs": [],
   "source": [
    "nih_project_terms_list = NIH_Data_df.PROJECT_TERMS.to_list()\n",
    "nih_project_terms = convert_list_to_text(nih_project_terms_list)"
   ]
  },
  {
   "cell_type": "code",
   "execution_count": 19,
   "id": "da12c165-350a-43a0-a783-936126cb8008",
   "metadata": {},
   "outputs": [],
   "source": [
    "nih_project_title_list = NIH_Data_df.PROJECT_TITLE.to_list()\n",
    "nih_project_title = convert_list_to_text(nih_project_title_list)"
   ]
  },
  {
   "cell_type": "code",
   "execution_count": 20,
   "id": "097bc3fb-83b6-4a1c-8046-f89c0cd726db",
   "metadata": {},
   "outputs": [],
   "source": [
    "final_nih = nih_project_title + nih_project_title"
   ]
  },
  {
   "cell_type": "code",
   "execution_count": 21,
   "id": "f5e64c7e-b642-4bc7-8708-17e7451d797c",
   "metadata": {},
   "outputs": [],
   "source": [
    "filename = 'Auto_phrase/input_nih_abstract.txt'\n",
    "with open(filename, 'w', encoding=\"utf-8\") as ofile:\n",
    "    ofile.write(final_nih)   "
   ]
  }
 ],
 "metadata": {
  "kernelspec": {
   "display_name": "Python 3",
   "language": "python",
   "name": "python3"
  },
  "language_info": {
   "codemirror_mode": {
    "name": "ipython",
    "version": 3
   },
   "file_extension": ".py",
   "mimetype": "text/x-python",
   "name": "python",
   "nbconvert_exporter": "python",
   "pygments_lexer": "ipython3",
   "version": "3.8.8"
  }
 },
 "nbformat": 4,
 "nbformat_minor": 5
}
