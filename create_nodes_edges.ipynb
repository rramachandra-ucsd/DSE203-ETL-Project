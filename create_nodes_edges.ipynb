{
 "cells": [
  {
   "cell_type": "markdown",
   "id": "ce81f815",
   "metadata": {},
   "source": [
    "# Creating Nodes and Edges as .csv Files\n",
    "Mary Kate Montogmery\n",
    "\n",
    "December 8 2021"
   ]
  },
  {
   "cell_type": "code",
   "execution_count": 167,
   "id": "a71a4377",
   "metadata": {},
   "outputs": [],
   "source": [
    "# Import libraries\n",
    "import pandas as pd\n",
    "import numpy as np\n",
    "import os\n",
    "pd.options.mode.chained_assignment = None  # default='warn'"
   ]
  },
  {
   "cell_type": "code",
   "execution_count": 168,
   "id": "d2cf8743",
   "metadata": {},
   "outputs": [],
   "source": [
    "def drop_unmatched_data(df,dtype):\n",
    "    '''Restrict nodes/edges to those pertaining to data that matched between data sources'''\n",
    "    if dtype == 'pubmed':\n",
    "        # Load entity matching results\n",
    "        df1 = pd.read_csv('ENTITY_MATCH_OUTPUT/data_matching_Project_IMP_columnsOnly_pubmedclinicTrial.csv')\n",
    "        df2 = pd.read_csv('ENTITY_MATCH_OUTPUT/data_matching_Project_IMP_columnsOnly_pubmedNIH.csv')\n",
    "        # List ids that matched\n",
    "        ids = list(np.unique(df1['pubMed'].to_list()+df2['pubMed'].to_list()))\n",
    "    elif dtype == 'nih':\n",
    "        df1 = pd.read_csv('ENTITY_MATCH_OUTPUT/data_matching_Project_IMP_columnsOnly_pubmedNIH.csv')\n",
    "        ids = df1['clinicTrial'].to_list()\n",
    "    elif dtype == 'clintrial':\n",
    "        df1 = pd.read_csv('ENTITY_MATCH_OUTPUT/data_matching_Project_IMP_columnsOnly_pubmedclinicTrial.csv')\n",
    "        ids = df1['clinicTrial'].to_list()\n",
    "    return df.iloc[ids]"
   ]
  },
  {
   "cell_type": "markdown",
   "id": "f9d827c6",
   "metadata": {},
   "source": [
    "### Create nodes and edges for subproperties of data sources"
   ]
  },
  {
   "cell_type": "code",
   "execution_count": 169,
   "id": "f0e9d6ba",
   "metadata": {
    "scrolled": true
   },
   "outputs": [],
   "source": [
    "def get_nodes_edges(dtype,data_source,colname,save_nodes,save_edges):\n",
    "    '''Create nodes and edges for subproperties of data sources'''\n",
    "    # Load data\n",
    "    df = pd.read_csv(data_source)\n",
    "    df = drop_unmatched_data(df,dtype)\n",
    "\n",
    "    # Get list of unique values in col of interest\n",
    "    node_vals = list(np.unique(df[colname].to_list()))\n",
    "\n",
    "    # Create table of nodes with ids\n",
    "    nodes = pd.DataFrame({'label':node_vals})\n",
    "    nodes['id'] = nodes.index.astype(int)\n",
    "\n",
    "    # Creat table of edges from source ids to targets\n",
    "    edges = df[[colname]]\n",
    "    edges['id'] = edges.index.astype(int)\n",
    "    edges = edges.join(nodes.set_index('label'),on=colname,lsuffix = '_source',rsuffix = '_target').drop(columns=colname)\n",
    "    edges.head()\n",
    "\n",
    "    # Write to csv\n",
    "    nodes[['id','label']].to_csv(save_nodes,index=False)\n",
    "    edges[['id_source','id_target']].to_csv(save_edges,index=False)\n",
    "    \n",
    "    return \n",
    "\n",
    "# Define input files to use\n",
    "pubmed_file = 'new_data/data_with_ontology_terms/pubMed.csv'\n",
    "clintrials_file = 'new_data/data_with_ontology_terms/clinTrials.csv'\n",
    "nih_file = 'new_data/data_with_ontology_terms/NIH.csv'\n",
    "save_dir = 'nodes_and_edges'\n",
    "\n",
    "# Pubmed Authors\n",
    "get_nodes_edges('pubmed',pubmed_file,'First Author',os.path.join(save_dir,'author_nodes.csv'),os.path.join(save_dir,'authoredby_edges.csv'))\n",
    "# Pubmed Journals\n",
    "get_nodes_edges('pubmed',pubmed_file,'Journal/Book',os.path.join(save_dir,'journal_nodes.csv'),os.path.join(save_dir,'publishedin_edges.csv'))\n",
    "# Clinical Trials Sponsors\n",
    "get_nodes_edges('clintrial',clintrials_file,'Sponsor/Collaborators',os.path.join(save_dir,'sponsor_nodes.csv'),os.path.join(save_dir,'sponsoredby_edges.csv'))\n",
    "# Clinical Trials Status\n",
    "get_nodes_edges('clintrial',clintrials_file,'Status',os.path.join(save_dir,'status_nodes.csv'),os.path.join(save_dir,'hasstatus_edges.csv'))\n",
    "# Clinical Trials Gender\n",
    "get_nodes_edges('clintrial',clintrials_file,'Gender',os.path.join(save_dir,'gender_nodes.csv'),os.path.join(save_dir,'haseligiblegender_edges.csv'))\n",
    "# Clinical Trials Age\n",
    "get_nodes_edges('clintrial',clintrials_file,'Age',os.path.join(save_dir,'agegroup_nodes.csv'),os.path.join(save_dir,'hasagegroup_edges.csv'))\n",
    "# NIH States\n",
    "get_nodes_edges('nih',nih_file,'ORG_STATE',os.path.join(save_dir,'state_nodes.csv'),os.path.join(save_dir,'instate_edges.csv'))\n",
    "# NIH Years\n",
    "get_nodes_edges('nih',nih_file,'FY',os.path.join(save_dir,'year_nodes.csv'),os.path.join(save_dir,'inyear_edges.csv'))"
   ]
  },
  {
   "cell_type": "markdown",
   "id": "1c220709",
   "metadata": {},
   "source": [
    "### Create nodes for main data sources"
   ]
  },
  {
   "cell_type": "code",
   "execution_count": 170,
   "id": "31d66dd2",
   "metadata": {},
   "outputs": [],
   "source": [
    "def get_datasource_node(dtype,data_source,savename,attr):\n",
    "    '''Create nodes for main data sources'''\n",
    "    # Load data\n",
    "    df = pd.read_csv(data_source)\n",
    "    df = drop_unmatched_data(df,dtype)\n",
    "    \n",
    "    # Keep only id and attributes\n",
    "    nodes = df[attr]\n",
    "    nodes['id'] = nodes.index.astype(int)\n",
    "    nodes = nodes[['id']+attr]\n",
    "    for a in attr:\n",
    "        nodes = nodes.rename(columns={a:a.lower()})\n",
    "    \n",
    "    # Write to csv\n",
    "    nodes.to_csv(savename,index=False)\n",
    "    return\n",
    "\n",
    "# NIH\n",
    "get_datasource_node('nih',nih_file,os.path.join(save_dir,'nih_nodes.csv'),['PROJECT_TITLE','TOTAL_COST'])\n",
    "# PubMed\n",
    "get_datasource_node('pubmed',pubmed_file,os.path.join(save_dir,'pubmed_nodes.csv'),['Title'])\n",
    "# Clinical Trials\n",
    "get_datasource_node('clintrial',clintrials_file,os.path.join(save_dir,'clintrials_nodes.csv'),['Title'])"
   ]
  },
  {
   "cell_type": "markdown",
   "id": "3b9c1b94",
   "metadata": {},
   "source": [
    "### Create nodes and edges for pacemaker subclasses and heart conditions"
   ]
  },
  {
   "cell_type": "code",
   "execution_count": 171,
   "id": "7a716541",
   "metadata": {},
   "outputs": [],
   "source": [
    "# Load data\n",
    "df_pub = drop_unmatched_data(pd.read_csv(pubmed_file),'pubmed')\n",
    "df_pub = df_pub.rename(columns={'indication':'condition'})\n",
    "df_clin = drop_unmatched_data(pd.read_csv(clintrials_file),'clintrial')\n",
    "df_nih = drop_unmatched_data(pd.read_csv(nih_file),'nih')\n",
    "\n",
    "def separate_edges(df,colname):\n",
    "    df['id'] = df.index\n",
    "    for i in list(df.index.values):\n",
    "        txt = df.loc[i][colname].replace('[','').replace(']','').replace(\"'\",'')\n",
    "        if txt == '':\n",
    "            df = df.drop(labels=i)\n",
    "        else:\n",
    "            vals = df.loc[i][colname].replace('[','').replace(']','').replace(\"'\",'').split(', ')\n",
    "            df.loc[i,colname] = vals[0]\n",
    "            for j in range(1,len(vals)):\n",
    "                newrow = df[df['id']==i]\n",
    "                newrow[colname] = vals[j]\n",
    "                df = pd.concat([df,newrow])\n",
    "    return df\n",
    "# Separate edges\n",
    "# Pubmed\n",
    "pub_condition_edges = separate_edges(df_pub,'condition')    \n",
    "pub_subclass_edges = separate_edges(df_pub,'subclass')\n",
    "# ClinTrials\n",
    "clin_condition_edges = separate_edges(df_clin,'condition')    \n",
    "clin_subclass_edges = separate_edges(df_clin,'subclass')\n",
    "# NIH\n",
    "nih_condition_edges = separate_edges(df_nih,'condition')    \n",
    "nih_subclass_edges = separate_edges(df_nih,'subclass')"
   ]
  },
  {
   "cell_type": "markdown",
   "id": "0cb5e864",
   "metadata": {},
   "source": [
    "### With separate edges, create nodes and edges like before\n",
    "### First for subclass"
   ]
  },
  {
   "cell_type": "code",
   "execution_count": 172,
   "id": "fdf424ce",
   "metadata": {},
   "outputs": [],
   "source": [
    "colname = 'subclass'\n",
    "node_vals = list(np.unique(list(np.unique(pub_subclass_edges[colname].to_list()))+list(np.unique(clin_subclass_edges[colname].to_list()))+list(np.unique(nih_subclass_edges[colname].to_list()))))\n",
    "# Create table of nodes with ids\n",
    "nodes = pd.DataFrame({'label':node_vals})\n",
    "nodes['id'] = nodes.index.astype(int)\n",
    "nodes[['id','label']].to_csv(os.path.join(save_dir,colname+'_nodes.csv'),index=False)\n",
    "\n",
    "# Create table of edges for each data source\n",
    "dfs = [pub_subclass_edges,clin_subclass_edges,nih_subclass_edges]\n",
    "names = ['pubmed','clin','nih']\n",
    "for d in range(len(dfs)):\n",
    "    df = dfs[d]\n",
    "    # Creat table of edges from source ids to targets\n",
    "    edges = df[['id',colname]]\n",
    "    edges = edges.join(nodes.set_index('label'),on=colname,lsuffix = '_source',rsuffix = '_target').drop(columns=colname)\n",
    "    edges.head()\n",
    "\n",
    "    # Write to csv\n",
    "    edges[['id_source','id_target']].to_csv(os.path.join(save_dir,names[d]+'_'+colname+'_edges.csv'),index=False)"
   ]
  },
  {
   "cell_type": "markdown",
   "id": "4692258a",
   "metadata": {},
   "source": [
    "### Then for heart conditions"
   ]
  },
  {
   "cell_type": "code",
   "execution_count": 173,
   "id": "e23e6099",
   "metadata": {},
   "outputs": [],
   "source": [
    "# Repeat for conditions\n",
    "colname = 'condition'\n",
    "node_vals = list(np.unique(list(np.unique(pub_condition_edges[colname].to_list()))+list(np.unique(clin_condition_edges[colname].to_list()))+list(np.unique(nih_condition_edges[colname].to_list()))))\n",
    "# Create table of nodes with ids\n",
    "nodes = pd.DataFrame({'label':node_vals})\n",
    "nodes['id'] = nodes.index.astype(int)\n",
    "nodes[['id','label']].to_csv(os.path.join(save_dir,colname+'_nodes.csv'),index=False)\n",
    "\n",
    "# Create table of edges for each data source\n",
    "dfs = [pub_condition_edges,clin_condition_edges,nih_condition_edges]\n",
    "names = ['pubmed','clin','nih']\n",
    "for d in range(len(dfs)):\n",
    "    df = dfs[d]\n",
    "    # Creat table of edges from source ids to targets\n",
    "    edges = df[['id',colname]]\n",
    "    edges = edges.join(nodes.set_index('label'),on=colname,lsuffix = '_source',rsuffix = '_target').drop(columns=colname)\n",
    "    edges.head()\n",
    "\n",
    "    # Write to csv\n",
    "    edges[['id_source','id_target']].to_csv(os.path.join(save_dir,names[d]+'_'+colname+'_edges.csv'),index=False)"
   ]
  },
  {
   "cell_type": "markdown",
   "id": "8987fa80",
   "metadata": {},
   "source": [
    "### Finally, draw edges between data sources"
   ]
  },
  {
   "cell_type": "code",
   "execution_count": 174,
   "id": "696fc00b",
   "metadata": {},
   "outputs": [],
   "source": [
    "# Pubmed to Clinical Trials\n",
    "pb_ct = pd.read_csv('ENTITY_MATCH_OUTPUT/data_matching_Project_IMP_columnsOnly_pubmedclinicTrial.csv')\n",
    "pb_ct = pb_ct.rename(columns={'pubMed':'id_Source','clinicTrial':'id_Target'})\n",
    "pb_ct[['id_Source','id_Target']].to_csv(os.path.join(save_dir,'pubmed_clintrials_edges.csv'))\n",
    "\n",
    "# Pubmed to NIH\n",
    "pb_nih = pd.read_csv('ENTITY_MATCH_OUTPUT/data_matching_Project_IMP_columnsOnly_pubmedNIH.csv')\n",
    "pb_nih = pb_nih.rename(columns={'pubMed':'id_Source','clinicTrial':'id_Target'})\n",
    "pb_ct[['id_Source','id_Target']].to_csv(os.path.join(save_dir,'pubmed_nih_edges.csv'))"
   ]
  }
 ],
 "metadata": {
  "kernelspec": {
   "display_name": "Python 3 (ipykernel)",
   "language": "python",
   "name": "python3"
  },
  "language_info": {
   "codemirror_mode": {
    "name": "ipython",
    "version": 3
   },
   "file_extension": ".py",
   "mimetype": "text/x-python",
   "name": "python",
   "nbconvert_exporter": "python",
   "pygments_lexer": "ipython3",
   "version": "3.8.11"
  }
 },
 "nbformat": 4,
 "nbformat_minor": 5
}
