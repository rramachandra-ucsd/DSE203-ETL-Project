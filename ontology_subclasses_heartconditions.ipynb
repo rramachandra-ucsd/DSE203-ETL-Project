{
 "cells": [
  {
   "cell_type": "code",
   "execution_count": 1,
   "id": "01c7f2a8",
   "metadata": {},
   "outputs": [],
   "source": [
    "# Import libraries\n",
    "import pandas as pd\n",
    "import numpy as np\n",
    "import py_stringmatching"
   ]
  },
  {
   "cell_type": "markdown",
   "id": "a9d5dea0",
   "metadata": {},
   "source": [
    "## Ontology Data"
   ]
  },
  {
   "cell_type": "code",
   "execution_count": 2,
   "id": "edc076ec",
   "metadata": {},
   "outputs": [],
   "source": [
    "# Read ontology data from text files (contain results of SPARQL queries)\n",
    "\n",
    "# Types of heart disease\n",
    "with open('heart_diseases.txt') as f:\n",
    "    diseases =  f.readlines()\n",
    "diseases = [d.replace('\\n','') for d in diseases]\n",
    "\n",
    "# Subclasses of pacemaker\n",
    "with open('pacemaker_subclasses.txt') as f:\n",
    "    subclasses =  f.readlines()\n",
    "subclasses = [s.replace('@en\\n','').replace('\"','') for s in subclasses]"
   ]
  },
  {
   "cell_type": "markdown",
   "id": "4018e46e",
   "metadata": {},
   "source": [
    "## Function Definitions"
   ]
  },
  {
   "cell_type": "code",
   "execution_count": 3,
   "id": "90f96753",
   "metadata": {},
   "outputs": [],
   "source": [
    "# Functions for parsing inputs\n",
    "def split_bar(txt):\n",
    "    if type(txt) == str:\n",
    "        out = txt.split('|')\n",
    "    else:\n",
    "        out = txt\n",
    "    return out\n",
    "\n",
    "def parse_txt(txt):\n",
    "    if type(txt) == str:\n",
    "        txt = txt.replace('[','').replace(']','').replace(\"'\",\"\").split(', ')\n",
    "    return txt\n",
    "\n",
    "def split_text(txt):\n",
    "    if type(txt) == str:\n",
    "        txt = txt.split(' ')\n",
    "    return txt"
   ]
  },
  {
   "cell_type": "code",
   "execution_count": 4,
   "id": "5dfdcf18",
   "metadata": {},
   "outputs": [],
   "source": [
    "# Functions for string matching\n",
    "def preprocess(txt):\n",
    "    ws_tok = py_stringmatching.WhitespaceTokenizer()\n",
    "    # Use all lower case\n",
    "    txt = txt.lower()\n",
    "    # Tokenize w/ whitespace\n",
    "    tok = ws_tok.tokenize(txt)\n",
    "    return tok\n",
    "\n",
    "def match_jaccard(elem, l,thresh,jac,ws_tok):\n",
    "    \n",
    "    \n",
    "    # Preprocess\n",
    "    elem = preprocess(elem)\n",
    "    \n",
    "    # Calc jaccard similarity\n",
    "    sim = [jac.get_sim_score(elem,i) for i in l]\n",
    "\n",
    "    if np.max(sim) > thresh:\n",
    "        return True\n",
    "    else:\n",
    "        return False"
   ]
  },
  {
   "cell_type": "code",
   "execution_count": 5,
   "id": "95628e94",
   "metadata": {},
   "outputs": [],
   "source": [
    "# Function to match specific fields against terms taken from ontologies\n",
    "def match_terms(row, terms, fields, thresh):\n",
    "    # Initialize\n",
    "    jac = py_stringmatching.Jaccard()\n",
    "    ws_tok = py_stringmatching.WhitespaceTokenizer()\n",
    "    # Set threshold for jaccard similarity\n",
    "    matches = []\n",
    "    for field in fields:\n",
    "        if type(row[field]) == float:\n",
    "            continue\n",
    "        if type(row[field]==list):\n",
    "            prep = [preprocess(i) for i in row[field]]\n",
    "        else:\n",
    "            prep = row[field]\n",
    "        for t in terms:\n",
    "            if match_jaccard(t,prep,thresh,jac,ws_tok):\n",
    "                matches.append(t)\n",
    "            elif match_jaccard(t+'s',prep,thresh,jac,ws_tok):\n",
    "                matches.append(t)\n",
    "    matches = list(np.unique(matches))\n",
    "    return matches"
   ]
  },
  {
   "cell_type": "code",
   "execution_count": 6,
   "id": "078d7aaa",
   "metadata": {},
   "outputs": [],
   "source": [
    "def search_mappings(KW_map,mapping):\n",
    "    if mapping not in KW_map:\n",
    "        return ''\n",
    "    if KW_map[mapping] == mapping:\n",
    "        return mapping\n",
    "    else:\n",
    "        return search_mappings(KW_map,KW_map[mapping])\n",
    "    \n",
    "def consol_KWs(KW):\n",
    "    '''Takes list of key words or phrases and creates mapping that consolidates synonyms'''\n",
    "    KW_map = {}\n",
    "    for kw in KW:\n",
    "        mapping = kw\n",
    "        if kw == '':\n",
    "            KW_map[kw] = mapping\n",
    "            continue\n",
    "        # Handle plurals\n",
    "        if kw[-1] == 's' and kw[:-1] in KW:\n",
    "            mapping = kw[:-1]\n",
    "        # Handle prefixes\n",
    "        kw_w = kw.split(' ')\n",
    "        if len(kw_w) > 1 and ' '.join(kw_w[1:]) in KW:\n",
    "            mapping = ' '.join(kw_w[1:])\n",
    "        # Save to mapping\n",
    "        KW_map[kw] = mapping\n",
    "    KW_map_final = {}\n",
    "    for kw in KW:\n",
    "        KW_map_final[kw] = search_mappings(KW_map,kw)\n",
    "    KW_out = [KW_map[kw] for kw in KW]\n",
    "    KW_out = list(np.unique(KW_out))\n",
    "    return KW_out\n"
   ]
  },
  {
   "cell_type": "markdown",
   "id": "8fe6c825",
   "metadata": {},
   "source": [
    "## Clinical Trials"
   ]
  },
  {
   "cell_type": "code",
   "execution_count": 7,
   "id": "e47c6894",
   "metadata": {
    "scrolled": true
   },
   "outputs": [
    {
     "data": {
      "text/html": [
       "<div>\n",
       "<style scoped>\n",
       "    .dataframe tbody tr th:only-of-type {\n",
       "        vertical-align: middle;\n",
       "    }\n",
       "\n",
       "    .dataframe tbody tr th {\n",
       "        vertical-align: top;\n",
       "    }\n",
       "\n",
       "    .dataframe thead th {\n",
       "        text-align: right;\n",
       "    }\n",
       "</style>\n",
       "<table border=\"1\" class=\"dataframe\">\n",
       "  <thead>\n",
       "    <tr style=\"text-align: right;\">\n",
       "      <th></th>\n",
       "      <th>Unnamed: 0</th>\n",
       "      <th>Unnamed: 0.1</th>\n",
       "      <th>Rank</th>\n",
       "      <th>NCT Number</th>\n",
       "      <th>Title</th>\n",
       "      <th>Acronym</th>\n",
       "      <th>Status</th>\n",
       "      <th>Study Results</th>\n",
       "      <th>Conditions</th>\n",
       "      <th>Interventions</th>\n",
       "      <th>...</th>\n",
       "      <th>Study Documents</th>\n",
       "      <th>URL</th>\n",
       "      <th>Detailed Description</th>\n",
       "      <th>Study Arms</th>\n",
       "      <th>Eligibility Criteria</th>\n",
       "      <th>KW_RAKE_DetailedDescription</th>\n",
       "      <th>KW_RAKE_Title</th>\n",
       "      <th>KW_RAKE_EligibilityCriteria</th>\n",
       "      <th>KW_LDA</th>\n",
       "      <th>KW_Autophrase</th>\n",
       "    </tr>\n",
       "  </thead>\n",
       "  <tbody>\n",
       "    <tr>\n",
       "      <th>0</th>\n",
       "      <td>0</td>\n",
       "      <td>0</td>\n",
       "      <td>1</td>\n",
       "      <td>NCT04926792</td>\n",
       "      <td>Taiwan Registry for Leadless Pacemaker</td>\n",
       "      <td>NaN</td>\n",
       "      <td>Not yet recruiting</td>\n",
       "      <td>No Results Available</td>\n",
       "      <td>[Performance of the Leadless Pacemaker in Taiw...</td>\n",
       "      <td>Device: Leadless Pacemaker</td>\n",
       "      <td>...</td>\n",
       "      <td>NaN</td>\n",
       "      <td>https://ClinicalTrials.gov/show/NCT04926792</td>\n",
       "      <td>The purpose of this registry is to investigate...</td>\n",
       "      <td>NaN</td>\n",
       "      <td>Inclusion Criteria:\\r\\n\\r\\n          1. The pa...</td>\n",
       "      <td>[world benefit specifically, patient selection...</td>\n",
       "      <td>[taiwan registry, leadless pacemaker]</td>\n",
       "      <td>[successfully received leadless pacemaker impl...</td>\n",
       "      <td>[therapy, surgical, cardiac, tavi, child, inte...</td>\n",
       "      <td>[follow up, to evaluate]</td>\n",
       "    </tr>\n",
       "    <tr>\n",
       "      <th>1</th>\n",
       "      <td>1</td>\n",
       "      <td>1</td>\n",
       "      <td>2</td>\n",
       "      <td>NCT02931760</td>\n",
       "      <td>Placement Of Cardiac PacemaKer Trial (POCKET)-RCT</td>\n",
       "      <td>POCKET-RCT</td>\n",
       "      <td>Unknown status</td>\n",
       "      <td>No Results Available</td>\n",
       "      <td>[Pacemaker Ddd]</td>\n",
       "      <td>Device: subcutaneous pacemaker|Device: intramu...</td>\n",
       "      <td>...</td>\n",
       "      <td>NaN</td>\n",
       "      <td>https://ClinicalTrials.gov/show/NCT02931760</td>\n",
       "      <td>Background: Implantation of a cardiac pacemake...</td>\n",
       "      <td>['subcutaneous pacemaker', 'intramuscular pace...</td>\n",
       "      <td>Inclusion Criteria:\\r\\n\\r\\n          -  Indica...</td>\n",
       "      <td>[figure 1 shows two hypothetical truncated log...</td>\n",
       "      <td>[pocket )- rct, cardiac pacemaker trial, place...</td>\n",
       "      <td>[skinny patient deemed, vvir )., intramuscular...</td>\n",
       "      <td>[therapy, surgical, cardiac, tavi, child, inte...</td>\n",
       "      <td>[vascular access, a small, surgical procedure,...</td>\n",
       "    </tr>\n",
       "    <tr>\n",
       "      <th>2</th>\n",
       "      <td>2</td>\n",
       "      <td>2</td>\n",
       "      <td>3</td>\n",
       "      <td>NCT03876600</td>\n",
       "      <td>Cost-utility Analysis of Ambulatory Care Compa...</td>\n",
       "      <td>START</td>\n",
       "      <td>Not yet recruiting</td>\n",
       "      <td>No Results Available</td>\n",
       "      <td>[Pacemaker Ddd]</td>\n",
       "      <td>Procedure: Replacement of permanent pacemakers...</td>\n",
       "      <td>...</td>\n",
       "      <td>NaN</td>\n",
       "      <td>https://ClinicalTrials.gov/show/NCT03876600</td>\n",
       "      <td>In France, nearly 49,000 permanent pacemakers ...</td>\n",
       "      <td>['conventional hospitalization management.', '...</td>\n",
       "      <td>Inclusion Criteria:\\r\\n\\r\\n          -  Man or...</td>\n",
       "      <td>[764 pacemaker replacement hospital stays took...</td>\n",
       "      <td>[permanent pacemakers replacement, elective re...</td>\n",
       "      <td>[battery elective wear without programmed act,...</td>\n",
       "      <td>NaN</td>\n",
       "      <td>[due to, hospital discharge, permanent pacemak...</td>\n",
       "    </tr>\n",
       "    <tr>\n",
       "      <th>3</th>\n",
       "      <td>3</td>\n",
       "      <td>3</td>\n",
       "      <td>4</td>\n",
       "      <td>NCT03388281</td>\n",
       "      <td>Morbidity, Mortality and Gender Differences in...</td>\n",
       "      <td>NaN</td>\n",
       "      <td>Completed</td>\n",
       "      <td>No Results Available</td>\n",
       "      <td>[Pacemaker, Artificial, Cohort Studies, Arrhyt...</td>\n",
       "      <td>Other: No intervention, retrospective analysis...</td>\n",
       "      <td>...</td>\n",
       "      <td>NaN</td>\n",
       "      <td>https://ClinicalTrials.gov/show/NCT03388281</td>\n",
       "      <td>NaN</td>\n",
       "      <td>Patients with implanted pacemaker</td>\n",
       "      <td>Inclusion Criteria:\\r\\n\\r\\n          -  All pa...</td>\n",
       "      <td>[]</td>\n",
       "      <td>[gender differences, patients, pacemakers, mor...</td>\n",
       "      <td>[single documented diagnose, medical universit...</td>\n",
       "      <td>[therapy, surgical, cardiac, tavi, child, inte...</td>\n",
       "      <td>[]</td>\n",
       "    </tr>\n",
       "    <tr>\n",
       "      <th>4</th>\n",
       "      <td>4</td>\n",
       "      <td>4</td>\n",
       "      <td>5</td>\n",
       "      <td>NCT04163770</td>\n",
       "      <td>Evaluation Of Pacemakers in Children</td>\n",
       "      <td>NaN</td>\n",
       "      <td>Unknown status</td>\n",
       "      <td>No Results Available</td>\n",
       "      <td>[Disorder of Cardiac Pacemaker System]</td>\n",
       "      <td>Device: caliberation of pacemaker</td>\n",
       "      <td>...</td>\n",
       "      <td>NaN</td>\n",
       "      <td>https://ClinicalTrials.gov/show/NCT04163770</td>\n",
       "      <td>Although advances in device and lead technolog...</td>\n",
       "      <td>['performance of pacemaker at time of implanta...</td>\n",
       "      <td>Inclusion Criteria:\\r\\n\\r\\n        • Pediatric...</td>\n",
       "      <td>[chamber pacemakers pacing requires two endoca...</td>\n",
       "      <td>[pacemakers, evaluation, children]</td>\n",
       "      <td>[• pediatric age group 0 month, permanent card...</td>\n",
       "      <td>NaN</td>\n",
       "      <td>[in children, history of, a small, patients wi...</td>\n",
       "    </tr>\n",
       "  </tbody>\n",
       "</table>\n",
       "<p>5 rows × 37 columns</p>\n",
       "</div>"
      ],
      "text/plain": [
       "   Unnamed: 0  Unnamed: 0.1  Rank   NCT Number  \\\n",
       "0           0             0     1  NCT04926792   \n",
       "1           1             1     2  NCT02931760   \n",
       "2           2             2     3  NCT03876600   \n",
       "3           3             3     4  NCT03388281   \n",
       "4           4             4     5  NCT04163770   \n",
       "\n",
       "                                               Title     Acronym  \\\n",
       "0             Taiwan Registry for Leadless Pacemaker         NaN   \n",
       "1  Placement Of Cardiac PacemaKer Trial (POCKET)-RCT  POCKET-RCT   \n",
       "2  Cost-utility Analysis of Ambulatory Care Compa...       START   \n",
       "3  Morbidity, Mortality and Gender Differences in...         NaN   \n",
       "4               Evaluation Of Pacemakers in Children         NaN   \n",
       "\n",
       "               Status         Study Results  \\\n",
       "0  Not yet recruiting  No Results Available   \n",
       "1      Unknown status  No Results Available   \n",
       "2  Not yet recruiting  No Results Available   \n",
       "3           Completed  No Results Available   \n",
       "4      Unknown status  No Results Available   \n",
       "\n",
       "                                          Conditions  \\\n",
       "0  [Performance of the Leadless Pacemaker in Taiw...   \n",
       "1                                    [Pacemaker Ddd]   \n",
       "2                                    [Pacemaker Ddd]   \n",
       "3  [Pacemaker, Artificial, Cohort Studies, Arrhyt...   \n",
       "4             [Disorder of Cardiac Pacemaker System]   \n",
       "\n",
       "                                       Interventions  ... Study Documents  \\\n",
       "0                         Device: Leadless Pacemaker  ...             NaN   \n",
       "1  Device: subcutaneous pacemaker|Device: intramu...  ...             NaN   \n",
       "2  Procedure: Replacement of permanent pacemakers...  ...             NaN   \n",
       "3  Other: No intervention, retrospective analysis...  ...             NaN   \n",
       "4                  Device: caliberation of pacemaker  ...             NaN   \n",
       "\n",
       "                                           URL  \\\n",
       "0  https://ClinicalTrials.gov/show/NCT04926792   \n",
       "1  https://ClinicalTrials.gov/show/NCT02931760   \n",
       "2  https://ClinicalTrials.gov/show/NCT03876600   \n",
       "3  https://ClinicalTrials.gov/show/NCT03388281   \n",
       "4  https://ClinicalTrials.gov/show/NCT04163770   \n",
       "\n",
       "                                Detailed Description  \\\n",
       "0  The purpose of this registry is to investigate...   \n",
       "1  Background: Implantation of a cardiac pacemake...   \n",
       "2  In France, nearly 49,000 permanent pacemakers ...   \n",
       "3                                                NaN   \n",
       "4  Although advances in device and lead technolog...   \n",
       "\n",
       "                                          Study Arms  \\\n",
       "0                                                NaN   \n",
       "1  ['subcutaneous pacemaker', 'intramuscular pace...   \n",
       "2  ['conventional hospitalization management.', '...   \n",
       "3                  Patients with implanted pacemaker   \n",
       "4  ['performance of pacemaker at time of implanta...   \n",
       "\n",
       "                                Eligibility Criteria  \\\n",
       "0  Inclusion Criteria:\\r\\n\\r\\n          1. The pa...   \n",
       "1  Inclusion Criteria:\\r\\n\\r\\n          -  Indica...   \n",
       "2  Inclusion Criteria:\\r\\n\\r\\n          -  Man or...   \n",
       "3  Inclusion Criteria:\\r\\n\\r\\n          -  All pa...   \n",
       "4  Inclusion Criteria:\\r\\n\\r\\n        • Pediatric...   \n",
       "\n",
       "                         KW_RAKE_DetailedDescription  \\\n",
       "0  [world benefit specifically, patient selection...   \n",
       "1  [figure 1 shows two hypothetical truncated log...   \n",
       "2  [764 pacemaker replacement hospital stays took...   \n",
       "3                                                 []   \n",
       "4  [chamber pacemakers pacing requires two endoca...   \n",
       "\n",
       "                                       KW_RAKE_Title  \\\n",
       "0              [taiwan registry, leadless pacemaker]   \n",
       "1  [pocket )- rct, cardiac pacemaker trial, place...   \n",
       "2  [permanent pacemakers replacement, elective re...   \n",
       "3  [gender differences, patients, pacemakers, mor...   \n",
       "4                 [pacemakers, evaluation, children]   \n",
       "\n",
       "                         KW_RAKE_EligibilityCriteria  \\\n",
       "0  [successfully received leadless pacemaker impl...   \n",
       "1  [skinny patient deemed, vvir )., intramuscular...   \n",
       "2  [battery elective wear without programmed act,...   \n",
       "3  [single documented diagnose, medical universit...   \n",
       "4  [• pediatric age group 0 month, permanent card...   \n",
       "\n",
       "                                              KW_LDA  \\\n",
       "0  [therapy, surgical, cardiac, tavi, child, inte...   \n",
       "1  [therapy, surgical, cardiac, tavi, child, inte...   \n",
       "2                                                NaN   \n",
       "3  [therapy, surgical, cardiac, tavi, child, inte...   \n",
       "4                                                NaN   \n",
       "\n",
       "                                       KW_Autophrase  \n",
       "0                           [follow up, to evaluate]  \n",
       "1  [vascular access, a small, surgical procedure,...  \n",
       "2  [due to, hospital discharge, permanent pacemak...  \n",
       "3                                                 []  \n",
       "4  [in children, history of, a small, patients wi...  \n",
       "\n",
       "[5 rows x 37 columns]"
      ]
     },
     "execution_count": 7,
     "metadata": {},
     "output_type": "execute_result"
    }
   ],
   "source": [
    "# Read data + rake keywords\n",
    "df = pd.read_csv('new_data/ClinTrials_RAKE.csv')\n",
    "df['Conditions'] = df.apply(lambda row: split_bar(row['Conditions']), axis = 1)\n",
    "df['KW_RAKE_DetailedDescription'] = df.apply(lambda row: parse_txt(row['KW_RAKE_DetailedDescription']), axis = 1)\n",
    "df['KW_RAKE_Title'] = df.apply(lambda row: parse_txt(row['KW_RAKE_Title']), axis = 1)\n",
    "df['KW_RAKE_EligibilityCriteria'] = df.apply(lambda row: parse_txt(row['KW_RAKE_EligibilityCriteria']), axis = 1)\n",
    "\n",
    "# Read LDA keywords\n",
    "df_lda = pd.read_csv('new_data/data_matching_Project_IMP_columnsOnly.csv')\n",
    "df_lda = df_lda.set_index(keys='clinicTrial')\n",
    "df_lda = df_lda['clinicTrial_keywords']\n",
    "# Join LDA keywords to existing df\n",
    "df = df.join(df_lda).rename(columns={'clinicTrial_keywords':'KW_LDA'})\n",
    "df['KW_LDA'] = df.apply(lambda row: split_text(row['KW_LDA']),axis=1)\n",
    "\n",
    "# Read Autophrase keywords\n",
    "df_ap = pd.read_csv('new_data/clinical_data_output_withkeyword.csv')\n",
    "df_ap = df_ap['key_words']\n",
    "df = df.join(df_ap).rename(columns={'key_words':'KW_Autophrase'})\n",
    "df['KW_Autophrase'] = df.apply(lambda row: parse_txt(row['KW_Autophrase']), axis = 1)\n",
    "\n",
    "df.head()"
   ]
  },
  {
   "cell_type": "code",
   "execution_count": 8,
   "id": "5f6f2e8b",
   "metadata": {},
   "outputs": [],
   "source": [
    "# Apply ontologies\n",
    "df['condition'] = df.apply(lambda row: match_terms(row,diseases,['Conditions','KW_RAKE_DetailedDescription','KW_RAKE_Title','KW_RAKE_EligibilityCriteria','KW_LDA','KW_Autophrase'],0.5),axis=1)\n",
    "df['subclass'] = df.apply(lambda row: match_terms(row, subclasses,['KW_RAKE_DetailedDescription','KW_RAKE_Title','KW_RAKE_EligibilityCriteria','KW_LDA','KW_Autophrase'],0.5), axis=1)"
   ]
  },
  {
   "cell_type": "code",
   "execution_count": 9,
   "id": "bc1df9c5",
   "metadata": {},
   "outputs": [],
   "source": [
    "# Consolidate synonyms\n",
    "df['condition'] = df.apply(lambda row: consol_KWs(row['condition']),axis=1)\n",
    "df['subclass'] = df.apply(lambda row: consol_KWs(row['subclass']),axis=1)"
   ]
  },
  {
   "cell_type": "code",
   "execution_count": 27,
   "id": "b9afd4c8",
   "metadata": {},
   "outputs": [
    {
     "data": {
      "text/plain": [
       "\"This protocol outlines the methods on the Micra Pacemaker. The Micra Transcatheter Pacemaker\\r\\n      System is a miniaturized single chamber pacemaker system that is delivered via catheter\\r\\n      through the femoral vein and is implanted directly inside the right ventricle of the heart.\\r\\n      The Micra device eliminates the need for a device pocket and insertion of a pacing lead,\\r\\n      thereby eliminating lead and pocket related complications associated with traditional pacing\\r\\n      systems while providing similar pacing benefits. The US Food and Drug Administration (FDA)\\r\\n      approved the Micra system on April 6, 2016, for the following conditions:\\r\\n\\r\\n        -  symptomatic paroxysmal or permanent high-grade atrioventricular block (AV) in the\\r\\n           presence of atrial fibrillation (AF)\\r\\n\\r\\n        -  symptomatic paroxysmal or permanent high-grade AV block in the absence of AF, as an\\r\\n           alternative to dual chamber pacing, when atrial lead placement is considered difficult,\\r\\n           high risk, or not deemed necessary for effective therapy\\r\\n\\r\\n        -  symptomatic bradycardia-tachycardia syndrome or sinus node dysfunction (sinus\\r\\n           bradycardia or sinus pauses), as an alternative to atrial or dual chamber pacing, when\\r\\n           atrial lead placement is considered difficult, high risk, or not deemed necessary for\\r\\n           effective therapy The FDA approved the Micra system on the basis of clinical trial\\r\\n           evidence from the Micra Investigational Device Exemption (IDE) study (NCT02488681).\\r\\n\\r\\n      On January 18, 2017, the Centers for Medicare and Medicaid Services (CMS) issued a final\\r\\n      National Coverage Determination (NCD) on leadless pacemakers, providing for coverage with\\r\\n      Coverage with Evidence Development (CED) of approved leadless pacemakers for approved\\r\\n      indications (CAG-00448N). The NCD requires the research study conducted as part of CED to\\r\\n      address the following research questions:\\r\\n\\r\\n        1. What are the peri-procedural and post-procedural complications of leadless pacemakers?\\r\\n\\r\\n        2. What are the long-term outcomes of leadless pacemakers?\\r\\n\\r\\n        3. What are the effects of patient characteristics (age, gender, comorbidities) on the use\\r\\n           and health effects of leadless pacemakers?\\r\\n\\r\\n      In addition, CMS outlined six evidentiary gaps in the final NCD for leadless pacemakers:\\r\\n\\r\\n        1. What are the peri-procedural and post-procedural complications, and long term outcomes\\r\\n           of leadless pacemakers?\\r\\n\\r\\n        2. Are leadless pacemakers equivalent or superior to conventional pacemaker's in general\\r\\n           clinical practice?\\r\\n\\r\\n        3. What are the infection rates, the long-term hemodynamic effects, and the rates of\\r\\n           formation of thrombi?\\r\\n\\r\\n        4. What are the patient demographics and effects of patient characteristics (age, gender,\\r\\n           comorbidities) on the use and health effects of leadless pacemakers?\\r\\n\\r\\n        5. What are the device-related issues (handling of end of battery life; effects of having\\r\\n           multiple leadless pacemakers implanted; rate of device dislodgement; and the possibility\\r\\n           of device extractions)?\\r\\n\\r\\n        6. How are operators and facility characteristics related to peri-procedural and\\r\\n           post-procedural complications?\""
      ]
     },
     "execution_count": 27,
     "metadata": {},
     "output_type": "execute_result"
    }
   ],
   "source": [
    "df.iloc[9]['Detailed Description']"
   ]
  },
  {
   "cell_type": "code",
   "execution_count": 22,
   "id": "2132ace2",
   "metadata": {
    "scrolled": true
   },
   "outputs": [
    {
     "data": {
      "text/plain": [
       "['Atrial Fibrillation', 'Atrioventricular Block']"
      ]
     },
     "execution_count": 22,
     "metadata": {},
     "output_type": "execute_result"
    }
   ],
   "source": [
    "df.iloc[9]['condition']"
   ]
  },
  {
   "cell_type": "code",
   "execution_count": 28,
   "id": "33be154e",
   "metadata": {},
   "outputs": [
    {
     "data": {
      "text/plain": [
       "['Single chamber pacemaker']"
      ]
     },
     "execution_count": 28,
     "metadata": {},
     "output_type": "execute_result"
    }
   ],
   "source": [
    "df.iloc[9]['subclass']"
   ]
  },
  {
   "cell_type": "code",
   "execution_count": null,
   "id": "2ca412ae",
   "metadata": {},
   "outputs": [],
   "source": [
    "# Write data to new csv file\n",
    "df.to_csv('new_data/data_with_ontology_terms/clinTrials.csv')"
   ]
  },
  {
   "cell_type": "markdown",
   "id": "0f783509",
   "metadata": {},
   "source": [
    "## PubMed Data"
   ]
  },
  {
   "cell_type": "code",
   "execution_count": null,
   "id": "69df7aa7",
   "metadata": {},
   "outputs": [],
   "source": [
    "# Read data + rake keywords\n",
    "df = pd.read_csv('new_data/PubMed_RAKE.csv')\n",
    "df['KW_RAKE_Abstract'] = df.apply(lambda row: parse_txt(row['KW_RAKE_Abstract']), axis = 1)\n",
    "df['KW_RAKE_Title'] = df.apply(lambda row: parse_txt(row['KW_RAKE_Title']), axis = 1)\n",
    "\n",
    "# Read LDA keywords\n",
    "df_lda = pd.read_csv('new_data/data_matching_Project_IMP_columnsOnly.csv')\n",
    "df_lda = df_lda.set_index(keys='pubMed')\n",
    "df_lda = df_lda['pubMed_keywords']\n",
    "\n",
    "# Join LDA keywords to existing df\n",
    "df = df.join(df_lda).rename(columns={'pubMed_keywords':'KW_LDA'})\n",
    "df['KW_LDA'] = df.apply(lambda row: split_text(row['KW_LDA']),axis=1)\n",
    "\n",
    "# Read Autophrase keywords\n",
    "df_ap = pd.read_csv('new_data/pubmed_data_output_withkeyword.csv')\n",
    "df_ap = df_ap['key_words']\n",
    "df = df.join(df_ap).rename(columns={'key_words':'KW_Autophrase'})\n",
    "df['KW_Autophrase'] = df.apply(lambda row: parse_txt(row['KW_Autophrase']), axis = 1)\n",
    "\n",
    "df.head()"
   ]
  },
  {
   "cell_type": "code",
   "execution_count": null,
   "id": "1ceae8f7",
   "metadata": {},
   "outputs": [],
   "source": [
    "# Apply ontologies\n",
    "df['condition'] = df.apply(lambda row: match_terms(row,diseases,['KW_RAKE_Abstract','KW_RAKE_Title','KW_LDA','KW_Autophrase'],0.5),axis=1)\n",
    "df['subclass'] = df.apply(lambda row: match_terms(row, subclasses,['KW_RAKE_Abstract','KW_RAKE_Title','KW_LDA','KW_Autophrase'],0.5), axis=1)\n",
    "#df['condition'] = df.apply(lambda row: match_terms(row, conditions,['KW_RAKE_Abstract','KW_RAKE_Title','KW_LDA','KW_Autophrase'],0.5), axis=1)"
   ]
  },
  {
   "cell_type": "code",
   "execution_count": null,
   "id": "c4f5190b",
   "metadata": {},
   "outputs": [],
   "source": [
    "# Consolidate synonyms\n",
    "df['condition'] = df.apply(lambda row: consol_KWs(row['condition']),axis=1)\n",
    "df['subclass'] = df.apply(lambda row: consol_KWs(row['subclass']),axis=1)"
   ]
  },
  {
   "cell_type": "code",
   "execution_count": null,
   "id": "c30d5230",
   "metadata": {},
   "outputs": [],
   "source": [
    "df.head()"
   ]
  },
  {
   "cell_type": "code",
   "execution_count": null,
   "id": "7c2ff6e4",
   "metadata": {},
   "outputs": [],
   "source": [
    "# Write data to new csv file\n",
    "df.to_csv('new_data/data_with_ontology_terms/pubMed.csv')"
   ]
  },
  {
   "cell_type": "markdown",
   "id": "d0dd6ec1",
   "metadata": {},
   "source": [
    "## NIH Data"
   ]
  },
  {
   "cell_type": "code",
   "execution_count": 29,
   "id": "0c258ca4",
   "metadata": {},
   "outputs": [],
   "source": [
    "# Read data\n",
    "df = pd.read_csv('new_data/NIH_RAKE.csv')\n",
    "df['KW_RAKE_Terms'] = df.apply(lambda row: parse_txt(row['KW_RAKE_Terms']), axis = 1)\n",
    "df['KW_RAKE_Title'] = df.apply(lambda row: parse_txt(row['KW_RAKE_Title']), axis = 1)\n",
    "\n",
    "# Read LDA keywords\n",
    "\n",
    "\n",
    "# Read Autophrase keywords\n",
    "df_ap = pd.read_csv('new_data/NIH_data_output_withkeyword.csv')\n",
    "df_ap = df_ap['key_words']\n",
    "df = df.join(df_ap).rename(columns={'key_words':'KW_Autophrase'})\n",
    "df['KW_Autophrase'] = df.apply(lambda row: parse_txt(row['KW_Autophrase']), axis = 1)"
   ]
  },
  {
   "cell_type": "code",
   "execution_count": null,
   "id": "de89dc2a",
   "metadata": {},
   "outputs": [],
   "source": [
    "# Apply ontologies\n",
    "df['condition'] = df.apply(lambda row: match_terms(row,diseases,['KW_RAKE_Title','KW_RAKE_Terms','PROJECT_TERMS','KW_Autophrase'],0.5),axis=1)\n",
    "df['subclass'] = df.apply(lambda row: match_terms(row, subclasses,['KW_RAKE_Title','KW_RAKE_Terms','PROJECT_TERMS','KW_Autophrase'],0.5), axis=1)"
   ]
  },
  {
   "cell_type": "code",
   "execution_count": null,
   "id": "079895bf",
   "metadata": {},
   "outputs": [],
   "source": [
    "# Consolidate synonyms\n",
    "df['condition'] = df.apply(lambda row: consol_KWs(row['condition']),axis=1)\n",
    "df['subclass'] = df.apply(lambda row: consol_KWs(row['subclass']),axis=1)\n"
   ]
  },
  {
   "cell_type": "code",
   "execution_count": null,
   "id": "4a60b715",
   "metadata": {},
   "outputs": [],
   "source": [
    "# Write data to new csv file\n",
    "df.to_csv('new_data/data_with_ontology_terms/NIH.csv')"
   ]
  }
 ],
 "metadata": {
  "kernelspec": {
   "display_name": "Python 3 (ipykernel)",
   "language": "python",
   "name": "python3"
  },
  "language_info": {
   "codemirror_mode": {
    "name": "ipython",
    "version": 3
   },
   "file_extension": ".py",
   "mimetype": "text/x-python",
   "name": "python",
   "nbconvert_exporter": "python",
   "pygments_lexer": "ipython3",
   "version": "3.8.11"
  }
 },
 "nbformat": 4,
 "nbformat_minor": 5
}
