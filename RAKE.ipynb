{
 "cells": [
  {
   "cell_type": "markdown",
   "id": "ca1d95e5",
   "metadata": {},
   "source": [
    "# RAKE\n",
    "Script to use RAKE method to extract keywords from abstract and title of PubMed data, from detailed description, title, and eligibility criteria of Clinical Trials Data and from Project Terms and Project Title of NIH data.\n",
    "\n",
    "Mary Kate Montgomery\n",
    "\n",
    "12/2/21"
   ]
  },
  {
   "cell_type": "code",
   "execution_count": 2,
   "id": "475bd8f6",
   "metadata": {},
   "outputs": [],
   "source": [
    "# Import libraries\n",
    "from rake_nltk import Rake\n",
    "import pandas as pd\n",
    "import nltk"
   ]
  },
  {
   "cell_type": "code",
   "execution_count": 3,
   "id": "3f85826a",
   "metadata": {},
   "outputs": [],
   "source": [
    "# Create rake instance\n",
    "r = Rake()"
   ]
  },
  {
   "cell_type": "code",
   "execution_count": 3,
   "id": "40d7104b",
   "metadata": {},
   "outputs": [
    {
     "name": "stderr",
     "output_type": "stream",
     "text": [
      "[nltk_data] Downloading package punkt to /home/marykate/nltk_data...\n",
      "[nltk_data]   Package punkt is already up-to-date!\n"
     ]
    },
    {
     "data": {
      "text/plain": [
       "True"
      ]
     },
     "execution_count": 3,
     "metadata": {},
     "output_type": "execute_result"
    }
   ],
   "source": [
    "# ONE TIME ONLY\n",
    "#nltk.download('stopwords')\n",
    "nltk.download('punkt')"
   ]
  },
  {
   "cell_type": "markdown",
   "id": "00001505",
   "metadata": {},
   "source": [
    "## PubMed Data"
   ]
  },
  {
   "cell_type": "code",
   "execution_count": 38,
   "id": "7a1ced1e",
   "metadata": {
    "scrolled": true
   },
   "outputs": [],
   "source": [
    "# Read csv of abstracts - PubMEd\n",
    "df = pd.read_csv('Raw_data/PubMed_wAbstracts-Pacemaker.csv')"
   ]
  },
  {
   "cell_type": "code",
   "execution_count": 6,
   "id": "8b5faa75",
   "metadata": {},
   "outputs": [],
   "source": [
    "# Extract keywords from text with rake\n",
    "def top_10_phrases(txt):\n",
    "    if not type(txt) == str:\n",
    "        return []\n",
    "    r.extract_keywords_from_text(txt)\n",
    "    p = r.get_ranked_phrases()\n",
    "    return p[0:10]"
   ]
  },
  {
   "cell_type": "code",
   "execution_count": 21,
   "id": "08c1fe2e",
   "metadata": {},
   "outputs": [],
   "source": [
    "# Extract keywords from Pubmed abstract and title\n",
    "df['KW_RAKE_Abstract'] = df.apply(lambda row: top_10_phrases(row['Abstract']), axis=1)\n",
    "df['KW_RAKE_Title'] = df.apply(lambda row: top_10_phrases(row['Title']), axis=1)"
   ]
  },
  {
   "cell_type": "code",
   "execution_count": 35,
   "id": "116df980",
   "metadata": {},
   "outputs": [],
   "source": [
    "# Write new data to csv\n",
    "df.to_csv('rake_output/PubMed_RAKE.csv')"
   ]
  },
  {
   "cell_type": "code",
   "execution_count": 24,
   "id": "2b1e66cb",
   "metadata": {},
   "outputs": [
    {
     "name": "stdout",
     "output_type": "stream",
     "text": [
      "[('patients', 922), ('transcatheter aortic valve replacement', 573), ('transcatheter aortic valve implantation', 520), ('cardiac implantable electronic devices', 373), ('patient', 363), ('case report', 319), ('permanent pacemaker implantation', 288), ('long', 283), ('pacemaker', 282), ('analysis', 243), ('pacemaker implantation', 223), ('outcomes', 208), ('surgical aortic valve replacement', 193), ('cardiac resynchronization therapy', 189), ('safety', 187), ('atrial fibrillation', 179), ('predictors', 161), ('impact', 159), ('cardiac implantable electronic device', 158), ('sick sinus syndrome', 158), ('comparison', 155), ('meta', 154), ('complete heart block', 153), ('severe aortic stenosis', 139), ('case', 138), ('single', 133), ('complete atrioventricular block', 126), ('results', 121), ('left ventricular ejection fraction', 120), ('implantation', 118), ('systematic review', 117), ('transvenous lead extraction', 116), ('high', 112), ('treatment', 107), ('left bundle branch block', 107), ('sinus node dysfunction', 101), ('incidence', 96), ('leadless pacemaker', 96), ('magnetic resonance imaging', 94), ('risk', 94), ('effect', 93), ('aortic valve replacement', 90), ('persistent left superior vena cava', 87), ('use', 87), ('year', 86), ('management', 85), ('permanent pacemaker', 84), ('efficacy', 83), ('cardiovascular implantable electronic devices', 83), ('non', 83), ('pacemakers', 81), ('effects', 80), ('congenital heart disease', 76), ('implantable cardioverter', 75), ('implantable cardioverter defibrillator', 72), ('right bundle branch block', 72), ('self', 72), ('bundle pacing', 71), ('heart failure', 70), ('mortality', 68), ('valve academic research consortium', 68), ('children', 67), ('dual', 67), ('feasibility', 67), ('risk factors', 67), ('sudden cardiac death', 67), ('implantable cardioverter defibrillators', 66), ('role', 65), ('low', 65), ('degree atrioventricular block', 65), ('clinical outcomes', 65), ('report', 63), ('insights', 62), ('cajal', 61), ('associated', 61), ('1', 61), ('pacing', 61), ('term outcomes', 61), ('study', 59), ('center experience', 59), ('covid', 58), ('risk patients', 58), ('atrioventricular block', 57), ('tavr', 55), ('new', 55), ('left bundle branch pacing', 55), ('pacemaker lead', 54), ('prevalence', 54), ('superior vena cava', 53), ('need', 53), ('leadless pacemaker implantation', 52), ('infective endocarditis', 52), ('evaluation', 52), ('syncope', 51), ('paroxysmal atrial fibrillation', 51), ('mechanism', 50), ('association', 50), ('life', 49), ('right ventricular pacing', 49), ('outcome', 48)]\n"
     ]
    }
   ],
   "source": [
    "# Print list of most common phrases from abstract\n",
    "top_phrases = []\n",
    "for p in range(len(df)):\n",
    "    [top_phrases.append(a) for a in df.iloc[p]['KW_RAKE_Abstract']]\n",
    "    [top_phrases.append(a) for a in df.iloc[p]['KW_RAKE_Title']]\n",
    "\n",
    "from collections import Counter\n",
    "Counter = Counter(top_phrases)\n",
    "pubmed_phrases = Counter.most_common(100)\n",
    "print(pubmed_phrases)"
   ]
  },
  {
   "cell_type": "code",
   "execution_count": 25,
   "id": "c25f322f",
   "metadata": {},
   "outputs": [],
   "source": [
    "# Write most popular phrases to text\n",
    "textfile = open(\"rake_output/rake_mostcommonphrases_pubmed.txt\", \"w\")\n",
    "for element in pubmed_phrases:\n",
    "    textfile.write(element[0] + \"\\n\")\n",
    "textfile.close()"
   ]
  },
  {
   "cell_type": "markdown",
   "id": "56ab4747",
   "metadata": {},
   "source": [
    "## Clinical Trials Data"
   ]
  },
  {
   "cell_type": "code",
   "execution_count": 34,
   "id": "d313521d",
   "metadata": {},
   "outputs": [],
   "source": [
    "# Read data - Clinical Trials\n",
    "df = pd.read_csv('Raw_data/ClinicalTrialsGov-Pacemaker-wContent.csv')"
   ]
  },
  {
   "cell_type": "code",
   "execution_count": 15,
   "id": "a0759e11",
   "metadata": {},
   "outputs": [],
   "source": [
    "# Extract keywords from Clinical Trials abstract and title\n",
    "df['KW_RAKE_DetailedDescription'] = df.apply(lambda row: top_10_phrases(row['Detailed Description']), axis=1)\n",
    "df['KW_RAKE_Title'] = df.apply(lambda row: top_10_phrases(row['Title']), axis=1)\n",
    "df['KW_RAKE_EligibilityCriteria'] = df.apply(lambda row: top_10_phrases(row['Eligibility Criteria']), axis=1)"
   ]
  },
  {
   "cell_type": "code",
   "execution_count": 43,
   "id": "4a8d2eaa",
   "metadata": {},
   "outputs": [],
   "source": [
    "df.to_csv('rake_output/ClinTrials_RAKE.csv')"
   ]
  },
  {
   "cell_type": "code",
   "execution_count": 18,
   "id": "e37227aa",
   "metadata": {},
   "outputs": [
    {
     "name": "stdout",
     "output_type": "stream",
     "text": [
      "[('inclusion criteria', 466), ('patients', 236), ('exclusion criteria', 106), ('left ventricular ejection fraction', 72), ('atrial fibrillation', 66), ('study', 65), ('safety', 64), ('heart failure', 52), ('provide informed consent', 49), ('cardiac resynchronization therapy', 47), ('pacemaker', 43), ('18 years', 41), ('give informed consent', 40), ('new york heart association', 38), ('effect', 34), ('treatment', 33), ('evaluation', 31), ('age ≥ 18 years', 31), ('severe aortic stenosis', 28), ('sick sinus syndrome', 27), ('efficacy', 27), ('non', 27), ('transcatheter aortic valve implantation', 26), ('comparison', 26), ('provide written informed consent', 25), ('permanent atrial fibrillation', 25), ('implantable cardioverter defibrillator', 25), ('surgical aortic valve replacement', 25), ('18 years old', 24), ('transcatheter aortic valve replacement', 24), ('crt', 24), ('icd', 23), ('persistent atrial fibrillation', 22), ('dual chamber pacemaker', 22), ('pacemakers', 21), ('written informed consent', 21), ('impact', 21), ('paroxysmal atrial fibrillation', 20), ('patient', 20), ('informed consent', 20), ('subjects', 19), ('effects', 19), ('prevention', 18), ('implantation', 18), ('tavi', 18), ('give written informed consent', 17), ('cardiac surgery', 17), ('pacemaker patients', 17), ('life expectancy less', 17), ('another clinical study', 17), ('heart failure patients', 16), ('provided written informed consent', 16), ('use', 16), ('severe symptomatic aortic stenosis', 16), ('left bundle branch block', 15), ('signed informed consent exclusion criteria', 15), ('aortic valve replacement', 15), ('tavr', 14), ('chronic heart failure', 14), ('6 months', 14), ('congestive heart failure', 14), ('aortic stenosis', 14), ('children', 13), ('af', 13), ('clinical study', 13), ('mri', 13), ('last 3 months', 13), ('effectiveness', 13), ('cardiac resynchronisation therapy', 13), ('coronary artery bypass grafting', 13), ('life expectancy', 12), ('congenital heart disease', 12), ('written informed consent exclusion criteria', 12), ('chronic obstructive pulmonary disease', 12), ('biventricular pacing', 12), ('deep brain stimulation', 12), ('untreated clinically significant coronary artery disease requiring revascularization', 12), ('chronic atrial fibrillation', 11), ('magnetic resonance imaging', 11), ('pilot study', 11), ('unable', 11), ('sinus node dysfunction', 11), ('give informed consent specific', 11), ('pre', 11), ('none', 11), ('efficacy study', 11), ('signed informed consent', 11), ('pacing', 11), ('estimated glomerular filtration rate', 11), ('symptomatic severe aortic stenosis', 11), ('pacemaker implantation', 10), ('permanent pacemaker implantation', 10), ('management', 10), ('study exclusion criteria', 10), ('6 minute walk test', 10), ('assessment', 10), ('acute myocardial infarction ≤ 30 days', 10), ('end stage renal disease requiring chronic dialysis', 10), ('registry', 9), ('indication', 9)]\n"
     ]
    }
   ],
   "source": [
    "# Print list of most common phrases from detailed description\n",
    "top_phrases = []\n",
    "for p in range(len(df)):\n",
    "    [top_phrases.append(a) for a in df.iloc[p]['KW_RAKE_DetailedDescription']]\n",
    "    [top_phrases.append(a) for a in df.iloc[p]['KW_RAKE_Title']]\n",
    "    [top_phrases.append(a) for a in df.iloc[p]['KW_RAKE_EligibilityCriteria']]\n",
    "    \n",
    "from collections import Counter\n",
    "Counter = Counter(top_phrases)\n",
    "clintrials_phrases = Counter.most_common(100)\n",
    "print(clintrials_phrases)"
   ]
  },
  {
   "cell_type": "code",
   "execution_count": 19,
   "id": "05fc0e67",
   "metadata": {},
   "outputs": [],
   "source": [
    "#Write most popular phrases to text file\n",
    "textfile = open(\"rake_output/rake_mostcommonphrases_clintrials.txt\", \"w\")\n",
    "for element in clintrials_phrases:\n",
    "    textfile.write(element[0] + \"\\n\")\n",
    "textfile.close()"
   ]
  },
  {
   "cell_type": "markdown",
   "id": "25c356bd",
   "metadata": {},
   "source": [
    "## NIH Data"
   ]
  },
  {
   "cell_type": "code",
   "execution_count": 26,
   "id": "b1513718",
   "metadata": {},
   "outputs": [],
   "source": [
    "# Read data - NIH\n",
    "df = pd.read_csv('Raw_data/pacemaker_data.csv')"
   ]
  },
  {
   "cell_type": "code",
   "execution_count": 7,
   "id": "12cf6b8e",
   "metadata": {},
   "outputs": [
    {
     "data": {
      "text/plain": [
       "Index(['Unnamed: 0', 'APPLICATION_ID', 'ACTIVITY', 'ADMINISTERING_IC',\n",
       "       'APPLICATION_TYPE', 'ARRA_FUNDED', 'AWARD_NOTICE_DATE', 'BUDGET_START',\n",
       "       'BUDGET_END', 'CFDA_CODE', 'CORE_PROJECT_NUM', 'ED_INST_TYPE',\n",
       "       'FOA_NUMBER', 'FULL_PROJECT_NUM', 'FUNDING_ICs', 'FUNDING_MECHANISM',\n",
       "       'FY', 'IC_NAME', 'NIH_SPENDING_CATS', 'ORG_CITY', 'ORG_COUNTRY',\n",
       "       'ORG_DEPT', 'ORG_DISTRICT', 'ORG_DUNS', 'ORG_FIPS', 'ORG_IPF_CODE',\n",
       "       'ORG_NAME', 'ORG_STATE', 'ORG_ZIPCODE', 'PHR', 'PI_IDS', 'PI_NAMEs',\n",
       "       'PROGRAM_OFFICER_NAME', 'PROJECT_START', 'PROJECT_END', 'PROJECT_TERMS',\n",
       "       'PROJECT_TITLE', 'SERIAL_NUMBER', 'STUDY_SECTION', 'STUDY_SECTION_NAME',\n",
       "       'SUBPROJECT_ID', 'SUFFIX', 'SUPPORT_YEAR', 'DIRECT_COST_AMT',\n",
       "       'INDIRECT_COST_AMT', 'TOTAL_COST', 'TOTAL_COST_SUB_PROJECT'],\n",
       "      dtype='object')"
      ]
     },
     "execution_count": 7,
     "metadata": {},
     "output_type": "execute_result"
    }
   ],
   "source": [
    "df.keys()"
   ]
  },
  {
   "cell_type": "code",
   "execution_count": 27,
   "id": "2abbbc5d",
   "metadata": {},
   "outputs": [],
   "source": [
    "# Extract keywords from NIH project terms and title\n",
    "df['KW_RAKE_Terms'] = df.apply(lambda row: top_10_phrases(row['PROJECT_TERMS']), axis=1)\n",
    "df['KW_RAKE_Title'] = df.apply(lambda row: top_10_phrases(row['PROJECT_TITLE']), axis=1)"
   ]
  },
  {
   "cell_type": "code",
   "execution_count": 9,
   "id": "fc96fd91",
   "metadata": {},
   "outputs": [],
   "source": [
    "df.to_csv('new_data/NIH_RAKE.csv')"
   ]
  },
  {
   "cell_type": "code",
   "execution_count": 29,
   "id": "54e3d605",
   "metadata": {
    "scrolled": true
   },
   "outputs": [
    {
     "data": {
      "text/html": [
       "<div>\n",
       "<style scoped>\n",
       "    .dataframe tbody tr th:only-of-type {\n",
       "        vertical-align: middle;\n",
       "    }\n",
       "\n",
       "    .dataframe tbody tr th {\n",
       "        vertical-align: top;\n",
       "    }\n",
       "\n",
       "    .dataframe thead th {\n",
       "        text-align: right;\n",
       "    }\n",
       "</style>\n",
       "<table border=\"1\" class=\"dataframe\">\n",
       "  <thead>\n",
       "    <tr style=\"text-align: right;\">\n",
       "      <th></th>\n",
       "      <th>Unnamed: 0</th>\n",
       "      <th>APPLICATION_ID</th>\n",
       "      <th>ACTIVITY</th>\n",
       "      <th>ADMINISTERING_IC</th>\n",
       "      <th>APPLICATION_TYPE</th>\n",
       "      <th>ARRA_FUNDED</th>\n",
       "      <th>AWARD_NOTICE_DATE</th>\n",
       "      <th>BUDGET_START</th>\n",
       "      <th>BUDGET_END</th>\n",
       "      <th>CFDA_CODE</th>\n",
       "      <th>...</th>\n",
       "      <th>STUDY_SECTION_NAME</th>\n",
       "      <th>SUBPROJECT_ID</th>\n",
       "      <th>SUFFIX</th>\n",
       "      <th>SUPPORT_YEAR</th>\n",
       "      <th>DIRECT_COST_AMT</th>\n",
       "      <th>INDIRECT_COST_AMT</th>\n",
       "      <th>TOTAL_COST</th>\n",
       "      <th>TOTAL_COST_SUB_PROJECT</th>\n",
       "      <th>KW_RAKE_Terms</th>\n",
       "      <th>KW_RAKE_Title</th>\n",
       "    </tr>\n",
       "  </thead>\n",
       "  <tbody>\n",
       "    <tr>\n",
       "      <th>0</th>\n",
       "      <td>0</td>\n",
       "      <td>\"10351373</td>\n",
       "      <td>R21</td>\n",
       "      <td>AI</td>\n",
       "      <td>1.0</td>\n",
       "      <td>N</td>\n",
       "      <td>2021-09-22</td>\n",
       "      <td>2021-09-22</td>\n",
       "      <td>2022-08-31</td>\n",
       "      <td>855.0</td>\n",
       "      <td>...</td>\n",
       "      <td>Surgery, Anesthesiology and Trauma Study Section</td>\n",
       "      <td>NaN</td>\n",
       "      <td>NaN</td>\n",
       "      <td>1.0</td>\n",
       "      <td>150000.0</td>\n",
       "      <td>81750.0</td>\n",
       "      <td>231750.0</td>\n",
       "      <td>\"</td>\n",
       "      <td>[vascular cell adhesion molecule, intercellula...</td>\n",
       "      <td>[studying environmental factors, innovating or...</td>\n",
       "    </tr>\n",
       "    <tr>\n",
       "      <th>1</th>\n",
       "      <td>1</td>\n",
       "      <td>\"10298453</td>\n",
       "      <td>R56</td>\n",
       "      <td>HL</td>\n",
       "      <td>1.0</td>\n",
       "      <td>N</td>\n",
       "      <td>2021-09-21</td>\n",
       "      <td>2021-09-25</td>\n",
       "      <td>2022-08-31</td>\n",
       "      <td>837.0</td>\n",
       "      <td>...</td>\n",
       "      <td>Integrative Vascular Physiology and Pathology ...</td>\n",
       "      <td>NaN</td>\n",
       "      <td>A1</td>\n",
       "      <td>1.0</td>\n",
       "      <td>267355.0</td>\n",
       "      <td>140361.0</td>\n",
       "      <td>407716.0</td>\n",
       "      <td>\"</td>\n",
       "      <td>[blood pressure reduction, salt sensitive hype...</td>\n",
       "      <td>[blood pressure regulation, renin receptor, so...</td>\n",
       "    </tr>\n",
       "    <tr>\n",
       "      <th>2</th>\n",
       "      <td>2</td>\n",
       "      <td>\"10275251</td>\n",
       "      <td>R01</td>\n",
       "      <td>HL</td>\n",
       "      <td>1.0</td>\n",
       "      <td>N</td>\n",
       "      <td>2021-09-17</td>\n",
       "      <td>2021-09-20</td>\n",
       "      <td>2022-08-31</td>\n",
       "      <td>839.0</td>\n",
       "      <td>...</td>\n",
       "      <td>Basic Biology of Blood, Heart and Vasculature ...</td>\n",
       "      <td>NaN</td>\n",
       "      <td>NaN</td>\n",
       "      <td>1.0</td>\n",
       "      <td>355491.0</td>\n",
       "      <td>216850.0</td>\n",
       "      <td>572341.0</td>\n",
       "      <td>\"</td>\n",
       "      <td>[severe acute respiratory syndrome, mass spect...</td>\n",
       "      <td>[hypertension augmented covid, induced interna...</td>\n",
       "    </tr>\n",
       "    <tr>\n",
       "      <th>3</th>\n",
       "      <td>3</td>\n",
       "      <td>\"10325868</td>\n",
       "      <td>R44</td>\n",
       "      <td>HL</td>\n",
       "      <td>1.0</td>\n",
       "      <td>N</td>\n",
       "      <td>2021-09-20</td>\n",
       "      <td>2021-09-20</td>\n",
       "      <td>2022-08-31</td>\n",
       "      <td>837.0</td>\n",
       "      <td>...</td>\n",
       "      <td>Special Emphasis Panel</td>\n",
       "      <td>NaN</td>\n",
       "      <td>A1</td>\n",
       "      <td>1.0</td>\n",
       "      <td>NaN</td>\n",
       "      <td>NaN</td>\n",
       "      <td>856873.0</td>\n",
       "      <td>\"</td>\n",
       "      <td>[small business innovation research grant, ope...</td>\n",
       "      <td>[treating myocardial ischemia, reperfusion inj...</td>\n",
       "    </tr>\n",
       "    <tr>\n",
       "      <th>4</th>\n",
       "      <td>4</td>\n",
       "      <td>\"10479415</td>\n",
       "      <td>R56</td>\n",
       "      <td>HL</td>\n",
       "      <td>1.0</td>\n",
       "      <td>N</td>\n",
       "      <td>2021-09-20</td>\n",
       "      <td>2021-09-21</td>\n",
       "      <td>2022-08-31</td>\n",
       "      <td>837.0</td>\n",
       "      <td>...</td>\n",
       "      <td>HIV Comorbidities and Clinical Studies Study S...</td>\n",
       "      <td>NaN</td>\n",
       "      <td>A1</td>\n",
       "      <td>1.0</td>\n",
       "      <td>507689.0</td>\n",
       "      <td>98034.0</td>\n",
       "      <td>605723.0</td>\n",
       "      <td>\"</td>\n",
       "      <td>[united states national institutes, magnetic r...</td>\n",
       "      <td>[exercise intolerance, diastolic dysfunction, ...</td>\n",
       "    </tr>\n",
       "    <tr>\n",
       "      <th>...</th>\n",
       "      <td>...</td>\n",
       "      <td>...</td>\n",
       "      <td>...</td>\n",
       "      <td>...</td>\n",
       "      <td>...</td>\n",
       "      <td>...</td>\n",
       "      <td>...</td>\n",
       "      <td>...</td>\n",
       "      <td>...</td>\n",
       "      <td>...</td>\n",
       "      <td>...</td>\n",
       "      <td>...</td>\n",
       "      <td>...</td>\n",
       "      <td>...</td>\n",
       "      <td>...</td>\n",
       "      <td>...</td>\n",
       "      <td>...</td>\n",
       "      <td>...</td>\n",
       "      <td>...</td>\n",
       "      <td>...</td>\n",
       "      <td>...</td>\n",
       "    </tr>\n",
       "    <tr>\n",
       "      <th>9359</th>\n",
       "      <td>9359</td>\n",
       "      <td>\"10251125</td>\n",
       "      <td>R44</td>\n",
       "      <td>HL</td>\n",
       "      <td>5.0</td>\n",
       "      <td>N</td>\n",
       "      <td>2021-09-17</td>\n",
       "      <td>2021-09-01</td>\n",
       "      <td>2022-08-31</td>\n",
       "      <td>837.0</td>\n",
       "      <td>...</td>\n",
       "      <td>Special Emphasis Panel</td>\n",
       "      <td>NaN</td>\n",
       "      <td>NaN</td>\n",
       "      <td>3.0</td>\n",
       "      <td>NaN</td>\n",
       "      <td>NaN</td>\n",
       "      <td>1044010.0</td>\n",
       "      <td>\"</td>\n",
       "      <td>[small business innovation research grant, uni...</td>\n",
       "      <td>[phase 2a clinical study, worsening heart fail...</td>\n",
       "    </tr>\n",
       "    <tr>\n",
       "      <th>9360</th>\n",
       "      <td>9360</td>\n",
       "      <td>\"10203600</td>\n",
       "      <td>U54</td>\n",
       "      <td>NS</td>\n",
       "      <td>1.0</td>\n",
       "      <td>N</td>\n",
       "      <td>2021-09-08</td>\n",
       "      <td>2021-09-15</td>\n",
       "      <td>2022-08-31</td>\n",
       "      <td>NaN</td>\n",
       "      <td>...</td>\n",
       "      <td>Special Emphasis Panel</td>\n",
       "      <td>7308.0</td>\n",
       "      <td>NaN</td>\n",
       "      <td>1.0</td>\n",
       "      <td>113355.0</td>\n",
       "      <td>63479.0</td>\n",
       "      <td>NaN</td>\n",
       "      <td>176834\"</td>\n",
       "      <td>[autonomic nervous system disorders, nervous s...</td>\n",
       "      <td>[autonomic biomarker core, care4kids]</td>\n",
       "    </tr>\n",
       "    <tr>\n",
       "      <th>9361</th>\n",
       "      <td>9361</td>\n",
       "      <td>\"10336561</td>\n",
       "      <td>R01</td>\n",
       "      <td>HL</td>\n",
       "      <td>7.0</td>\n",
       "      <td>N</td>\n",
       "      <td>2021-07-14</td>\n",
       "      <td>2021-09-10</td>\n",
       "      <td>2022-08-31</td>\n",
       "      <td>837.0</td>\n",
       "      <td>...</td>\n",
       "      <td>Hypertension and Microcirculation Study Section</td>\n",
       "      <td>NaN</td>\n",
       "      <td>NaN</td>\n",
       "      <td>4.0</td>\n",
       "      <td>308129.0</td>\n",
       "      <td>166390.0</td>\n",
       "      <td>474519.0</td>\n",
       "      <td>\"</td>\n",
       "      <td>[polymerase chain reaction, oncogene proteins ...</td>\n",
       "      <td>[cardiac dysfunction, treatment, sdkp, ischemi...</td>\n",
       "    </tr>\n",
       "    <tr>\n",
       "      <th>9362</th>\n",
       "      <td>9362</td>\n",
       "      <td>\"10389101</td>\n",
       "      <td>R37</td>\n",
       "      <td>GM</td>\n",
       "      <td>3.0</td>\n",
       "      <td>N</td>\n",
       "      <td>2021-09-13</td>\n",
       "      <td>2021-01-01</td>\n",
       "      <td>2021-12-31</td>\n",
       "      <td>859.0</td>\n",
       "      <td>...</td>\n",
       "      <td>NaN</td>\n",
       "      <td>NaN</td>\n",
       "      <td>S1</td>\n",
       "      <td>19.0</td>\n",
       "      <td>136061.0</td>\n",
       "      <td>NaN</td>\n",
       "      <td>136061.0</td>\n",
       "      <td>\"</td>\n",
       "      <td>[research project grants, therapy development,...</td>\n",
       "      <td>[circadian programs, bacteria]</td>\n",
       "    </tr>\n",
       "    <tr>\n",
       "      <th>9363</th>\n",
       "      <td>9363</td>\n",
       "      <td>\"10276899</td>\n",
       "      <td>R61</td>\n",
       "      <td>HL</td>\n",
       "      <td>1.0</td>\n",
       "      <td>N</td>\n",
       "      <td>2021-09-06</td>\n",
       "      <td>2021-09-15</td>\n",
       "      <td>2022-08-31</td>\n",
       "      <td>837.0</td>\n",
       "      <td>...</td>\n",
       "      <td>Special Emphasis Panel</td>\n",
       "      <td>NaN</td>\n",
       "      <td>NaN</td>\n",
       "      <td>1.0</td>\n",
       "      <td>250000.0</td>\n",
       "      <td>168750.0</td>\n",
       "      <td>418750.0</td>\n",
       "      <td>\"</td>\n",
       "      <td>[early phase clinical trial, gene therapy clin...</td>\n",
       "      <td>[op atrial fibrillation, g628s gene therapy, t...</td>\n",
       "    </tr>\n",
       "  </tbody>\n",
       "</table>\n",
       "<p>9364 rows × 49 columns</p>\n",
       "</div>"
      ],
      "text/plain": [
       "      Unnamed: 0 APPLICATION_ID ACTIVITY ADMINISTERING_IC  APPLICATION_TYPE  \\\n",
       "0              0      \"10351373      R21               AI               1.0   \n",
       "1              1      \"10298453      R56               HL               1.0   \n",
       "2              2      \"10275251      R01               HL               1.0   \n",
       "3              3      \"10325868      R44               HL               1.0   \n",
       "4              4      \"10479415      R56               HL               1.0   \n",
       "...          ...            ...      ...              ...               ...   \n",
       "9359        9359      \"10251125      R44               HL               5.0   \n",
       "9360        9360      \"10203600      U54               NS               1.0   \n",
       "9361        9361      \"10336561      R01               HL               7.0   \n",
       "9362        9362      \"10389101      R37               GM               3.0   \n",
       "9363        9363      \"10276899      R61               HL               1.0   \n",
       "\n",
       "     ARRA_FUNDED AWARD_NOTICE_DATE BUDGET_START BUDGET_END  CFDA_CODE  ...  \\\n",
       "0              N        2021-09-22   2021-09-22 2022-08-31      855.0  ...   \n",
       "1              N        2021-09-21   2021-09-25 2022-08-31      837.0  ...   \n",
       "2              N        2021-09-17   2021-09-20 2022-08-31      839.0  ...   \n",
       "3              N        2021-09-20   2021-09-20 2022-08-31      837.0  ...   \n",
       "4              N        2021-09-20   2021-09-21 2022-08-31      837.0  ...   \n",
       "...          ...               ...          ...        ...        ...  ...   \n",
       "9359           N        2021-09-17   2021-09-01 2022-08-31      837.0  ...   \n",
       "9360           N        2021-09-08   2021-09-15 2022-08-31        NaN  ...   \n",
       "9361           N        2021-07-14   2021-09-10 2022-08-31      837.0  ...   \n",
       "9362           N        2021-09-13   2021-01-01 2021-12-31      859.0  ...   \n",
       "9363           N        2021-09-06   2021-09-15 2022-08-31      837.0  ...   \n",
       "\n",
       "                                     STUDY_SECTION_NAME SUBPROJECT_ID SUFFIX  \\\n",
       "0     Surgery, Anesthesiology and Trauma Study Section            NaN    NaN   \n",
       "1     Integrative Vascular Physiology and Pathology ...           NaN     A1   \n",
       "2     Basic Biology of Blood, Heart and Vasculature ...           NaN    NaN   \n",
       "3                               Special Emphasis Panel            NaN     A1   \n",
       "4     HIV Comorbidities and Clinical Studies Study S...           NaN     A1   \n",
       "...                                                 ...           ...    ...   \n",
       "9359                            Special Emphasis Panel            NaN    NaN   \n",
       "9360                            Special Emphasis Panel         7308.0    NaN   \n",
       "9361   Hypertension and Microcirculation Study Section            NaN    NaN   \n",
       "9362                                                NaN           NaN     S1   \n",
       "9363                            Special Emphasis Panel            NaN    NaN   \n",
       "\n",
       "     SUPPORT_YEAR DIRECT_COST_AMT INDIRECT_COST_AMT  TOTAL_COST  \\\n",
       "0             1.0        150000.0           81750.0    231750.0   \n",
       "1             1.0        267355.0          140361.0    407716.0   \n",
       "2             1.0        355491.0          216850.0    572341.0   \n",
       "3             1.0             NaN               NaN    856873.0   \n",
       "4             1.0        507689.0           98034.0    605723.0   \n",
       "...           ...             ...               ...         ...   \n",
       "9359          3.0             NaN               NaN   1044010.0   \n",
       "9360          1.0        113355.0           63479.0         NaN   \n",
       "9361          4.0        308129.0          166390.0    474519.0   \n",
       "9362         19.0        136061.0               NaN    136061.0   \n",
       "9363          1.0        250000.0          168750.0    418750.0   \n",
       "\n",
       "     TOTAL_COST_SUB_PROJECT  \\\n",
       "0                         \"   \n",
       "1                         \"   \n",
       "2                         \"   \n",
       "3                         \"   \n",
       "4                         \"   \n",
       "...                     ...   \n",
       "9359                      \"   \n",
       "9360                176834\"   \n",
       "9361                      \"   \n",
       "9362                      \"   \n",
       "9363                      \"   \n",
       "\n",
       "                                          KW_RAKE_Terms  \\\n",
       "0     [vascular cell adhesion molecule, intercellula...   \n",
       "1     [blood pressure reduction, salt sensitive hype...   \n",
       "2     [severe acute respiratory syndrome, mass spect...   \n",
       "3     [small business innovation research grant, ope...   \n",
       "4     [united states national institutes, magnetic r...   \n",
       "...                                                 ...   \n",
       "9359  [small business innovation research grant, uni...   \n",
       "9360  [autonomic nervous system disorders, nervous s...   \n",
       "9361  [polymerase chain reaction, oncogene proteins ...   \n",
       "9362  [research project grants, therapy development,...   \n",
       "9363  [early phase clinical trial, gene therapy clin...   \n",
       "\n",
       "                                          KW_RAKE_Title  \n",
       "0     [studying environmental factors, innovating or...  \n",
       "1     [blood pressure regulation, renin receptor, so...  \n",
       "2     [hypertension augmented covid, induced interna...  \n",
       "3     [treating myocardial ischemia, reperfusion inj...  \n",
       "4     [exercise intolerance, diastolic dysfunction, ...  \n",
       "...                                                 ...  \n",
       "9359  [phase 2a clinical study, worsening heart fail...  \n",
       "9360              [autonomic biomarker core, care4kids]  \n",
       "9361  [cardiac dysfunction, treatment, sdkp, ischemi...  \n",
       "9362                     [circadian programs, bacteria]  \n",
       "9363  [op atrial fibrillation, g628s gene therapy, t...  \n",
       "\n",
       "[9364 rows x 49 columns]"
      ]
     },
     "execution_count": 29,
     "metadata": {},
     "output_type": "execute_result"
    }
   ],
   "source": [
    "df"
   ]
  },
  {
   "cell_type": "code",
   "execution_count": 32,
   "id": "c9a71fb8",
   "metadata": {},
   "outputs": [
    {
     "name": "stdout",
     "output_type": "stream",
     "text": [
      "[('public health relevance', 1300), ('coronary heart disease', 1110), ('signal transduction', 1058), ('united states national institutes', 1056), ('operative surgical procedures', 964), ('congenital heart disorder', 901), ('magnetic resonance imaging', 842), ('new therapeutic target', 760), ('heart rate variability', 757), ('heart failure', 711), ('induced pluripotent stem cell', 630), ('united states', 610), ('role', 570), ('cardiovascular risk factor', 551), ('novel therapeutic intervention', 547), ('dependent diabetes mellitus', 531), ('pathway interactions', 529), ('cardiovascular disorder risk', 496), ('mass spectrum analysis', 455), ('reactive oxygen species', 446), ('research project grants', 439), ('transcription factor', 406), ('sudden cardiac death', 402), ('fatty acid glycerol esters', 397), ('gene expression', 384), ('heart disease risk', 384), ('congestive heart failure', 374), ('congenital heart defects', 365), ('translational protein processing', 337), ('public health', 323), ('randomized controlled trials', 309), ('cell culture techniques', 299), ('regulation', 291), ('therapeutic target', 290), ('risk factors', 288), ('signal pathway', 288), ('left ventricular structure', 287), ('genome wide association study', 284), ('acute myocardial infarction', 280), ('research personnel', 271), ('cardiac surgery procedures', 271), ('wild type mouse', 266), ('candidate disease gene', 255), ('health care costs', 252), ('smooth muscle myocytes', 252), ('heart rate', 251), ('diabetes mellitus', 250), ('autonomic nervous system', 247), ('cardiovascular diseases', 245), ('functional disorder', 243), ('mutant strains mice', 242), ('mechanisms', 239), ('series research career programs', 238), ('national heart', 236), ('cardiovascular system', 236), ('gene expression regulation', 234), ('cell type', 231), ('mouse model', 225), ('environmental risk factor', 219), ('high fat diet', 216), ('stem cells', 213), ('myocardial infarction', 211), ('transcriptome sequencing', 207), ('transgenic mice', 206), ('dependent protein kinases', 201), ('clustered regularly interspaced short palindromic repeats', 199), ('congenital abnormality', 195), ('ray computed tomography', 195), ('randomized clinical trials', 193), ('heart function', 191), ('vascular diseases', 188), ('disease rate', 185), ('small molecule', 180), ('protocols documentation', 180), ('transgenic organisms', 178), ('electronic health record', 177), ('targeted treatment', 177), ('left ventricular ejection fraction', 177), ('arterial fatty streak', 176), ('left ventricular remodeling', 175), ('protein isoforms', 174), ('fatty acid oxidation', 174), ('development', 174), ('pharmaceutical preparations', 173), ('gene expression profile', 173), ('treatment efficacy', 173), ('chronic kidney failure', 171), ('heart diseases', 171), ('cell rna sequencing', 169), ('jet lag syndrome', 168), ('cell differentiation process', 167), ('gene expression profiling', 164), ('body mass index', 163), ('reperfusion therapy', 161), ('heart', 160), ('american heart association', 159), ('transforming growth factor beta', 159), ('specific qualifier value', 154), ('cardiovascular disorder prevention', 153), ('disease', 153)]\n"
     ]
    }
   ],
   "source": [
    "# Print list of most common phrases from abstract\n",
    "top_phrases = []\n",
    "for p in range(len(df)):\n",
    "    [top_phrases.append(a) for a in df.iloc[p]['KW_RAKE_Terms']]\n",
    "    [top_phrases.append(a) for a in df.iloc[p]['KW_RAKE_Title']]\n",
    "\n",
    "from collections import Counter\n",
    "Counter = Counter(top_phrases)\n",
    "nih_phrases = Counter.most_common(100)\n",
    "print(nih_phrases)"
   ]
  },
  {
   "cell_type": "code",
   "execution_count": 33,
   "id": "ff41fa9e",
   "metadata": {},
   "outputs": [],
   "source": [
    "#Write most popular phrases to text file\n",
    "textfile = open(\"rake_output/rake_mostcommonphrases_nih.txt\", \"w\")\n",
    "for element in nih_phrases:\n",
    "    textfile.write(element[0] + \"\\n\")\n",
    "textfile.close()"
   ]
  }
 ],
 "metadata": {
  "kernelspec": {
   "display_name": "Python 3",
   "language": "python",
   "name": "python3"
  },
  "language_info": {
   "codemirror_mode": {
    "name": "ipython",
    "version": 3
   },
   "file_extension": ".py",
   "mimetype": "text/x-python",
   "name": "python",
   "nbconvert_exporter": "python",
   "pygments_lexer": "ipython3",
   "version": "3.8.8"
  }
 },
 "nbformat": 4,
 "nbformat_minor": 5
}
